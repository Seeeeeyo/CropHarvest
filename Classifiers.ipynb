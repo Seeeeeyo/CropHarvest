{
  "nbformat": 4,
  "nbformat_minor": 0,
  "metadata": {
    "colab": {
      "name": "Classifiers.ipynb",
      "provenance": [],
      "mount_file_id": "https://github.com/Seeeeeyo/CropHarvest/blob/main/Classifiers.ipynb",
      "authorship_tag": "ABX9TyNUquhr30srJJJfbE1iT5ZX",
      "include_colab_link": true
    },
    "kernelspec": {
      "name": "python3",
      "display_name": "Python 3"
    },
    "language_info": {
      "name": "python"
    }
  },
  "cells": [
    {
      "cell_type": "markdown",
      "metadata": {
        "id": "view-in-github",
        "colab_type": "text"
      },
      "source": [
        "<a href=\"https://colab.research.google.com/github/Seeeeeyo/CropHarvest/blob/main/Classifiers.ipynb\" target=\"_parent\"><img src=\"https://colab.research.google.com/assets/colab-badge.svg\" alt=\"Open In Colab\"/></a>"
      ]
    },
    {
      "cell_type": "markdown",
      "metadata": {
        "id": "SXDQNDCNzNWC"
      },
      "source": [
        "<center><h1> IFT-6390 Machine Learning  </h1></center>\n",
        "<center><h2> Fall - 2021 </h2></center> \n",
        "<center><h3> Kaggle competition 2</h3></center> \n",
        "<center><h3> </h3></center> \n",
        "<center><h3>CropHarvest - crop vs. non-crop</h3></center> \n"
      ]
    },
    {
      "cell_type": "code",
      "source": [
        "pip install comet_ml"
      ],
      "metadata": {
        "id": "v9lHqE1C0peR"
      },
      "execution_count": null,
      "outputs": []
    },
    {
      "cell_type": "code",
      "source": [
        "import comet_ml\n",
        "from comet_ml import Experiment"
      ],
      "metadata": {
        "id": "UuDYPAEu0Dnx"
      },
      "execution_count": 1,
      "outputs": []
    },
    {
      "cell_type": "code",
      "metadata": {
        "id": "OgMd3ErXa5Cs"
      },
      "source": [
        "import numpy as np\n",
        "import pandas as pd\n",
        "import matplotlib.pyplot as plt\n",
        "import seaborn as sns\n",
        "%matplotlib inline"
      ],
      "execution_count": 2,
      "outputs": []
    },
    {
      "cell_type": "markdown",
      "metadata": {
        "id": "06Q7bfRrzipu"
      },
      "source": [
        "# Inspecting Dataset"
      ]
    },
    {
      "cell_type": "markdown",
      "metadata": {
        "id": "TIb1PfLt6dA9"
      },
      "source": [
        "#### Download the dataset files"
      ]
    },
    {
      "cell_type": "code",
      "metadata": {
        "colab": {
          "base_uri": "https://localhost:8080/"
        },
        "id": "GmzJFnCWzSNX",
        "outputId": "fa42c979-bb34-418b-af06-cae7c5c62744"
      },
      "source": [
        "! pip install kaggle\n",
        "! mkdir ~/.kaggle\n",
        "! cp kaggle.json ~/.kaggle/\n",
        "! chmod 600 ~/.kaggle/kaggle.json"
      ],
      "execution_count": 3,
      "outputs": [
        {
          "output_type": "stream",
          "name": "stdout",
          "text": [
            "Requirement already satisfied: kaggle in /usr/local/lib/python3.7/dist-packages (1.5.12)\n",
            "Requirement already satisfied: requests in /usr/local/lib/python3.7/dist-packages (from kaggle) (2.23.0)\n",
            "Requirement already satisfied: certifi in /usr/local/lib/python3.7/dist-packages (from kaggle) (2021.10.8)\n",
            "Requirement already satisfied: python-slugify in /usr/local/lib/python3.7/dist-packages (from kaggle) (5.0.2)\n",
            "Requirement already satisfied: python-dateutil in /usr/local/lib/python3.7/dist-packages (from kaggle) (2.8.2)\n",
            "Requirement already satisfied: six>=1.10 in /usr/local/lib/python3.7/dist-packages (from kaggle) (1.15.0)\n",
            "Requirement already satisfied: tqdm in /usr/local/lib/python3.7/dist-packages (from kaggle) (4.62.3)\n",
            "Requirement already satisfied: urllib3 in /usr/local/lib/python3.7/dist-packages (from kaggle) (1.24.3)\n",
            "Requirement already satisfied: text-unidecode>=1.3 in /usr/local/lib/python3.7/dist-packages (from python-slugify->kaggle) (1.3)\n",
            "Requirement already satisfied: idna<3,>=2.5 in /usr/local/lib/python3.7/dist-packages (from requests->kaggle) (2.10)\n",
            "Requirement already satisfied: chardet<4,>=3.0.2 in /usr/local/lib/python3.7/dist-packages (from requests->kaggle) (3.0.4)\n",
            "mkdir: cannot create directory ‘/root/.kaggle’: File exists\n"
          ]
        }
      ]
    },
    {
      "cell_type": "code",
      "metadata": {
        "colab": {
          "base_uri": "https://localhost:8080/"
        },
        "id": "jQiaF8E_0qgQ",
        "outputId": "835710e5-7645-471e-b3a5-7d2363a97a3b"
      },
      "source": [
        "! kaggle competitions download cropharvest-crop-detection"
      ],
      "execution_count": 4,
      "outputs": [
        {
          "output_type": "stream",
          "name": "stdout",
          "text": [
            "Warning: Looks like you're using an outdated API Version, please consider updating (server 1.5.12 / client 1.5.4)\n",
            "train.csv.zip: Skipping, found more recently modified local copy (use --force to force download)\n",
            "test_nolabels.csv.zip: Skipping, found more recently modified local copy (use --force to force download)\n"
          ]
        }
      ]
    },
    {
      "cell_type": "code",
      "metadata": {
        "colab": {
          "base_uri": "https://localhost:8080/"
        },
        "id": "F_XRxyPB05Pt",
        "outputId": "330553ef-c827-472d-d65b-8430312cfa64"
      },
      "source": [
        "! unzip test_nolabels.csv.zip\n",
        "! unzip train.csv.zip"
      ],
      "execution_count": 5,
      "outputs": [
        {
          "output_type": "stream",
          "name": "stdout",
          "text": [
            "Archive:  test_nolabels.csv.zip\n",
            "replace test_nolabels.csv? [y]es, [n]o, [A]ll, [N]one, [r]ename: n\n",
            "Archive:  train.csv.zip\n",
            "replace train.csv? [y]es, [n]o, [A]ll, [N]one, [r]ename: n\n"
          ]
        }
      ]
    },
    {
      "cell_type": "markdown",
      "metadata": {
        "id": "b-PabWPJ6hPU"
      },
      "source": [
        "#### Load the data into DataFrames"
      ]
    },
    {
      "cell_type": "code",
      "metadata": {
        "id": "uco0Yke26hiE"
      },
      "source": [
        "df_train = pd.read_csv(\"train.csv\", index_col=0)\n",
        "df_test = pd.read_csv(\"test_nolabels.csv\", index_col=0) \n",
        "df_test.reset_index(drop=True, inplace=True)"
      ],
      "execution_count": 6,
      "outputs": []
    },
    {
      "cell_type": "markdown",
      "metadata": {
        "id": "ou1poDPCB_bo"
      },
      "source": [
        "#### Get DataFrame info"
      ]
    },
    {
      "cell_type": "code",
      "metadata": {
        "colab": {
          "base_uri": "https://localhost:8080/"
        },
        "id": "-6NHNwwW6lmm",
        "outputId": "522f6116-a2af-45cc-8aa7-7a76b0d4d46a"
      },
      "source": [
        "df_train.info()"
      ],
      "execution_count": 7,
      "outputs": [
        {
          "output_type": "stream",
          "name": "stdout",
          "text": [
            "<class 'pandas.core.frame.DataFrame'>\n",
            "Int64Index: 62000 entries, 0 to 61999\n",
            "Columns: 217 entries, S2_B2_jan to LABELS\n",
            "dtypes: float64(217)\n",
            "memory usage: 103.1 MB\n"
          ]
        }
      ]
    },
    {
      "cell_type": "code",
      "metadata": {
        "colab": {
          "base_uri": "https://localhost:8080/",
          "height": 256
        },
        "id": "iXvz1CB66qm4",
        "outputId": "6d4522c2-ee18-439d-a5e2-08417a31f6bb"
      },
      "source": [
        "df_train.head()"
      ],
      "execution_count": 8,
      "outputs": [
        {
          "output_type": "execute_result",
          "data": {
            "text/html": [
              "<div>\n",
              "<style scoped>\n",
              "    .dataframe tbody tr th:only-of-type {\n",
              "        vertical-align: middle;\n",
              "    }\n",
              "\n",
              "    .dataframe tbody tr th {\n",
              "        vertical-align: top;\n",
              "    }\n",
              "\n",
              "    .dataframe thead th {\n",
              "        text-align: right;\n",
              "    }\n",
              "</style>\n",
              "<table border=\"1\" class=\"dataframe\">\n",
              "  <thead>\n",
              "    <tr style=\"text-align: right;\">\n",
              "      <th></th>\n",
              "      <th>S2_B2_jan</th>\n",
              "      <th>S2_B3_jan</th>\n",
              "      <th>S2_B4_jan</th>\n",
              "      <th>S2_B5_jan</th>\n",
              "      <th>S2_B6_jan</th>\n",
              "      <th>S2_B7_jan</th>\n",
              "      <th>S2_B8_jan</th>\n",
              "      <th>S2_B8A_jan</th>\n",
              "      <th>S2_B9_jan</th>\n",
              "      <th>S2_B11_jan</th>\n",
              "      <th>S2_B12_jan</th>\n",
              "      <th>S1_VV_jan</th>\n",
              "      <th>S1_VH_jan</th>\n",
              "      <th>ERA5_temperature_2m_jan</th>\n",
              "      <th>ERA5_total_precipitation_jan</th>\n",
              "      <th>topo_elevation_jan</th>\n",
              "      <th>topo_slope_jan</th>\n",
              "      <th>NDVI_jan</th>\n",
              "      <th>S2_B2_feb</th>\n",
              "      <th>S2_B3_feb</th>\n",
              "      <th>S2_B4_feb</th>\n",
              "      <th>S2_B5_feb</th>\n",
              "      <th>S2_B6_feb</th>\n",
              "      <th>S2_B7_feb</th>\n",
              "      <th>S2_B8_feb</th>\n",
              "      <th>S2_B8A_feb</th>\n",
              "      <th>S2_B9_feb</th>\n",
              "      <th>S2_B11_feb</th>\n",
              "      <th>S2_B12_feb</th>\n",
              "      <th>S1_VV_feb</th>\n",
              "      <th>S1_VH_feb</th>\n",
              "      <th>ERA5_temperature_2m_feb</th>\n",
              "      <th>ERA5_total_precipitation_feb</th>\n",
              "      <th>topo_elevation_feb</th>\n",
              "      <th>topo_slope_feb</th>\n",
              "      <th>NDVI_feb</th>\n",
              "      <th>S2_B2_mar</th>\n",
              "      <th>S2_B3_mar</th>\n",
              "      <th>S2_B4_mar</th>\n",
              "      <th>S2_B5_mar</th>\n",
              "      <th>...</th>\n",
              "      <th>topo_elevation_oct</th>\n",
              "      <th>topo_slope_oct</th>\n",
              "      <th>NDVI_oct</th>\n",
              "      <th>S2_B2_nov</th>\n",
              "      <th>S2_B3_nov</th>\n",
              "      <th>S2_B4_nov</th>\n",
              "      <th>S2_B5_nov</th>\n",
              "      <th>S2_B6_nov</th>\n",
              "      <th>S2_B7_nov</th>\n",
              "      <th>S2_B8_nov</th>\n",
              "      <th>S2_B8A_nov</th>\n",
              "      <th>S2_B9_nov</th>\n",
              "      <th>S2_B11_nov</th>\n",
              "      <th>S2_B12_nov</th>\n",
              "      <th>S1_VV_nov</th>\n",
              "      <th>S1_VH_nov</th>\n",
              "      <th>ERA5_temperature_2m_nov</th>\n",
              "      <th>ERA5_total_precipitation_nov</th>\n",
              "      <th>topo_elevation_nov</th>\n",
              "      <th>topo_slope_nov</th>\n",
              "      <th>NDVI_nov</th>\n",
              "      <th>S2_B2_dec</th>\n",
              "      <th>S2_B3_dec</th>\n",
              "      <th>S2_B4_dec</th>\n",
              "      <th>S2_B5_dec</th>\n",
              "      <th>S2_B6_dec</th>\n",
              "      <th>S2_B7_dec</th>\n",
              "      <th>S2_B8_dec</th>\n",
              "      <th>S2_B8A_dec</th>\n",
              "      <th>S2_B9_dec</th>\n",
              "      <th>S2_B11_dec</th>\n",
              "      <th>S2_B12_dec</th>\n",
              "      <th>S1_VV_dec</th>\n",
              "      <th>S1_VH_dec</th>\n",
              "      <th>ERA5_temperature_2m_dec</th>\n",
              "      <th>ERA5_total_precipitation_dec</th>\n",
              "      <th>topo_elevation_dec</th>\n",
              "      <th>topo_slope_dec</th>\n",
              "      <th>NDVI_dec</th>\n",
              "      <th>LABELS</th>\n",
              "    </tr>\n",
              "  </thead>\n",
              "  <tbody>\n",
              "    <tr>\n",
              "      <th>0</th>\n",
              "      <td>-14.271277</td>\n",
              "      <td>-21.134172</td>\n",
              "      <td>957.531174</td>\n",
              "      <td>1019.557045</td>\n",
              "      <td>1230.022834</td>\n",
              "      <td>1435.138891</td>\n",
              "      <td>1693.702270</td>\n",
              "      <td>1805.411109</td>\n",
              "      <td>1891.557355</td>\n",
              "      <td>2020.567257</td>\n",
              "      <td>813.448973</td>\n",
              "      <td>2080.473917</td>\n",
              "      <td>1323.079548</td>\n",
              "      <td>281.709319</td>\n",
              "      <td>0.000211</td>\n",
              "      <td>1985.132508</td>\n",
              "      <td>0.889839</td>\n",
              "      <td>0.279574</td>\n",
              "      <td>-15.609204</td>\n",
              "      <td>-25.591754</td>\n",
              "      <td>1328.905608</td>\n",
              "      <td>1159.205172</td>\n",
              "      <td>1455.870367</td>\n",
              "      <td>1862.593978</td>\n",
              "      <td>1794.465460</td>\n",
              "      <td>2440.056316</td>\n",
              "      <td>2384.410237</td>\n",
              "      <td>2666.268567</td>\n",
              "      <td>890.697913</td>\n",
              "      <td>3067.634208</td>\n",
              "      <td>2142.679335</td>\n",
              "      <td>307.780824</td>\n",
              "      <td>-0.000013</td>\n",
              "      <td>1941.930728</td>\n",
              "      <td>1.109999</td>\n",
              "      <td>0.252091</td>\n",
              "      <td>-12.401028</td>\n",
              "      <td>-22.292052</td>\n",
              "      <td>1365.147087</td>\n",
              "      <td>1126.991171</td>\n",
              "      <td>...</td>\n",
              "      <td>2153.114868</td>\n",
              "      <td>0.931598</td>\n",
              "      <td>0.394108</td>\n",
              "      <td>-13.114028</td>\n",
              "      <td>-21.669927</td>\n",
              "      <td>988.092685</td>\n",
              "      <td>932.821140</td>\n",
              "      <td>1134.178887</td>\n",
              "      <td>1359.045039</td>\n",
              "      <td>1789.895844</td>\n",
              "      <td>2361.635270</td>\n",
              "      <td>2176.478381</td>\n",
              "      <td>2584.746245</td>\n",
              "      <td>908.633668</td>\n",
              "      <td>2821.974029</td>\n",
              "      <td>1892.935644</td>\n",
              "      <td>284.421910</td>\n",
              "      <td>-0.000055</td>\n",
              "      <td>1893.625493</td>\n",
              "      <td>1.139009</td>\n",
              "      <td>0.409155</td>\n",
              "      <td>-13.432464</td>\n",
              "      <td>-25.280693</td>\n",
              "      <td>1006.212319</td>\n",
              "      <td>1192.403744</td>\n",
              "      <td>1188.995346</td>\n",
              "      <td>1270.683646</td>\n",
              "      <td>1878.594972</td>\n",
              "      <td>2016.017317</td>\n",
              "      <td>1939.707676</td>\n",
              "      <td>2203.025469</td>\n",
              "      <td>795.862978</td>\n",
              "      <td>2747.777894</td>\n",
              "      <td>1688.997611</td>\n",
              "      <td>289.382220</td>\n",
              "      <td>0.000147</td>\n",
              "      <td>1886.384195</td>\n",
              "      <td>0.749163</td>\n",
              "      <td>0.307887</td>\n",
              "      <td>0.0</td>\n",
              "    </tr>\n",
              "    <tr>\n",
              "      <th>1</th>\n",
              "      <td>-12.341429</td>\n",
              "      <td>-14.744978</td>\n",
              "      <td>949.227883</td>\n",
              "      <td>895.845779</td>\n",
              "      <td>987.517322</td>\n",
              "      <td>1350.496916</td>\n",
              "      <td>1930.239804</td>\n",
              "      <td>2048.686546</td>\n",
              "      <td>2375.680146</td>\n",
              "      <td>2259.903290</td>\n",
              "      <td>1094.947052</td>\n",
              "      <td>1946.566875</td>\n",
              "      <td>1222.287890</td>\n",
              "      <td>261.859364</td>\n",
              "      <td>0.003898</td>\n",
              "      <td>106.947249</td>\n",
              "      <td>1.556351</td>\n",
              "      <td>0.385015</td>\n",
              "      <td>-12.132768</td>\n",
              "      <td>-17.236362</td>\n",
              "      <td>1117.105209</td>\n",
              "      <td>817.700059</td>\n",
              "      <td>845.368396</td>\n",
              "      <td>1314.277099</td>\n",
              "      <td>1679.637259</td>\n",
              "      <td>2290.518330</td>\n",
              "      <td>2520.145740</td>\n",
              "      <td>2532.510634</td>\n",
              "      <td>1187.911672</td>\n",
              "      <td>2402.228069</td>\n",
              "      <td>1505.895634</td>\n",
              "      <td>285.216476</td>\n",
              "      <td>0.001642</td>\n",
              "      <td>71.384372</td>\n",
              "      <td>1.721689</td>\n",
              "      <td>0.366103</td>\n",
              "      <td>-12.419310</td>\n",
              "      <td>-17.430682</td>\n",
              "      <td>1115.374275</td>\n",
              "      <td>830.366642</td>\n",
              "      <td>...</td>\n",
              "      <td>105.121547</td>\n",
              "      <td>1.550787</td>\n",
              "      <td>0.440589</td>\n",
              "      <td>-9.905274</td>\n",
              "      <td>-15.177714</td>\n",
              "      <td>1093.831057</td>\n",
              "      <td>808.702515</td>\n",
              "      <td>707.398286</td>\n",
              "      <td>960.143296</td>\n",
              "      <td>1674.463376</td>\n",
              "      <td>2112.860495</td>\n",
              "      <td>2174.426749</td>\n",
              "      <td>2324.012849</td>\n",
              "      <td>1128.248702</td>\n",
              "      <td>1408.210918</td>\n",
              "      <td>825.963181</td>\n",
              "      <td>267.866234</td>\n",
              "      <td>0.002012</td>\n",
              "      <td>56.298678</td>\n",
              "      <td>1.780384</td>\n",
              "      <td>0.421634</td>\n",
              "      <td>-11.457153</td>\n",
              "      <td>-21.862685</td>\n",
              "      <td>2820.559906</td>\n",
              "      <td>2623.351774</td>\n",
              "      <td>2494.619291</td>\n",
              "      <td>2324.743682</td>\n",
              "      <td>2941.385081</td>\n",
              "      <td>2929.446686</td>\n",
              "      <td>2816.650882</td>\n",
              "      <td>2922.382762</td>\n",
              "      <td>1140.796180</td>\n",
              "      <td>2528.590979</td>\n",
              "      <td>1934.261859</td>\n",
              "      <td>266.578370</td>\n",
              "      <td>0.002876</td>\n",
              "      <td>69.876216</td>\n",
              "      <td>1.385904</td>\n",
              "      <td>0.097779</td>\n",
              "      <td>1.0</td>\n",
              "    </tr>\n",
              "    <tr>\n",
              "      <th>2</th>\n",
              "      <td>-12.317847</td>\n",
              "      <td>-17.026201</td>\n",
              "      <td>1087.616069</td>\n",
              "      <td>1086.401035</td>\n",
              "      <td>1185.755955</td>\n",
              "      <td>1529.674085</td>\n",
              "      <td>1858.981635</td>\n",
              "      <td>1904.667487</td>\n",
              "      <td>2082.954737</td>\n",
              "      <td>2115.713139</td>\n",
              "      <td>901.358672</td>\n",
              "      <td>2089.401053</td>\n",
              "      <td>1264.965439</td>\n",
              "      <td>268.225405</td>\n",
              "      <td>0.001464</td>\n",
              "      <td>129.077506</td>\n",
              "      <td>2.330955</td>\n",
              "      <td>0.275852</td>\n",
              "      <td>-10.580486</td>\n",
              "      <td>-19.043943</td>\n",
              "      <td>1081.636242</td>\n",
              "      <td>864.645506</td>\n",
              "      <td>647.587432</td>\n",
              "      <td>1263.171837</td>\n",
              "      <td>2111.391293</td>\n",
              "      <td>2940.348843</td>\n",
              "      <td>2909.871161</td>\n",
              "      <td>3069.632334</td>\n",
              "      <td>1203.923188</td>\n",
              "      <td>2166.049964</td>\n",
              "      <td>1149.745776</td>\n",
              "      <td>293.552775</td>\n",
              "      <td>0.002461</td>\n",
              "      <td>93.424621</td>\n",
              "      <td>2.432580</td>\n",
              "      <td>0.440904</td>\n",
              "      <td>-13.189221</td>\n",
              "      <td>-19.967875</td>\n",
              "      <td>1033.570952</td>\n",
              "      <td>729.660783</td>\n",
              "      <td>...</td>\n",
              "      <td>129.252615</td>\n",
              "      <td>2.270394</td>\n",
              "      <td>0.265142</td>\n",
              "      <td>-6.025795</td>\n",
              "      <td>-18.733584</td>\n",
              "      <td>2962.198985</td>\n",
              "      <td>2647.390040</td>\n",
              "      <td>2791.033829</td>\n",
              "      <td>2628.365877</td>\n",
              "      <td>2562.475352</td>\n",
              "      <td>2809.212593</td>\n",
              "      <td>3511.064688</td>\n",
              "      <td>2698.878599</td>\n",
              "      <td>1742.518475</td>\n",
              "      <td>2734.875175</td>\n",
              "      <td>1952.939208</td>\n",
              "      <td>272.628444</td>\n",
              "      <td>0.003630</td>\n",
              "      <td>77.947509</td>\n",
              "      <td>2.525774</td>\n",
              "      <td>-0.029886</td>\n",
              "      <td>-8.543694</td>\n",
              "      <td>-19.620957</td>\n",
              "      <td>1198.922684</td>\n",
              "      <td>1145.868849</td>\n",
              "      <td>789.355634</td>\n",
              "      <td>1016.318463</td>\n",
              "      <td>2352.125830</td>\n",
              "      <td>2482.511759</td>\n",
              "      <td>2425.676203</td>\n",
              "      <td>2548.726966</td>\n",
              "      <td>521.102434</td>\n",
              "      <td>1556.082048</td>\n",
              "      <td>741.212901</td>\n",
              "      <td>276.467873</td>\n",
              "      <td>0.001622</td>\n",
              "      <td>91.279743</td>\n",
              "      <td>2.125908</td>\n",
              "      <td>0.418492</td>\n",
              "      <td>1.0</td>\n",
              "    </tr>\n",
              "    <tr>\n",
              "      <th>3</th>\n",
              "      <td>-15.332478</td>\n",
              "      <td>-20.978203</td>\n",
              "      <td>2987.224569</td>\n",
              "      <td>3163.553102</td>\n",
              "      <td>3412.572434</td>\n",
              "      <td>3908.443371</td>\n",
              "      <td>4044.232162</td>\n",
              "      <td>4231.353770</td>\n",
              "      <td>3682.709329</td>\n",
              "      <td>4518.882323</td>\n",
              "      <td>2121.807152</td>\n",
              "      <td>3491.953331</td>\n",
              "      <td>2794.092937</td>\n",
              "      <td>270.616801</td>\n",
              "      <td>0.000489</td>\n",
              "      <td>828.586052</td>\n",
              "      <td>8.927409</td>\n",
              "      <td>0.158648</td>\n",
              "      <td>-16.562082</td>\n",
              "      <td>-25.124176</td>\n",
              "      <td>1813.310348</td>\n",
              "      <td>1869.830367</td>\n",
              "      <td>2342.723821</td>\n",
              "      <td>2973.068745</td>\n",
              "      <td>2963.875853</td>\n",
              "      <td>3895.852592</td>\n",
              "      <td>3773.642543</td>\n",
              "      <td>3985.038188</td>\n",
              "      <td>1741.309682</td>\n",
              "      <td>4651.054373</td>\n",
              "      <td>3600.954829</td>\n",
              "      <td>294.336540</td>\n",
              "      <td>0.001816</td>\n",
              "      <td>790.088146</td>\n",
              "      <td>8.486457</td>\n",
              "      <td>0.251300</td>\n",
              "      <td>-15.260078</td>\n",
              "      <td>-19.071758</td>\n",
              "      <td>1622.554876</td>\n",
              "      <td>1554.533316</td>\n",
              "      <td>...</td>\n",
              "      <td>892.004227</td>\n",
              "      <td>8.398495</td>\n",
              "      <td>0.372848</td>\n",
              "      <td>-11.797286</td>\n",
              "      <td>-18.450259</td>\n",
              "      <td>1827.209122</td>\n",
              "      <td>1492.798188</td>\n",
              "      <td>1447.611291</td>\n",
              "      <td>1691.140422</td>\n",
              "      <td>2202.544193</td>\n",
              "      <td>2726.649786</td>\n",
              "      <td>2534.488082</td>\n",
              "      <td>2714.620993</td>\n",
              "      <td>1528.339456</td>\n",
              "      <td>2124.121013</td>\n",
              "      <td>1549.278869</td>\n",
              "      <td>274.374922</td>\n",
              "      <td>0.004300</td>\n",
              "      <td>762.238797</td>\n",
              "      <td>8.873443</td>\n",
              "      <td>0.254933</td>\n",
              "      <td>-15.917843</td>\n",
              "      <td>-24.294730</td>\n",
              "      <td>1191.747298</td>\n",
              "      <td>1305.568149</td>\n",
              "      <td>1184.968749</td>\n",
              "      <td>1464.659972</td>\n",
              "      <td>2289.483855</td>\n",
              "      <td>2357.330861</td>\n",
              "      <td>2233.688637</td>\n",
              "      <td>2537.545246</td>\n",
              "      <td>1073.588565</td>\n",
              "      <td>2388.141112</td>\n",
              "      <td>1367.682434</td>\n",
              "      <td>276.101799</td>\n",
              "      <td>0.003720</td>\n",
              "      <td>767.817294</td>\n",
              "      <td>8.427714</td>\n",
              "      <td>0.336528</td>\n",
              "      <td>1.0</td>\n",
              "    </tr>\n",
              "    <tr>\n",
              "      <th>4</th>\n",
              "      <td>-11.739502</td>\n",
              "      <td>-11.374262</td>\n",
              "      <td>691.825857</td>\n",
              "      <td>782.111227</td>\n",
              "      <td>478.448214</td>\n",
              "      <td>976.753128</td>\n",
              "      <td>3189.134129</td>\n",
              "      <td>3813.893119</td>\n",
              "      <td>3861.824527</td>\n",
              "      <td>4174.591554</td>\n",
              "      <td>770.429333</td>\n",
              "      <td>1596.424758</td>\n",
              "      <td>570.320228</td>\n",
              "      <td>288.666184</td>\n",
              "      <td>0.004786</td>\n",
              "      <td>98.287583</td>\n",
              "      <td>1.365836</td>\n",
              "      <td>0.640834</td>\n",
              "      <td>-9.845578</td>\n",
              "      <td>-13.333764</td>\n",
              "      <td>859.701853</td>\n",
              "      <td>683.307212</td>\n",
              "      <td>348.658213</td>\n",
              "      <td>864.976666</td>\n",
              "      <td>2567.948218</td>\n",
              "      <td>3847.472655</td>\n",
              "      <td>3422.992494</td>\n",
              "      <td>4098.941428</td>\n",
              "      <td>501.417939</td>\n",
              "      <td>1682.398279</td>\n",
              "      <td>595.621498</td>\n",
              "      <td>308.869850</td>\n",
              "      <td>0.005768</td>\n",
              "      <td>62.759927</td>\n",
              "      <td>1.546844</td>\n",
              "      <td>0.600781</td>\n",
              "      <td>-8.216996</td>\n",
              "      <td>-11.952932</td>\n",
              "      <td>4256.621870</td>\n",
              "      <td>3095.332952</td>\n",
              "      <td>...</td>\n",
              "      <td>95.678954</td>\n",
              "      <td>1.373799</td>\n",
              "      <td>0.552871</td>\n",
              "      <td>-8.760197</td>\n",
              "      <td>-13.681736</td>\n",
              "      <td>2879.742457</td>\n",
              "      <td>2621.411724</td>\n",
              "      <td>2667.829267</td>\n",
              "      <td>2637.079750</td>\n",
              "      <td>3437.762490</td>\n",
              "      <td>4500.663790</td>\n",
              "      <td>4118.347620</td>\n",
              "      <td>4502.366578</td>\n",
              "      <td>1128.248702</td>\n",
              "      <td>3474.153255</td>\n",
              "      <td>2711.166061</td>\n",
              "      <td>291.598560</td>\n",
              "      <td>0.006982</td>\n",
              "      <td>47.827397</td>\n",
              "      <td>1.597055</td>\n",
              "      <td>0.226040</td>\n",
              "      <td>-7.858216</td>\n",
              "      <td>-13.274252</td>\n",
              "      <td>924.207908</td>\n",
              "      <td>1141.638404</td>\n",
              "      <td>595.072349</td>\n",
              "      <td>991.613931</td>\n",
              "      <td>3329.977668</td>\n",
              "      <td>3974.902784</td>\n",
              "      <td>3569.602117</td>\n",
              "      <td>4276.302643</td>\n",
              "      <td>371.861994</td>\n",
              "      <td>2080.641023</td>\n",
              "      <td>692.730434</td>\n",
              "      <td>298.663246</td>\n",
              "      <td>0.001763</td>\n",
              "      <td>61.500923</td>\n",
              "      <td>1.203899</td>\n",
              "      <td>0.595404</td>\n",
              "      <td>1.0</td>\n",
              "    </tr>\n",
              "  </tbody>\n",
              "</table>\n",
              "<p>5 rows × 217 columns</p>\n",
              "</div>"
            ],
            "text/plain": [
              "   S2_B2_jan  S2_B3_jan    S2_B4_jan  ...  topo_slope_dec  NDVI_dec  LABELS\n",
              "0 -14.271277 -21.134172   957.531174  ...        0.749163  0.307887     0.0\n",
              "1 -12.341429 -14.744978   949.227883  ...        1.385904  0.097779     1.0\n",
              "2 -12.317847 -17.026201  1087.616069  ...        2.125908  0.418492     1.0\n",
              "3 -15.332478 -20.978203  2987.224569  ...        8.427714  0.336528     1.0\n",
              "4 -11.739502 -11.374262   691.825857  ...        1.203899  0.595404     1.0\n",
              "\n",
              "[5 rows x 217 columns]"
            ]
          },
          "metadata": {},
          "execution_count": 8
        }
      ]
    },
    {
      "cell_type": "code",
      "metadata": {
        "colab": {
          "base_uri": "https://localhost:8080/",
          "height": 256
        },
        "id": "Kjg76m5j7cRv",
        "outputId": "b7e5c644-904c-4615-f780-8d003471c26e"
      },
      "source": [
        "df_test.head()"
      ],
      "execution_count": 9,
      "outputs": [
        {
          "output_type": "execute_result",
          "data": {
            "text/html": [
              "<div>\n",
              "<style scoped>\n",
              "    .dataframe tbody tr th:only-of-type {\n",
              "        vertical-align: middle;\n",
              "    }\n",
              "\n",
              "    .dataframe tbody tr th {\n",
              "        vertical-align: top;\n",
              "    }\n",
              "\n",
              "    .dataframe thead th {\n",
              "        text-align: right;\n",
              "    }\n",
              "</style>\n",
              "<table border=\"1\" class=\"dataframe\">\n",
              "  <thead>\n",
              "    <tr style=\"text-align: right;\">\n",
              "      <th></th>\n",
              "      <th>S2_B2_jan</th>\n",
              "      <th>S2_B3_jan</th>\n",
              "      <th>S2_B4_jan</th>\n",
              "      <th>S2_B5_jan</th>\n",
              "      <th>S2_B6_jan</th>\n",
              "      <th>S2_B7_jan</th>\n",
              "      <th>S2_B8_jan</th>\n",
              "      <th>S2_B8A_jan</th>\n",
              "      <th>S2_B9_jan</th>\n",
              "      <th>S2_B11_jan</th>\n",
              "      <th>S2_B12_jan</th>\n",
              "      <th>S1_VV_jan</th>\n",
              "      <th>S1_VH_jan</th>\n",
              "      <th>ERA5_temperature_2m_jan</th>\n",
              "      <th>ERA5_total_precipitation_jan</th>\n",
              "      <th>topo_elevation_jan</th>\n",
              "      <th>topo_slope_jan</th>\n",
              "      <th>NDVI_jan</th>\n",
              "      <th>S2_B2_feb</th>\n",
              "      <th>S2_B3_feb</th>\n",
              "      <th>S2_B4_feb</th>\n",
              "      <th>S2_B5_feb</th>\n",
              "      <th>S2_B6_feb</th>\n",
              "      <th>S2_B7_feb</th>\n",
              "      <th>S2_B8_feb</th>\n",
              "      <th>S2_B8A_feb</th>\n",
              "      <th>S2_B9_feb</th>\n",
              "      <th>S2_B11_feb</th>\n",
              "      <th>S2_B12_feb</th>\n",
              "      <th>S1_VV_feb</th>\n",
              "      <th>S1_VH_feb</th>\n",
              "      <th>ERA5_temperature_2m_feb</th>\n",
              "      <th>ERA5_total_precipitation_feb</th>\n",
              "      <th>topo_elevation_feb</th>\n",
              "      <th>topo_slope_feb</th>\n",
              "      <th>NDVI_feb</th>\n",
              "      <th>S2_B2_mar</th>\n",
              "      <th>S2_B3_mar</th>\n",
              "      <th>S2_B4_mar</th>\n",
              "      <th>S2_B5_mar</th>\n",
              "      <th>...</th>\n",
              "      <th>ERA5_total_precipitation_oct</th>\n",
              "      <th>topo_elevation_oct</th>\n",
              "      <th>topo_slope_oct</th>\n",
              "      <th>NDVI_oct</th>\n",
              "      <th>S2_B2_nov</th>\n",
              "      <th>S2_B3_nov</th>\n",
              "      <th>S2_B4_nov</th>\n",
              "      <th>S2_B5_nov</th>\n",
              "      <th>S2_B6_nov</th>\n",
              "      <th>S2_B7_nov</th>\n",
              "      <th>S2_B8_nov</th>\n",
              "      <th>S2_B8A_nov</th>\n",
              "      <th>S2_B9_nov</th>\n",
              "      <th>S2_B11_nov</th>\n",
              "      <th>S2_B12_nov</th>\n",
              "      <th>S1_VV_nov</th>\n",
              "      <th>S1_VH_nov</th>\n",
              "      <th>ERA5_temperature_2m_nov</th>\n",
              "      <th>ERA5_total_precipitation_nov</th>\n",
              "      <th>topo_elevation_nov</th>\n",
              "      <th>topo_slope_nov</th>\n",
              "      <th>NDVI_nov</th>\n",
              "      <th>S2_B2_dec</th>\n",
              "      <th>S2_B3_dec</th>\n",
              "      <th>S2_B4_dec</th>\n",
              "      <th>S2_B5_dec</th>\n",
              "      <th>S2_B6_dec</th>\n",
              "      <th>S2_B7_dec</th>\n",
              "      <th>S2_B8_dec</th>\n",
              "      <th>S2_B8A_dec</th>\n",
              "      <th>S2_B9_dec</th>\n",
              "      <th>S2_B11_dec</th>\n",
              "      <th>S2_B12_dec</th>\n",
              "      <th>S1_VV_dec</th>\n",
              "      <th>S1_VH_dec</th>\n",
              "      <th>ERA5_temperature_2m_dec</th>\n",
              "      <th>ERA5_total_precipitation_dec</th>\n",
              "      <th>topo_elevation_dec</th>\n",
              "      <th>topo_slope_dec</th>\n",
              "      <th>NDVI_dec</th>\n",
              "    </tr>\n",
              "  </thead>\n",
              "  <tbody>\n",
              "    <tr>\n",
              "      <th>0</th>\n",
              "      <td>-17.649477</td>\n",
              "      <td>-24.327178</td>\n",
              "      <td>1111.603354</td>\n",
              "      <td>1190.158872</td>\n",
              "      <td>1361.861147</td>\n",
              "      <td>1436.238138</td>\n",
              "      <td>1350.277481</td>\n",
              "      <td>1382.111848</td>\n",
              "      <td>1419.716749</td>\n",
              "      <td>1410.456550</td>\n",
              "      <td>791.939153</td>\n",
              "      <td>1544.845749</td>\n",
              "      <td>954.418168</td>\n",
              "      <td>290.150951</td>\n",
              "      <td>-0.000014</td>\n",
              "      <td>320.552335</td>\n",
              "      <td>0.907441</td>\n",
              "      <td>0.090289</td>\n",
              "      <td>-17.090842</td>\n",
              "      <td>-31.772597</td>\n",
              "      <td>1494.089651</td>\n",
              "      <td>1310.167001</td>\n",
              "      <td>1471.223227</td>\n",
              "      <td>1727.377971</td>\n",
              "      <td>1557.460054</td>\n",
              "      <td>2079.405879</td>\n",
              "      <td>1872.317204</td>\n",
              "      <td>2209.610624</td>\n",
              "      <td>446.378354</td>\n",
              "      <td>2387.852010</td>\n",
              "      <td>1496.711254</td>\n",
              "      <td>318.351112</td>\n",
              "      <td>0.000239</td>\n",
              "      <td>284.120689</td>\n",
              "      <td>1.126154</td>\n",
              "      <td>0.127578</td>\n",
              "      <td>-17.328101</td>\n",
              "      <td>-26.790417</td>\n",
              "      <td>2341.333406</td>\n",
              "      <td>1943.624133</td>\n",
              "      <td>...</td>\n",
              "      <td>0.000057</td>\n",
              "      <td>338.038820</td>\n",
              "      <td>0.947951</td>\n",
              "      <td>0.079908</td>\n",
              "      <td>-16.683532</td>\n",
              "      <td>-26.353509</td>\n",
              "      <td>820.269397</td>\n",
              "      <td>621.081339</td>\n",
              "      <td>574.337359</td>\n",
              "      <td>532.195309</td>\n",
              "      <td>491.053353</td>\n",
              "      <td>556.117036</td>\n",
              "      <td>449.004636</td>\n",
              "      <td>585.462245</td>\n",
              "      <td>909.720871</td>\n",
              "      <td>651.937939</td>\n",
              "      <td>482.306406</td>\n",
              "      <td>292.225523</td>\n",
              "      <td>-0.000129</td>\n",
              "      <td>265.256953</td>\n",
              "      <td>1.155948</td>\n",
              "      <td>-0.118161</td>\n",
              "      <td>-18.158991</td>\n",
              "      <td>-32.178988</td>\n",
              "      <td>955.984617</td>\n",
              "      <td>1071.836061</td>\n",
              "      <td>864.854320</td>\n",
              "      <td>802.212518</td>\n",
              "      <td>929.409800</td>\n",
              "      <td>983.274904</td>\n",
              "      <td>777.782928</td>\n",
              "      <td>966.513644</td>\n",
              "      <td>467.731680</td>\n",
              "      <td>1045.355257</td>\n",
              "      <td>633.790963</td>\n",
              "      <td>296.952437</td>\n",
              "      <td>0.000092</td>\n",
              "      <td>276.466775</td>\n",
              "      <td>0.765980</td>\n",
              "      <td>0.000600</td>\n",
              "    </tr>\n",
              "    <tr>\n",
              "      <th>1</th>\n",
              "      <td>-14.559686</td>\n",
              "      <td>-19.936119</td>\n",
              "      <td>1764.795592</td>\n",
              "      <td>1856.603435</td>\n",
              "      <td>2156.740323</td>\n",
              "      <td>2633.317506</td>\n",
              "      <td>2731.894209</td>\n",
              "      <td>2878.742338</td>\n",
              "      <td>2621.323845</td>\n",
              "      <td>3201.553256</td>\n",
              "      <td>653.528138</td>\n",
              "      <td>3813.330232</td>\n",
              "      <td>2619.750610</td>\n",
              "      <td>290.769787</td>\n",
              "      <td>0.000277</td>\n",
              "      <td>228.182568</td>\n",
              "      <td>2.825683</td>\n",
              "      <td>0.224964</td>\n",
              "      <td>-14.098418</td>\n",
              "      <td>-21.872780</td>\n",
              "      <td>1379.575560</td>\n",
              "      <td>1109.498228</td>\n",
              "      <td>1249.058309</td>\n",
              "      <td>1512.309992</td>\n",
              "      <td>1588.693324</td>\n",
              "      <td>2272.925625</td>\n",
              "      <td>2039.929984</td>\n",
              "      <td>2556.545263</td>\n",
              "      <td>279.258159</td>\n",
              "      <td>3360.289686</td>\n",
              "      <td>2261.055792</td>\n",
              "      <td>315.500167</td>\n",
              "      <td>0.003192</td>\n",
              "      <td>192.126606</td>\n",
              "      <td>2.886615</td>\n",
              "      <td>0.239924</td>\n",
              "      <td>-14.720192</td>\n",
              "      <td>-20.933328</td>\n",
              "      <td>1497.123114</td>\n",
              "      <td>1148.047850</td>\n",
              "      <td>...</td>\n",
              "      <td>0.001278</td>\n",
              "      <td>237.317837</td>\n",
              "      <td>2.729996</td>\n",
              "      <td>0.451665</td>\n",
              "      <td>-9.539860</td>\n",
              "      <td>-14.687268</td>\n",
              "      <td>1130.693975</td>\n",
              "      <td>1005.945290</td>\n",
              "      <td>975.491411</td>\n",
              "      <td>1212.845614</td>\n",
              "      <td>1845.339785</td>\n",
              "      <td>2470.270542</td>\n",
              "      <td>2273.930878</td>\n",
              "      <td>2681.168407</td>\n",
              "      <td>624.873649</td>\n",
              "      <td>2374.795765</td>\n",
              "      <td>1423.816872</td>\n",
              "      <td>293.877027</td>\n",
              "      <td>-0.000032</td>\n",
              "      <td>174.896618</td>\n",
              "      <td>3.001843</td>\n",
              "      <td>0.395926</td>\n",
              "      <td>-12.003004</td>\n",
              "      <td>-15.907136</td>\n",
              "      <td>1449.036137</td>\n",
              "      <td>1499.111009</td>\n",
              "      <td>1406.431562</td>\n",
              "      <td>1419.825821</td>\n",
              "      <td>1976.273983</td>\n",
              "      <td>2110.880967</td>\n",
              "      <td>2026.702042</td>\n",
              "      <td>2292.479225</td>\n",
              "      <td>791.909589</td>\n",
              "      <td>2902.059945</td>\n",
              "      <td>1728.924349</td>\n",
              "      <td>298.468523</td>\n",
              "      <td>0.000139</td>\n",
              "      <td>187.130317</td>\n",
              "      <td>2.598537</td>\n",
              "      <td>0.217297</td>\n",
              "    </tr>\n",
              "    <tr>\n",
              "      <th>2</th>\n",
              "      <td>-14.208844</td>\n",
              "      <td>-21.404320</td>\n",
              "      <td>1210.320260</td>\n",
              "      <td>1246.028476</td>\n",
              "      <td>1523.531488</td>\n",
              "      <td>1706.652761</td>\n",
              "      <td>2014.364032</td>\n",
              "      <td>2198.544215</td>\n",
              "      <td>2277.422666</td>\n",
              "      <td>2547.302707</td>\n",
              "      <td>493.607303</td>\n",
              "      <td>3180.495470</td>\n",
              "      <td>1993.207870</td>\n",
              "      <td>290.758535</td>\n",
              "      <td>0.000193</td>\n",
              "      <td>370.585959</td>\n",
              "      <td>0.899931</td>\n",
              "      <td>0.279854</td>\n",
              "      <td>-12.988959</td>\n",
              "      <td>-19.602587</td>\n",
              "      <td>1290.396444</td>\n",
              "      <td>1030.335318</td>\n",
              "      <td>1091.917269</td>\n",
              "      <td>1399.452537</td>\n",
              "      <td>1618.089344</td>\n",
              "      <td>2313.608754</td>\n",
              "      <td>2176.693786</td>\n",
              "      <td>2625.514197</td>\n",
              "      <td>259.243765</td>\n",
              "      <td>2788.327927</td>\n",
              "      <td>1602.841871</td>\n",
              "      <td>315.668946</td>\n",
              "      <td>0.001630</td>\n",
              "      <td>333.950817</td>\n",
              "      <td>1.119261</td>\n",
              "      <td>0.278538</td>\n",
              "      <td>-9.789744</td>\n",
              "      <td>-17.073523</td>\n",
              "      <td>1251.713146</td>\n",
              "      <td>1028.116328</td>\n",
              "      <td>...</td>\n",
              "      <td>0.000276</td>\n",
              "      <td>392.596019</td>\n",
              "      <td>0.940974</td>\n",
              "      <td>0.422171</td>\n",
              "      <td>-12.628563</td>\n",
              "      <td>-19.290682</td>\n",
              "      <td>1139.424667</td>\n",
              "      <td>1063.674883</td>\n",
              "      <td>1069.126878</td>\n",
              "      <td>1311.602841</td>\n",
              "      <td>2152.553755</td>\n",
              "      <td>2921.106924</td>\n",
              "      <td>2645.276184</td>\n",
              "      <td>3101.293538</td>\n",
              "      <td>723.809135</td>\n",
              "      <td>2996.171738</td>\n",
              "      <td>1901.663436</td>\n",
              "      <td>293.381766</td>\n",
              "      <td>-0.000124</td>\n",
              "      <td>314.202135</td>\n",
              "      <td>1.148721</td>\n",
              "      <td>0.447757</td>\n",
              "      <td>-11.980708</td>\n",
              "      <td>-20.019002</td>\n",
              "      <td>1425.459868</td>\n",
              "      <td>1529.781735</td>\n",
              "      <td>1454.750721</td>\n",
              "      <td>1473.809798</td>\n",
              "      <td>2082.446821</td>\n",
              "      <td>2214.546398</td>\n",
              "      <td>2103.697056</td>\n",
              "      <td>2369.819453</td>\n",
              "      <td>893.709359</td>\n",
              "      <td>3217.008133</td>\n",
              "      <td>2158.612101</td>\n",
              "      <td>298.045025</td>\n",
              "      <td>0.000104</td>\n",
              "      <td>324.857357</td>\n",
              "      <td>0.758805</td>\n",
              "      <td>0.230539</td>\n",
              "    </tr>\n",
              "    <tr>\n",
              "      <th>3</th>\n",
              "      <td>-13.895412</td>\n",
              "      <td>-21.169488</td>\n",
              "      <td>1550.755198</td>\n",
              "      <td>1541.339240</td>\n",
              "      <td>1732.355678</td>\n",
              "      <td>1828.669115</td>\n",
              "      <td>1876.796177</td>\n",
              "      <td>2001.004560</td>\n",
              "      <td>1996.979443</td>\n",
              "      <td>2212.820792</td>\n",
              "      <td>536.626943</td>\n",
              "      <td>2766.871496</td>\n",
              "      <td>1886.968014</td>\n",
              "      <td>290.612265</td>\n",
              "      <td>0.000492</td>\n",
              "      <td>225.296013</td>\n",
              "      <td>1.291606</td>\n",
              "      <td>0.142753</td>\n",
              "      <td>-13.732596</td>\n",
              "      <td>-25.613399</td>\n",
              "      <td>1645.086108</td>\n",
              "      <td>1296.359517</td>\n",
              "      <td>1424.261537</td>\n",
              "      <td>1728.442664</td>\n",
              "      <td>1697.091146</td>\n",
              "      <td>2316.907386</td>\n",
              "      <td>2092.373246</td>\n",
              "      <td>2531.465651</td>\n",
              "      <td>490.410022</td>\n",
              "      <td>3146.702530</td>\n",
              "      <td>2261.055792</td>\n",
              "      <td>315.563205</td>\n",
              "      <td>0.002035</td>\n",
              "      <td>189.251791</td>\n",
              "      <td>1.478720</td>\n",
              "      <td>0.181046</td>\n",
              "      <td>-12.574171</td>\n",
              "      <td>-17.184522</td>\n",
              "      <td>1307.339406</td>\n",
              "      <td>1091.286366</td>\n",
              "      <td>...</td>\n",
              "      <td>0.001557</td>\n",
              "      <td>234.170306</td>\n",
              "      <td>1.304840</td>\n",
              "      <td>0.459526</td>\n",
              "      <td>-10.437747</td>\n",
              "      <td>-15.237973</td>\n",
              "      <td>1142.334897</td>\n",
              "      <td>1011.718249</td>\n",
              "      <td>1115.451793</td>\n",
              "      <td>1261.256019</td>\n",
              "      <td>1700.821971</td>\n",
              "      <td>2246.481880</td>\n",
              "      <td>2060.561200</td>\n",
              "      <td>2489.307983</td>\n",
              "      <td>590.083149</td>\n",
              "      <td>2802.854768</td>\n",
              "      <td>1765.291699</td>\n",
              "      <td>293.937982</td>\n",
              "      <td>0.000016</td>\n",
              "      <td>172.072858</td>\n",
              "      <td>1.525624</td>\n",
              "      <td>0.348237</td>\n",
              "      <td>-13.620376</td>\n",
              "      <td>-22.277632</td>\n",
              "      <td>1430.585144</td>\n",
              "      <td>1538.242625</td>\n",
              "      <td>1513.136372</td>\n",
              "      <td>1501.259279</td>\n",
              "      <td>2016.619661</td>\n",
              "      <td>2156.845828</td>\n",
              "      <td>2101.697185</td>\n",
              "      <td>2372.614882</td>\n",
              "      <td>841.326953</td>\n",
              "      <td>3259.568699</td>\n",
              "      <td>1979.892417</td>\n",
              "      <td>298.534272</td>\n",
              "      <td>0.000130</td>\n",
              "      <td>184.338553</td>\n",
              "      <td>1.132985</td>\n",
              "      <td>0.214938</td>\n",
              "    </tr>\n",
              "    <tr>\n",
              "      <th>4</th>\n",
              "      <td>-11.562658</td>\n",
              "      <td>-13.594914</td>\n",
              "      <td>1171.571568</td>\n",
              "      <td>1143.268311</td>\n",
              "      <td>1296.423152</td>\n",
              "      <td>1376.878830</td>\n",
              "      <td>1488.835033</td>\n",
              "      <td>1530.996415</td>\n",
              "      <td>1667.407479</td>\n",
              "      <td>1737.091382</td>\n",
              "      <td>507.635446</td>\n",
              "      <td>2191.567167</td>\n",
              "      <td>1551.903853</td>\n",
              "      <td>290.589762</td>\n",
              "      <td>0.000187</td>\n",
              "      <td>305.157374</td>\n",
              "      <td>0.901068</td>\n",
              "      <td>0.155692</td>\n",
              "      <td>-10.019630</td>\n",
              "      <td>-16.884091</td>\n",
              "      <td>1176.895752</td>\n",
              "      <td>948.410911</td>\n",
              "      <td>847.174615</td>\n",
              "      <td>1280.206924</td>\n",
              "      <td>1689.742141</td>\n",
              "      <td>2444.454492</td>\n",
              "      <td>2315.514186</td>\n",
              "      <td>2716.427792</td>\n",
              "      <td>240.230090</td>\n",
              "      <td>2203.016971</td>\n",
              "      <td>1248.732986</td>\n",
              "      <td>315.587607</td>\n",
              "      <td>0.001948</td>\n",
              "      <td>268.788342</td>\n",
              "      <td>1.120304</td>\n",
              "      <td>0.334847</td>\n",
              "      <td>-9.154138</td>\n",
              "      <td>-14.943727</td>\n",
              "      <td>1112.102142</td>\n",
              "      <td>891.705665</td>\n",
              "      <td>...</td>\n",
              "      <td>0.000281</td>\n",
              "      <td>321.251989</td>\n",
              "      <td>0.942030</td>\n",
              "      <td>0.378118</td>\n",
              "      <td>-9.362503</td>\n",
              "      <td>-14.318700</td>\n",
              "      <td>989.062762</td>\n",
              "      <td>839.491631</td>\n",
              "      <td>723.168470</td>\n",
              "      <td>914.637514</td>\n",
              "      <td>1593.569757</td>\n",
              "      <td>2133.501197</td>\n",
              "      <td>1983.625017</td>\n",
              "      <td>2356.481536</td>\n",
              "      <td>561.815867</td>\n",
              "      <td>1825.648110</td>\n",
              "      <td>962.334917</td>\n",
              "      <td>293.597014</td>\n",
              "      <td>-0.000127</td>\n",
              "      <td>250.196898</td>\n",
              "      <td>1.149815</td>\n",
              "      <td>0.409504</td>\n",
              "      <td>-10.946743</td>\n",
              "      <td>-17.536084</td>\n",
              "      <td>1274.776764</td>\n",
              "      <td>1355.275878</td>\n",
              "      <td>1253.420892</td>\n",
              "      <td>1285.323368</td>\n",
              "      <td>1787.286331</td>\n",
              "      <td>1916.263789</td>\n",
              "      <td>1926.708518</td>\n",
              "      <td>2116.367142</td>\n",
              "      <td>849.233731</td>\n",
              "      <td>2550.935276</td>\n",
              "      <td>1457.042276</td>\n",
              "      <td>298.389238</td>\n",
              "      <td>0.000113</td>\n",
              "      <td>261.577366</td>\n",
              "      <td>0.759891</td>\n",
              "      <td>0.220560</td>\n",
              "    </tr>\n",
              "  </tbody>\n",
              "</table>\n",
              "<p>5 rows × 216 columns</p>\n",
              "</div>"
            ],
            "text/plain": [
              "   S2_B2_jan  S2_B3_jan  ...  topo_slope_dec  NDVI_dec\n",
              "0 -17.649477 -24.327178  ...        0.765980  0.000600\n",
              "1 -14.559686 -19.936119  ...        2.598537  0.217297\n",
              "2 -14.208844 -21.404320  ...        0.758805  0.230539\n",
              "3 -13.895412 -21.169488  ...        1.132985  0.214938\n",
              "4 -11.562658 -13.594914  ...        0.759891  0.220560\n",
              "\n",
              "[5 rows x 216 columns]"
            ]
          },
          "metadata": {},
          "execution_count": 9
        }
      ]
    },
    {
      "cell_type": "code",
      "metadata": {
        "colab": {
          "base_uri": "https://localhost:8080/"
        },
        "id": "J3urkhtr6tSI",
        "outputId": "4a92ffcf-b666-43a9-bf49-856b0dcda22b"
      },
      "source": [
        "df_train.shape"
      ],
      "execution_count": 10,
      "outputs": [
        {
          "output_type": "execute_result",
          "data": {
            "text/plain": [
              "(62000, 217)"
            ]
          },
          "metadata": {},
          "execution_count": 10
        }
      ]
    },
    {
      "cell_type": "code",
      "metadata": {
        "colab": {
          "base_uri": "https://localhost:8080/"
        },
        "id": "CjlGzhfi7TZl",
        "outputId": "eab87497-29ed-425d-c17e-6eacc2f27e1b"
      },
      "source": [
        "df_test.shape"
      ],
      "execution_count": 11,
      "outputs": [
        {
          "output_type": "execute_result",
          "data": {
            "text/plain": [
              "(1200, 216)"
            ]
          },
          "metadata": {},
          "execution_count": 11
        }
      ]
    },
    {
      "cell_type": "markdown",
      "metadata": {
        "id": "wanPt-yw7Nq3"
      },
      "source": [
        "So we have 62000 train data and 1200 test data.\n",
        "Each consist of 216 features. The labels is the last column in the train set and it's binary."
      ]
    },
    {
      "cell_type": "markdown",
      "metadata": {
        "id": "1OW_f1w6CFQ9"
      },
      "source": [
        "#### Inspect for null values"
      ]
    },
    {
      "cell_type": "code",
      "metadata": {
        "colab": {
          "base_uri": "https://localhost:8080/"
        },
        "id": "ZBeLYqr97HV0",
        "outputId": "9c62fada-4802-48bb-8d72-70d3b453fbc2"
      },
      "source": [
        "df_train.isnull().sum().sum()"
      ],
      "execution_count": null,
      "outputs": [
        {
          "output_type": "execute_result",
          "data": {
            "text/plain": [
              "0"
            ]
          },
          "metadata": {},
          "execution_count": 63
        }
      ]
    },
    {
      "cell_type": "code",
      "metadata": {
        "colab": {
          "base_uri": "https://localhost:8080/"
        },
        "id": "etvAip5F8QSh",
        "outputId": "43888f9f-9c17-4c36-b9d4-71dfa3409aa9"
      },
      "source": [
        "df_test.isnull().sum().sum()"
      ],
      "execution_count": null,
      "outputs": [
        {
          "output_type": "execute_result",
          "data": {
            "text/plain": [
              "0"
            ]
          },
          "metadata": {},
          "execution_count": 64
        }
      ]
    },
    {
      "cell_type": "markdown",
      "metadata": {
        "id": "dnKeHlSt9GRs"
      },
      "source": [
        "#### Visualize the count of crops vs non-crop"
      ]
    },
    {
      "cell_type": "code",
      "metadata": {
        "colab": {
          "base_uri": "https://localhost:8080/"
        },
        "id": "FxseHUGqD5Ft",
        "outputId": "d789c631-c6ad-4ca7-c37f-6b2a1b3176f3"
      },
      "source": [
        "df_train['LABELS'].value_counts()"
      ],
      "execution_count": null,
      "outputs": [
        {
          "output_type": "execute_result",
          "data": {
            "text/plain": [
              "1.0    41217\n",
              "0.0    20783\n",
              "Name: LABELS, dtype: int64"
            ]
          },
          "metadata": {},
          "execution_count": 65
        }
      ]
    },
    {
      "cell_type": "code",
      "metadata": {
        "colab": {
          "base_uri": "https://localhost:8080/",
          "height": 279
        },
        "id": "SytpJp2o8Uu_",
        "outputId": "ec255547-9855-43bd-dfc8-589905d7502c"
      },
      "source": [
        "sns.countplot(x='LABELS', label=\"Count\", data=df_train);"
      ],
      "execution_count": null,
      "outputs": [
        {
          "output_type": "display_data",
          "data": {
            "image/png": "[encoded data removed]",
            "text/plain": [
              "<Figure size 432x288 with 1 Axes>"
            ]
          },
          "metadata": {
            "needs_background": "light"
          }
        }
      ]
    },
    {
      "cell_type": "code",
      "metadata": {
        "colab": {
          "base_uri": "https://localhost:8080/",
          "height": 301
        },
        "id": "d_vzMwf88i6u",
        "outputId": "25b1f0de-ed7d-4d30-b917-79ca19d519d1"
      },
      "source": [
        "(df_train[\"LABELS\"].value_counts(normalize=True)*100).plot(kind=\"bar\")\n",
        "plt.title(\"Histogram\")\n",
        "plt.ylabel(\"% of Lands\")\n",
        "plt.xlabel(\"Crop?\")\n",
        "plt.show();"
      ],
      "execution_count": null,
      "outputs": [
        {
          "output_type": "display_data",
          "data": {
            "image/png": "[encoded data removed]",
            "text/plain": [
              "<Figure size 432x288 with 1 Axes>"
            ]
          },
          "metadata": {
            "needs_background": "light"
          }
        }
      ]
    },
    {
      "cell_type": "markdown",
      "metadata": {
        "id": "SLt8YUNfsspU"
      },
      "source": [
        "#### Exploring outliers"
      ]
    },
    {
      "cell_type": "markdown",
      "metadata": {
        "id": "1xWnk3je-mmj"
      },
      "source": [
        "#### Remove the duplicates\n"
      ]
    },
    {
      "cell_type": "code",
      "metadata": {
        "colab": {
          "base_uri": "https://localhost:8080/"
        },
        "id": "vwiIADZ6-o7g",
        "outputId": "f6889e44-ae07-4698-91e7-e75437af0a55"
      },
      "source": [
        "remove_duplicates = True\n",
        "if remove_duplicates:\n",
        "  len1 = df_train.shape[0]\n",
        "  df_train = df_train.drop_duplicates() \n",
        "  len2 = df_train.shape[0]\n",
        "  print(\"There were\", (len1-len2), \"duplicate rows.\")\n",
        "  print(\"There is now\", len2, \"rows in total.\")"
      ],
      "execution_count": null,
      "outputs": [
        {
          "output_type": "stream",
          "name": "stdout",
          "text": [
            "There were 1894 duplicate rows.\n",
            "There is now 60106 rows in total.\n"
          ]
        }
      ]
    },
    {
      "cell_type": "code",
      "metadata": {
        "colab": {
          "base_uri": "https://localhost:8080/"
        },
        "id": "g8aLbkqK-yDO",
        "outputId": "e75e72df-98bd-40d5-9bd2-cd4868b3eed9"
      },
      "source": [
        "remove_duplicates_diff_labels = True\n",
        "header_x = list(df_train.columns)\n",
        "header_x.remove('LABELS')\n",
        "if remove_duplicates_diff_labels:  \n",
        "  len1 = df_train.shape[0]\n",
        "  # remove the rows with the same feature values but different labels\n",
        "  df_train = df_train.drop_duplicates(subset=header_x)\n",
        "  len2 = df_train.shape[0]\n",
        "  print(\"There were\", (len1-len2), \"rows with the same features values but different labels.\")\n",
        "  print(\"There is now\", len2, \"rows in total.\")"
      ],
      "execution_count": null,
      "outputs": [
        {
          "output_type": "stream",
          "name": "stdout",
          "text": [
            "There were 482 rows with the same features values but different labels.\n",
            "There is now 59624 rows in total.\n"
          ]
        }
      ]
    },
    {
      "cell_type": "code",
      "metadata": {
        "id": "u5-OQ4UnDrf4"
      },
      "source": [
        ""
      ],
      "execution_count": null,
      "outputs": []
    },
    {
      "cell_type": "markdown",
      "metadata": {
        "id": "ZJW8ntvYECRk"
      },
      "source": [
        "#### Dealing with the unbalalance"
      ]
    },
    {
      "cell_type": "code",
      "metadata": {
        "id": "YXV7j3nbEFe8"
      },
      "source": [
        "undersampling = False\n",
        "if undersampling:  \n",
        "  # Let's do undersampling to balance it\n",
        "  min_num_label = df_train['LABELS'].value_counts().min()\n",
        "  df_train = df_train.groupby('LABELS').apply(lambda x: x.sample(min_num_label)).reset_index(drop=True)\n",
        "  df_train.hist(column='LABELS')\n",
        "  df_train['LABELS'].value_counts()\n",
        "  # The data is now balanced"
      ],
      "execution_count": null,
      "outputs": []
    },
    {
      "cell_type": "code",
      "metadata": {
        "id": "njJJLjTGEMXC"
      },
      "source": [
        "oversampling = False\n",
        "if oversampling:\n",
        "  sm = SMOTE()\n",
        "  X = df_train.drop('LABELS', axis=1)\n",
        "  y = df_train['LABELS']\n",
        "  print(\"X before\", X.shape)\n",
        "  print(\"y before\", y.shape)\n",
        "  X, y = sm.fit_resample(X, y)\n",
        "  X = pd.DataFrame(X)\n",
        "  y = pd.DataFrame(y)\n",
        "  oversampled = pd.concat([X, y], axis=1)\n",
        "  print(\"X after\", X.shape)\n",
        "  print(\"y after\", y.shape)\n",
        "  oversampled = oversampled.set_axis([*oversampled.columns[:-1], 'LABELS'], axis=1, inplace=False)\n",
        "  df_train = oversampled\n",
        "  # The data is now balanced"
      ],
      "execution_count": null,
      "outputs": []
    },
    {
      "cell_type": "markdown",
      "metadata": {
        "id": "K3wk_fekFDyK"
      },
      "source": [
        "#### Data Standardization"
      ]
    },
    {
      "cell_type": "code",
      "metadata": {
        "id": "4J0C3_TdFDNr"
      },
      "source": [
        "# standardization = False\n",
        "# if standardization:\n",
        "#   # Standardization of training data\n",
        "#   for ind in header_x:\n",
        "#     df_train[ind] = (df_train[ind]-df_train[ind].mean())/df_train[ind].std()\n",
        "\n",
        "#   # Standardization of test data\n",
        "#   for ind in header_x:\n",
        "#     df_test[ind] = (df_test[ind]-df_test[ind].mean())/df_test[ind].std()\n",
        "\n",
        "# from sklearn.preprocessing import StandardScaler\n",
        "# # define standard scaler\n",
        "# scaler = StandardScaler()\n",
        "# # transform data\n",
        "# df_train[header_x] = scaler.fit_transform(df_train[header_x])"
      ],
      "execution_count": null,
      "outputs": []
    },
    {
      "cell_type": "markdown",
      "metadata": {
        "id": "rVbAcMqKEf6q"
      },
      "source": [
        "#### Convert to numpy "
      ]
    },
    {
      "cell_type": "markdown",
      "source": [
        "## Pipeline"
      ],
      "metadata": {
        "id": "yARt5qJOVjKw"
      }
    },
    {
      "cell_type": "code",
      "source": [
        "# split into X and y \n",
        "X = df_train.drop(['LABELS'], axis=1)\n",
        "y = df_train['LABELS']"
      ],
      "metadata": {
        "id": "V1ZuwJfwVmDh"
      },
      "execution_count": 12,
      "outputs": []
    },
    {
      "cell_type": "code",
      "source": [
        "# # define the pipeline\n",
        "# scaler = StandardScaler()\n",
        "# model = RandomForestClassifier()\n",
        "# pipeline = Pipeline(steps=[('scaler', scaler), ('model', model)])\n",
        "# # evaluate the pipeline\n",
        "# cv = RepeatedStratifiedKFold(n_splits=5, n_repeats=1, random_state=1)\n",
        "# n_scores = cross_val_score(pipeline, X, y, scoring='f1', cv=cv, n_jobs=-1, error_score='raise')\n",
        "# # report pipeline performance\n",
        "# print('f1: %.3f (%.3f)' % (mean(n_scores), std(n_scores)))"
      ],
      "metadata": {
        "id": "6v7Hhij6i4pv"
      },
      "execution_count": null,
      "outputs": []
    },
    {
      "cell_type": "markdown",
      "metadata": {
        "id": "zRj4CfvzFoiM"
      },
      "source": [
        "#### Split the training data into training and validation set\n"
      ]
    },
    {
      "cell_type": "code",
      "metadata": {
        "id": "z19n4xHxFtVx"
      },
      "source": [
        "# from sklearn.model_selection import train_test_split\n",
        "\n",
        "# X_train, X_test, y_train, y_test = train_test_split(df_train[header_x], df_train['LABELS'], \n",
        "#                                                     test_size=0.3, \n",
        "#                                                     shuffle=True, \n",
        "#                                                     random_state=76\n",
        "#                                                     )  "
      ],
      "execution_count": null,
      "outputs": []
    },
    {
      "cell_type": "code",
      "metadata": {
        "colab": {
          "base_uri": "https://localhost:8080/"
        },
        "id": "_L1W0cXhGywe",
        "outputId": "d7117b79-669b-4a9d-eb82-22242ed443ff"
      },
      "source": [
        "print(\"X_train.shape\", X_train.shape)\n",
        "print(\"X_test.shape\", X_test.shape)"
      ],
      "execution_count": null,
      "outputs": [
        {
          "output_type": "stream",
          "name": "stdout",
          "text": [
            "X_train.shape (41736, 216)\n",
            "X_test.shape (17888, 216)\n"
          ]
        }
      ]
    },
    {
      "cell_type": "code",
      "metadata": {
        "id": "LZpXNxeOEiIX"
      },
      "source": [
        "# train data (and validation if not simulation)\n",
        "train_data_np = df_train.to_numpy()\n",
        "\n",
        "# test data\n",
        "test_data_np = df_test.to_numpy()"
      ],
      "execution_count": null,
      "outputs": []
    },
    {
      "cell_type": "markdown",
      "metadata": {
        "id": "YKGCKQi1GaR-"
      },
      "source": [
        "### Models"
      ]
    },
    {
      "cell_type": "code",
      "metadata": {
        "id": "LlAAFFsUHLUl"
      },
      "source": [
        "# Machine Learning\n",
        "from sklearn.linear_model import LogisticRegression\n",
        "from sklearn.linear_model import Perceptron\n",
        "from sklearn.svm import SVC, LinearSVC\n",
        "from sklearn.neighbors import KNeighborsClassifier\n",
        "from sklearn.naive_bayes import GaussianNB\n",
        "from sklearn import tree\n",
        "\n",
        "from sklearn.preprocessing import LabelEncoder\n",
        "from sklearn.preprocessing import StandardScaler\n",
        "from sklearn.pipeline import Pipeline\n",
        "\n",
        "# Ensembling\n",
        "from sklearn.ensemble import RandomForestClassifier\n",
        "from sklearn.ensemble import ExtraTreesClassifier\n",
        "from sklearn.ensemble import BaggingClassifier\n",
        "from sklearn.ensemble import AdaBoostClassifier\n",
        "from sklearn.ensemble import VotingClassifier\n",
        "\n",
        "# Metrics\n",
        "from sklearn import preprocessing\n",
        "from sklearn.model_selection import RepeatedStratifiedKFold\n",
        "from sklearn.model_selection import cross_val_score\n",
        "from sklearn.metrics import f1_score\n",
        "from sklearn.model_selection import KFold\n",
        "from sklearn.model_selection import train_test_split\n",
        "from sklearn.model_selection import GridSearchCV\n",
        "from sklearn.metrics import confusion_matrix"
      ],
      "execution_count": 13,
      "outputs": []
    },
    {
      "cell_type": "code",
      "metadata": {
        "id": "Dmr37bX37XW3"
      },
      "source": [
        "result = pd.DataFrame(columns = (\"Classifiers\", \"Validation mean f1\",\"Validation std f1\"))\n",
        "classifier, val_mean_scores, val_std_scores = [],[],[]"
      ],
      "execution_count": 15,
      "outputs": []
    },
    {
      "cell_type": "code",
      "source": [
        "from sklearn.tree import DecisionTreeClassifier\n",
        "from sklearn.model_selection import cross_val_score\n",
        "import pickle\n",
        "API_KEY = 'kBRAlsKBa9qYcqfZ3kXA197dW'"
      ],
      "metadata": {
        "id": "lIIbMBlQzTqi"
      },
      "execution_count": 16,
      "outputs": []
    },
    {
      "cell_type": "markdown",
      "metadata": {
        "id": "VaTXpugfHQOw"
      },
      "source": [
        "#### Test a bunch of algos"
      ]
    },
    {
      "cell_type": "code",
      "metadata": {
        "colab": {
          "base_uri": "https://localhost:8080/"
        },
        "id": "u1_0wZNYGcv3",
        "outputId": "bf808513-dbf1-415d-e1ba-44545828ad90"
      },
      "source": [
        "models = [\n",
        "          DecisionTreeClassifier(), \n",
        "          # LogisticRegression(), \n",
        "          KNeighborsClassifier(), \n",
        "          SVC(),\n",
        "          SVC(kernel='rbf', degree=3), \n",
        "          # Perceptron(), \n",
        "          RandomForestClassifier(),\n",
        "          AdaBoostClassifier()\n",
        "          ]\n",
        "models_name = [\n",
        "               \"DecisionTreeClassifier\", \n",
        "              #  \"LogisticRegression\", \n",
        "               \"KNeighborsClassifier_5\", \n",
        "               \"SVMClassifier_degree_1\", \n",
        "               \"SVMClassifier_degree_3\", \n",
        "              #  \"PerceptronClassifier\", \n",
        "               \"RandomForestClassifier\",\n",
        "               \"AdaBoostClassifier\"\n",
        "               ]\n",
        "\n",
        "for i in range(len(models)):\n",
        "  n_scores = 0\n",
        "  # create an experiment in comet \n",
        "  experiment = Experiment(\n",
        "      api_key=API_KEY,\n",
        "      project_name=\"crop-harvest\",\n",
        "      workspace=\"selimgilon\")\n",
        "  # get the model name\n",
        "  model_name = models_name[i]\n",
        "  # set the name of the experiment \n",
        "  experiment.set_name(model_name)  \n",
        "  # used for tracking the simulation   \n",
        "  print(\"model:\", model_name)\n",
        "  model = models[i]\n",
        "  # define the pipeline\n",
        "  scaler = StandardScaler()\n",
        "  pipeline = Pipeline(steps=[('scaler', scaler), ('model', model)])\n",
        "  # evaluate the pipeline\n",
        "  cv = RepeatedStratifiedKFold(n_splits=3, n_repeats=1, random_state=1)\n",
        "  n_scores = cross_val_score(pipeline, X, y, scoring='f1', cv=cv, n_jobs=-1, error_score='raise')\n",
        "  # report pipeline performance\n",
        "  mean_f1 = np.mean(n_scores)\n",
        "  std_f1 = np.std(n_scores)\n",
        "  classifier.append(model_name)\n",
        "  val_mean_scores.append(mean_f1)\n",
        "  val_std_scores.append(std_f1)\n",
        "  print('f1___ mean: %.3f___std:(%.3f)' % (mean_f1, std_f1))\n",
        "  # dump the model \n",
        "  with open('model.pkl', 'wb') as f:\n",
        "    pickle.dump(model, f)\n",
        "  # log the model \n",
        "  experiment.log_model(model_name, \"model.pkl\")\n",
        "  experiment.add_tags([model_name])\n",
        "  experiment.log_metric(\"val_mean_f1\", mean_f1)\n",
        "  experiment.log_metric(\"val__std_f1\", std_f1)\n",
        "  experiment.log_parameters({\"model\": \"\"})\n",
        "  experiment.end()"
      ],
      "execution_count": 19,
      "outputs": [
        {
          "output_type": "stream",
          "name": "stderr",
          "text": [
            "COMET WARNING: As you are running in a Jupyter environment, you will need to call `experiment.end()` when finished to ensure all metrics and code are logged before exiting.\n",
            "COMET INFO: Couldn't find a Git repository in '/content' nor in any parent directory. You can override where Comet is looking for a Git Patch by setting the configuration `COMET_GIT_DIRECTORY`\n",
            "COMET INFO: Experiment is live on comet.ml https://www.comet.ml/selimgilon/crop-harvest/c5627e4a8c26463e881cfb59b2a3b37b\n",
            "\n"
          ]
        },
        {
          "output_type": "stream",
          "name": "stdout",
          "text": [
            "model: DecisionTreeClassifier\n",
            "f1___ mean: 0.827___std:(0.003)\n"
          ]
        },
        {
          "output_type": "stream",
          "name": "stderr",
          "text": [
            "COMET INFO: ---------------------------\n",
            "COMET INFO: Comet.ml Experiment Summary\n",
            "COMET INFO: ---------------------------\n",
            "COMET INFO:   Data:\n",
            "COMET INFO:     display_summary_level : 1\n",
            "COMET INFO:     url                   : https://www.comet.ml/selimgilon/crop-harvest/c5627e4a8c26463e881cfb59b2a3b37b\n",
            "COMET INFO:   Metrics:\n",
            "COMET INFO:     val__std_f1 : 0.00284216788437024\n",
            "COMET INFO:     val_mean_f1 : 0.8272341825458099\n",
            "COMET INFO:   Others:\n",
            "COMET INFO:     Name         : DecisionTreeClassifier\n",
            "COMET INFO:     notebook_url : https://colab.research.google.com/notebook#fileId=https%3A%2F%2Fgithub.com%2FSeeeeeyo%2FCropHarvest%2Fblob%2Fmain%2FClassifiers.ipynb\n",
            "COMET INFO:   Parameters:\n",
            "COMET INFO:     model : \n",
            "COMET INFO:   Uploads:\n",
            "COMET INFO:     environment details : 1\n",
            "COMET INFO:     filename            : 1\n",
            "COMET INFO:     installed packages  : 1\n",
            "COMET INFO:     model-element       : 1 (401 bytes)\n",
            "COMET INFO:     notebook            : 1\n",
            "COMET INFO:     os packages         : 1\n",
            "COMET INFO:     source_code         : 1\n",
            "COMET INFO: ---------------------------\n",
            "COMET INFO: Uploading 1 metrics, params and output messages\n",
            "COMET WARNING: As you are running in a Jupyter environment, you will need to call `experiment.end()` when finished to ensure all metrics and code are logged before exiting.\n",
            "COMET INFO: Couldn't find a Git repository in '/content' nor in any parent directory. You can override where Comet is looking for a Git Patch by setting the configuration `COMET_GIT_DIRECTORY`\n",
            "COMET INFO: Experiment is live on comet.ml https://www.comet.ml/selimgilon/crop-harvest/387d33218c8d411d9455c3c5a8a6f4af\n",
            "\n"
          ]
        },
        {
          "output_type": "stream",
          "name": "stdout",
          "text": [
            "model: KNeighborsClassifier_5\n"
          ]
        },
        {
          "output_type": "stream",
          "name": "stderr",
          "text": [
            "/usr/local/lib/python3.7/dist-packages/joblib/externals/loky/process_executor.py:705: UserWarning:\n",
            "\n",
            "A worker stopped while some jobs were given to the executor. This can be caused by a too short worker timeout or by a memory leak.\n",
            "\n"
          ]
        },
        {
          "output_type": "stream",
          "name": "stdout",
          "text": [
            "f1___ mean: 0.859___std:(0.002)\n"
          ]
        },
        {
          "output_type": "stream",
          "name": "stderr",
          "text": [
            "COMET INFO: ---------------------------\n",
            "COMET INFO: Comet.ml Experiment Summary\n",
            "COMET INFO: ---------------------------\n",
            "COMET INFO:   Data:\n",
            "COMET INFO:     display_summary_level : 1\n",
            "COMET INFO:     url                   : https://www.comet.ml/selimgilon/crop-harvest/387d33218c8d411d9455c3c5a8a6f4af\n",
            "COMET INFO:   Metrics:\n",
            "COMET INFO:     val__std_f1 : 0.001952444250142239\n",
            "COMET INFO:     val_mean_f1 : 0.858727108850867\n",
            "COMET INFO:   Others:\n",
            "COMET INFO:     Name         : KNeighborsClassifier_5\n",
            "COMET INFO:     notebook_url : https://colab.research.google.com/notebook#fileId=https%3A%2F%2Fgithub.com%2FSeeeeeyo%2FCropHarvest%2Fblob%2Fmain%2FClassifiers.ipynb\n",
            "COMET INFO:   Parameters:\n",
            "COMET INFO:     model : \n",
            "COMET INFO:   Uploads:\n",
            "COMET INFO:     environment details : 1\n",
            "COMET INFO:     filename            : 1\n",
            "COMET INFO:     installed packages  : 1\n",
            "COMET INFO:     model-element       : 1 (287 bytes)\n",
            "COMET INFO:     notebook            : 1\n",
            "COMET INFO:     os packages         : 1\n",
            "COMET INFO:     source_code         : 1\n",
            "COMET INFO: ---------------------------\n",
            "COMET INFO: Uploading 1 metrics, params and output messages\n",
            "COMET WARNING: As you are running in a Jupyter environment, you will need to call `experiment.end()` when finished to ensure all metrics and code are logged before exiting.\n",
            "COMET INFO: Couldn't find a Git repository in '/content' nor in any parent directory. You can override where Comet is looking for a Git Patch by setting the configuration `COMET_GIT_DIRECTORY`\n",
            "COMET INFO: Experiment is live on comet.ml https://www.comet.ml/selimgilon/crop-harvest/921cf79c1b844ca7a18bb6f42f910f8c\n",
            "\n"
          ]
        },
        {
          "output_type": "stream",
          "name": "stdout",
          "text": [
            "model: SVMClassifier_degree_1\n",
            "f1___ mean: 0.875___std:(0.002)\n"
          ]
        },
        {
          "output_type": "stream",
          "name": "stderr",
          "text": [
            "COMET INFO: ---------------------------\n",
            "COMET INFO: Comet.ml Experiment Summary\n",
            "COMET INFO: ---------------------------\n",
            "COMET INFO:   Data:\n",
            "COMET INFO:     display_summary_level : 1\n",
            "COMET INFO:     url                   : https://www.comet.ml/selimgilon/crop-harvest/921cf79c1b844ca7a18bb6f42f910f8c\n",
            "COMET INFO:   Metrics:\n",
            "COMET INFO:     val__std_f1 : 0.00225860440562866\n",
            "COMET INFO:     val_mean_f1 : 0.8747433615132901\n",
            "COMET INFO:   Others:\n",
            "COMET INFO:     Name         : SVMClassifier_degree_1\n",
            "COMET INFO:     notebook_url : https://colab.research.google.com/notebook#fileId=https%3A%2F%2Fgithub.com%2FSeeeeeyo%2FCropHarvest%2Fblob%2Fmain%2FClassifiers.ipynb\n",
            "COMET INFO:   Parameters:\n",
            "COMET INFO:     model : \n",
            "COMET INFO:   Uploads:\n",
            "COMET INFO:     environment details : 1\n",
            "COMET INFO:     filename            : 1\n",
            "COMET INFO:     installed packages  : 1\n",
            "COMET INFO:     model-element       : 1 (424 bytes)\n",
            "COMET INFO:     notebook            : 1\n",
            "COMET INFO:     os packages         : 1\n",
            "COMET INFO:     source_code         : 1\n",
            "COMET INFO: ---------------------------\n",
            "COMET INFO: Uploading 1 metrics, params and output messages\n",
            "COMET WARNING: As you are running in a Jupyter environment, you will need to call `experiment.end()` when finished to ensure all metrics and code are logged before exiting.\n",
            "COMET INFO: Couldn't find a Git repository in '/content' nor in any parent directory. You can override where Comet is looking for a Git Patch by setting the configuration `COMET_GIT_DIRECTORY`\n",
            "COMET INFO: Experiment is live on comet.ml https://www.comet.ml/selimgilon/crop-harvest/2581374d202c44e093007f6e176e43b1\n",
            "\n"
          ]
        },
        {
          "output_type": "stream",
          "name": "stdout",
          "text": [
            "model: SVMClassifier_degree_3\n",
            "f1___ mean: 0.875___std:(0.002)\n"
          ]
        },
        {
          "output_type": "stream",
          "name": "stderr",
          "text": [
            "COMET INFO: ---------------------------\n",
            "COMET INFO: Comet.ml Experiment Summary\n",
            "COMET INFO: ---------------------------\n",
            "COMET INFO:   Data:\n",
            "COMET INFO:     display_summary_level : 1\n",
            "COMET INFO:     url                   : https://www.comet.ml/selimgilon/crop-harvest/2581374d202c44e093007f6e176e43b1\n",
            "COMET INFO:   Metrics:\n",
            "COMET INFO:     val__std_f1 : 0.00225860440562866\n",
            "COMET INFO:     val_mean_f1 : 0.8747433615132901\n",
            "COMET INFO:   Others:\n",
            "COMET INFO:     Name         : SVMClassifier_degree_3\n",
            "COMET INFO:     notebook_url : https://colab.research.google.com/notebook#fileId=https%3A%2F%2Fgithub.com%2FSeeeeeyo%2FCropHarvest%2Fblob%2Fmain%2FClassifiers.ipynb\n",
            "COMET INFO:   Parameters:\n",
            "COMET INFO:     model : \n",
            "COMET INFO:   Uploads:\n",
            "COMET INFO:     environment details : 1\n",
            "COMET INFO:     filename            : 1\n",
            "COMET INFO:     installed packages  : 1\n",
            "COMET INFO:     model-element       : 1 (424 bytes)\n",
            "COMET INFO:     notebook            : 1\n",
            "COMET INFO:     os packages         : 1\n",
            "COMET INFO:     source_code         : 1\n",
            "COMET INFO: ---------------------------\n",
            "COMET INFO: Uploading 1 metrics, params and output messages\n",
            "COMET WARNING: As you are running in a Jupyter environment, you will need to call `experiment.end()` when finished to ensure all metrics and code are logged before exiting.\n",
            "COMET INFO: Couldn't find a Git repository in '/content' nor in any parent directory. You can override where Comet is looking for a Git Patch by setting the configuration `COMET_GIT_DIRECTORY`\n",
            "COMET INFO: Experiment is live on comet.ml https://www.comet.ml/selimgilon/crop-harvest/3c13492cb044438a8e52f588dc3fa846\n",
            "\n"
          ]
        },
        {
          "output_type": "stream",
          "name": "stdout",
          "text": [
            "model: RandomForestClassifier\n",
            "f1___ mean: 0.883___std:(0.002)\n"
          ]
        },
        {
          "output_type": "stream",
          "name": "stderr",
          "text": [
            "COMET INFO: ---------------------------\n",
            "COMET INFO: Comet.ml Experiment Summary\n",
            "COMET INFO: ---------------------------\n",
            "COMET INFO:   Data:\n",
            "COMET INFO:     display_summary_level : 1\n",
            "COMET INFO:     url                   : https://www.comet.ml/selimgilon/crop-harvest/3c13492cb044438a8e52f588dc3fa846\n",
            "COMET INFO:   Metrics:\n",
            "COMET INFO:     val__std_f1 : 0.0016090008613193708\n",
            "COMET INFO:     val_mean_f1 : 0.8832522353028159\n",
            "COMET INFO:   Others:\n",
            "COMET INFO:     Name         : RandomForestClassifier\n",
            "COMET INFO:     notebook_url : https://colab.research.google.com/notebook#fileId=https%3A%2F%2Fgithub.com%2FSeeeeeyo%2FCropHarvest%2Fblob%2Fmain%2FClassifiers.ipynb\n",
            "COMET INFO:   Parameters:\n",
            "COMET INFO:     model : \n",
            "COMET INFO:   Uploads:\n",
            "COMET INFO:     environment details : 1\n",
            "COMET INFO:     filename            : 1\n",
            "COMET INFO:     installed packages  : 1\n",
            "COMET INFO:     model-element       : 1 (726 bytes)\n",
            "COMET INFO:     notebook            : 1\n",
            "COMET INFO:     os packages         : 1\n",
            "COMET INFO:     source_code         : 1\n",
            "COMET INFO: ---------------------------\n",
            "COMET INFO: Uploading 1 metrics, params and output messages\n",
            "COMET WARNING: As you are running in a Jupyter environment, you will need to call `experiment.end()` when finished to ensure all metrics and code are logged before exiting.\n",
            "COMET INFO: Couldn't find a Git repository in '/content' nor in any parent directory. You can override where Comet is looking for a Git Patch by setting the configuration `COMET_GIT_DIRECTORY`\n",
            "COMET INFO: Experiment is live on comet.ml https://www.comet.ml/selimgilon/crop-harvest/e7f3399af5a14819bd64690d3f78da76\n",
            "\n"
          ]
        },
        {
          "output_type": "stream",
          "name": "stdout",
          "text": [
            "model: AdaBoostClassifier\n",
            "f1___ mean: 0.835___std:(0.003)\n"
          ]
        },
        {
          "output_type": "stream",
          "name": "stderr",
          "text": [
            "COMET INFO: ---------------------------\n",
            "COMET INFO: Comet.ml Experiment Summary\n",
            "COMET INFO: ---------------------------\n",
            "COMET INFO:   Data:\n",
            "COMET INFO:     display_summary_level : 1\n",
            "COMET INFO:     url                   : https://www.comet.ml/selimgilon/crop-harvest/e7f3399af5a14819bd64690d3f78da76\n",
            "COMET INFO:   Metrics:\n",
            "COMET INFO:     val__std_f1 : 0.002785034734070117\n",
            "COMET INFO:     val_mean_f1 : 0.835001872152838\n",
            "COMET INFO:   Others:\n",
            "COMET INFO:     Name         : AdaBoostClassifier\n",
            "COMET INFO:     notebook_url : https://colab.research.google.com/notebook#fileId=https%3A%2F%2Fgithub.com%2FSeeeeeyo%2FCropHarvest%2Fblob%2Fmain%2FClassifiers.ipynb\n",
            "COMET INFO:   Parameters:\n",
            "COMET INFO:     model : \n",
            "COMET INFO:   Uploads:\n",
            "COMET INFO:     environment details : 1\n",
            "COMET INFO:     filename            : 1\n",
            "COMET INFO:     installed packages  : 1\n",
            "COMET INFO:     model-element       : 1 (250 bytes)\n",
            "COMET INFO:     notebook            : 1\n",
            "COMET INFO:     os packages         : 1\n",
            "COMET INFO:     source_code         : 1\n",
            "COMET INFO: ---------------------------\n",
            "COMET INFO: Uploading 1 metrics, params and output messages\n"
          ]
        }
      ]
    },
    {
      "cell_type": "code",
      "source": [
        "for i, text in enumerate(classifier):\n",
        "    result.loc[i+1] = [text,np.around(val_mean_scores[i]*100, decimals = 1),np.around(val_std_scores[i], decimals=4)]\n",
        "result"
      ],
      "metadata": {
        "id": "0UdezYqTo1h2",
        "outputId": "bfebdeab-c49b-4155-cf1b-1b160fe81d2b",
        "colab": {
          "base_uri": "https://localhost:8080/",
          "height": 269
        }
      },
      "execution_count": 26,
      "outputs": [
        {
          "output_type": "execute_result",
          "data": {
            "text/html": [
              "<div>\n",
              "<style scoped>\n",
              "    .dataframe tbody tr th:only-of-type {\n",
              "        vertical-align: middle;\n",
              "    }\n",
              "\n",
              "    .dataframe tbody tr th {\n",
              "        vertical-align: top;\n",
              "    }\n",
              "\n",
              "    .dataframe thead th {\n",
              "        text-align: right;\n",
              "    }\n",
              "</style>\n",
              "<table border=\"1\" class=\"dataframe\">\n",
              "  <thead>\n",
              "    <tr style=\"text-align: right;\">\n",
              "      <th></th>\n",
              "      <th>Classifiers</th>\n",
              "      <th>Validation mean f1</th>\n",
              "      <th>Validation std f1</th>\n",
              "    </tr>\n",
              "  </thead>\n",
              "  <tbody>\n",
              "    <tr>\n",
              "      <th>1</th>\n",
              "      <td>AdaBoostClassifier</td>\n",
              "      <td>83.2</td>\n",
              "      <td>0.0014</td>\n",
              "    </tr>\n",
              "    <tr>\n",
              "      <th>2</th>\n",
              "      <td>DecisionTreeClassifier</td>\n",
              "      <td>82.7</td>\n",
              "      <td>0.0028</td>\n",
              "    </tr>\n",
              "    <tr>\n",
              "      <th>3</th>\n",
              "      <td>KNeighborsClassifier_5</td>\n",
              "      <td>85.9</td>\n",
              "      <td>0.0020</td>\n",
              "    </tr>\n",
              "    <tr>\n",
              "      <th>4</th>\n",
              "      <td>SVMClassifier_degree_1</td>\n",
              "      <td>87.5</td>\n",
              "      <td>0.0023</td>\n",
              "    </tr>\n",
              "    <tr>\n",
              "      <th>5</th>\n",
              "      <td>SVMClassifier_degree_3</td>\n",
              "      <td>87.5</td>\n",
              "      <td>0.0023</td>\n",
              "    </tr>\n",
              "    <tr>\n",
              "      <th>6</th>\n",
              "      <td>RandomForestClassifier</td>\n",
              "      <td>88.3</td>\n",
              "      <td>0.0016</td>\n",
              "    </tr>\n",
              "    <tr>\n",
              "      <th>7</th>\n",
              "      <td>AdaBoostClassifier</td>\n",
              "      <td>83.5</td>\n",
              "      <td>0.0028</td>\n",
              "    </tr>\n",
              "  </tbody>\n",
              "</table>\n",
              "</div>"
            ],
            "text/plain": [
              "              Classifiers  Validation mean f1  Validation std f1\n",
              "1      AdaBoostClassifier                83.2             0.0014\n",
              "2  DecisionTreeClassifier                82.7             0.0028\n",
              "3  KNeighborsClassifier_5                85.9             0.0020\n",
              "4  SVMClassifier_degree_1                87.5             0.0023\n",
              "5  SVMClassifier_degree_3                87.5             0.0023\n",
              "6  RandomForestClassifier                88.3             0.0016\n",
              "7      AdaBoostClassifier                83.5             0.0028"
            ]
          },
          "metadata": {},
          "execution_count": 26
        }
      ]
    },
    {
      "cell_type": "code",
      "source": [
        "df_test.head()"
      ],
      "metadata": {
        "id": "gHqV7fvZGiwM",
        "outputId": "96d28698-3018-4c7a-b1ee-17e4429b237f",
        "colab": {
          "base_uri": "https://localhost:8080/",
          "height": 256
        }
      },
      "execution_count": 34,
      "outputs": [
        {
          "output_type": "execute_result",
          "data": {
            "text/html": [
              "<div>\n",
              "<style scoped>\n",
              "    .dataframe tbody tr th:only-of-type {\n",
              "        vertical-align: middle;\n",
              "    }\n",
              "\n",
              "    .dataframe tbody tr th {\n",
              "        vertical-align: top;\n",
              "    }\n",
              "\n",
              "    .dataframe thead th {\n",
              "        text-align: right;\n",
              "    }\n",
              "</style>\n",
              "<table border=\"1\" class=\"dataframe\">\n",
              "  <thead>\n",
              "    <tr style=\"text-align: right;\">\n",
              "      <th></th>\n",
              "      <th>S2_B2_jan</th>\n",
              "      <th>S2_B3_jan</th>\n",
              "      <th>S2_B4_jan</th>\n",
              "      <th>S2_B5_jan</th>\n",
              "      <th>S2_B6_jan</th>\n",
              "      <th>S2_B7_jan</th>\n",
              "      <th>S2_B8_jan</th>\n",
              "      <th>S2_B8A_jan</th>\n",
              "      <th>S2_B9_jan</th>\n",
              "      <th>S2_B11_jan</th>\n",
              "      <th>S2_B12_jan</th>\n",
              "      <th>S1_VV_jan</th>\n",
              "      <th>S1_VH_jan</th>\n",
              "      <th>ERA5_temperature_2m_jan</th>\n",
              "      <th>ERA5_total_precipitation_jan</th>\n",
              "      <th>topo_elevation_jan</th>\n",
              "      <th>topo_slope_jan</th>\n",
              "      <th>NDVI_jan</th>\n",
              "      <th>S2_B2_feb</th>\n",
              "      <th>S2_B3_feb</th>\n",
              "      <th>S2_B4_feb</th>\n",
              "      <th>S2_B5_feb</th>\n",
              "      <th>S2_B6_feb</th>\n",
              "      <th>S2_B7_feb</th>\n",
              "      <th>S2_B8_feb</th>\n",
              "      <th>S2_B8A_feb</th>\n",
              "      <th>S2_B9_feb</th>\n",
              "      <th>S2_B11_feb</th>\n",
              "      <th>S2_B12_feb</th>\n",
              "      <th>S1_VV_feb</th>\n",
              "      <th>S1_VH_feb</th>\n",
              "      <th>ERA5_temperature_2m_feb</th>\n",
              "      <th>ERA5_total_precipitation_feb</th>\n",
              "      <th>topo_elevation_feb</th>\n",
              "      <th>topo_slope_feb</th>\n",
              "      <th>NDVI_feb</th>\n",
              "      <th>S2_B2_mar</th>\n",
              "      <th>S2_B3_mar</th>\n",
              "      <th>S2_B4_mar</th>\n",
              "      <th>S2_B5_mar</th>\n",
              "      <th>...</th>\n",
              "      <th>ERA5_total_precipitation_oct</th>\n",
              "      <th>topo_elevation_oct</th>\n",
              "      <th>topo_slope_oct</th>\n",
              "      <th>NDVI_oct</th>\n",
              "      <th>S2_B2_nov</th>\n",
              "      <th>S2_B3_nov</th>\n",
              "      <th>S2_B4_nov</th>\n",
              "      <th>S2_B5_nov</th>\n",
              "      <th>S2_B6_nov</th>\n",
              "      <th>S2_B7_nov</th>\n",
              "      <th>S2_B8_nov</th>\n",
              "      <th>S2_B8A_nov</th>\n",
              "      <th>S2_B9_nov</th>\n",
              "      <th>S2_B11_nov</th>\n",
              "      <th>S2_B12_nov</th>\n",
              "      <th>S1_VV_nov</th>\n",
              "      <th>S1_VH_nov</th>\n",
              "      <th>ERA5_temperature_2m_nov</th>\n",
              "      <th>ERA5_total_precipitation_nov</th>\n",
              "      <th>topo_elevation_nov</th>\n",
              "      <th>topo_slope_nov</th>\n",
              "      <th>NDVI_nov</th>\n",
              "      <th>S2_B2_dec</th>\n",
              "      <th>S2_B3_dec</th>\n",
              "      <th>S2_B4_dec</th>\n",
              "      <th>S2_B5_dec</th>\n",
              "      <th>S2_B6_dec</th>\n",
              "      <th>S2_B7_dec</th>\n",
              "      <th>S2_B8_dec</th>\n",
              "      <th>S2_B8A_dec</th>\n",
              "      <th>S2_B9_dec</th>\n",
              "      <th>S2_B11_dec</th>\n",
              "      <th>S2_B12_dec</th>\n",
              "      <th>S1_VV_dec</th>\n",
              "      <th>S1_VH_dec</th>\n",
              "      <th>ERA5_temperature_2m_dec</th>\n",
              "      <th>ERA5_total_precipitation_dec</th>\n",
              "      <th>topo_elevation_dec</th>\n",
              "      <th>topo_slope_dec</th>\n",
              "      <th>NDVI_dec</th>\n",
              "    </tr>\n",
              "  </thead>\n",
              "  <tbody>\n",
              "    <tr>\n",
              "      <th>0</th>\n",
              "      <td>-17.649477</td>\n",
              "      <td>-24.327178</td>\n",
              "      <td>1111.603354</td>\n",
              "      <td>1190.158872</td>\n",
              "      <td>1361.861147</td>\n",
              "      <td>1436.238138</td>\n",
              "      <td>1350.277481</td>\n",
              "      <td>1382.111848</td>\n",
              "      <td>1419.716749</td>\n",
              "      <td>1410.456550</td>\n",
              "      <td>791.939153</td>\n",
              "      <td>1544.845749</td>\n",
              "      <td>954.418168</td>\n",
              "      <td>290.150951</td>\n",
              "      <td>-0.000014</td>\n",
              "      <td>320.552335</td>\n",
              "      <td>0.907441</td>\n",
              "      <td>0.090289</td>\n",
              "      <td>-17.090842</td>\n",
              "      <td>-31.772597</td>\n",
              "      <td>1494.089651</td>\n",
              "      <td>1310.167001</td>\n",
              "      <td>1471.223227</td>\n",
              "      <td>1727.377971</td>\n",
              "      <td>1557.460054</td>\n",
              "      <td>2079.405879</td>\n",
              "      <td>1872.317204</td>\n",
              "      <td>2209.610624</td>\n",
              "      <td>446.378354</td>\n",
              "      <td>2387.852010</td>\n",
              "      <td>1496.711254</td>\n",
              "      <td>318.351112</td>\n",
              "      <td>0.000239</td>\n",
              "      <td>284.120689</td>\n",
              "      <td>1.126154</td>\n",
              "      <td>0.127578</td>\n",
              "      <td>-17.328101</td>\n",
              "      <td>-26.790417</td>\n",
              "      <td>2341.333406</td>\n",
              "      <td>1943.624133</td>\n",
              "      <td>...</td>\n",
              "      <td>0.000057</td>\n",
              "      <td>338.038820</td>\n",
              "      <td>0.947951</td>\n",
              "      <td>0.079908</td>\n",
              "      <td>-16.683532</td>\n",
              "      <td>-26.353509</td>\n",
              "      <td>820.269397</td>\n",
              "      <td>621.081339</td>\n",
              "      <td>574.337359</td>\n",
              "      <td>532.195309</td>\n",
              "      <td>491.053353</td>\n",
              "      <td>556.117036</td>\n",
              "      <td>449.004636</td>\n",
              "      <td>585.462245</td>\n",
              "      <td>909.720871</td>\n",
              "      <td>651.937939</td>\n",
              "      <td>482.306406</td>\n",
              "      <td>292.225523</td>\n",
              "      <td>-0.000129</td>\n",
              "      <td>265.256953</td>\n",
              "      <td>1.155948</td>\n",
              "      <td>-0.118161</td>\n",
              "      <td>-18.158991</td>\n",
              "      <td>-32.178988</td>\n",
              "      <td>955.984617</td>\n",
              "      <td>1071.836061</td>\n",
              "      <td>864.854320</td>\n",
              "      <td>802.212518</td>\n",
              "      <td>929.409800</td>\n",
              "      <td>983.274904</td>\n",
              "      <td>777.782928</td>\n",
              "      <td>966.513644</td>\n",
              "      <td>467.731680</td>\n",
              "      <td>1045.355257</td>\n",
              "      <td>633.790963</td>\n",
              "      <td>296.952437</td>\n",
              "      <td>0.000092</td>\n",
              "      <td>276.466775</td>\n",
              "      <td>0.765980</td>\n",
              "      <td>0.000600</td>\n",
              "    </tr>\n",
              "    <tr>\n",
              "      <th>1</th>\n",
              "      <td>-14.559686</td>\n",
              "      <td>-19.936119</td>\n",
              "      <td>1764.795592</td>\n",
              "      <td>1856.603435</td>\n",
              "      <td>2156.740323</td>\n",
              "      <td>2633.317506</td>\n",
              "      <td>2731.894209</td>\n",
              "      <td>2878.742338</td>\n",
              "      <td>2621.323845</td>\n",
              "      <td>3201.553256</td>\n",
              "      <td>653.528138</td>\n",
              "      <td>3813.330232</td>\n",
              "      <td>2619.750610</td>\n",
              "      <td>290.769787</td>\n",
              "      <td>0.000277</td>\n",
              "      <td>228.182568</td>\n",
              "      <td>2.825683</td>\n",
              "      <td>0.224964</td>\n",
              "      <td>-14.098418</td>\n",
              "      <td>-21.872780</td>\n",
              "      <td>1379.575560</td>\n",
              "      <td>1109.498228</td>\n",
              "      <td>1249.058309</td>\n",
              "      <td>1512.309992</td>\n",
              "      <td>1588.693324</td>\n",
              "      <td>2272.925625</td>\n",
              "      <td>2039.929984</td>\n",
              "      <td>2556.545263</td>\n",
              "      <td>279.258159</td>\n",
              "      <td>3360.289686</td>\n",
              "      <td>2261.055792</td>\n",
              "      <td>315.500167</td>\n",
              "      <td>0.003192</td>\n",
              "      <td>192.126606</td>\n",
              "      <td>2.886615</td>\n",
              "      <td>0.239924</td>\n",
              "      <td>-14.720192</td>\n",
              "      <td>-20.933328</td>\n",
              "      <td>1497.123114</td>\n",
              "      <td>1148.047850</td>\n",
              "      <td>...</td>\n",
              "      <td>0.001278</td>\n",
              "      <td>237.317837</td>\n",
              "      <td>2.729996</td>\n",
              "      <td>0.451665</td>\n",
              "      <td>-9.539860</td>\n",
              "      <td>-14.687268</td>\n",
              "      <td>1130.693975</td>\n",
              "      <td>1005.945290</td>\n",
              "      <td>975.491411</td>\n",
              "      <td>1212.845614</td>\n",
              "      <td>1845.339785</td>\n",
              "      <td>2470.270542</td>\n",
              "      <td>2273.930878</td>\n",
              "      <td>2681.168407</td>\n",
              "      <td>624.873649</td>\n",
              "      <td>2374.795765</td>\n",
              "      <td>1423.816872</td>\n",
              "      <td>293.877027</td>\n",
              "      <td>-0.000032</td>\n",
              "      <td>174.896618</td>\n",
              "      <td>3.001843</td>\n",
              "      <td>0.395926</td>\n",
              "      <td>-12.003004</td>\n",
              "      <td>-15.907136</td>\n",
              "      <td>1449.036137</td>\n",
              "      <td>1499.111009</td>\n",
              "      <td>1406.431562</td>\n",
              "      <td>1419.825821</td>\n",
              "      <td>1976.273983</td>\n",
              "      <td>2110.880967</td>\n",
              "      <td>2026.702042</td>\n",
              "      <td>2292.479225</td>\n",
              "      <td>791.909589</td>\n",
              "      <td>2902.059945</td>\n",
              "      <td>1728.924349</td>\n",
              "      <td>298.468523</td>\n",
              "      <td>0.000139</td>\n",
              "      <td>187.130317</td>\n",
              "      <td>2.598537</td>\n",
              "      <td>0.217297</td>\n",
              "    </tr>\n",
              "    <tr>\n",
              "      <th>2</th>\n",
              "      <td>-14.208844</td>\n",
              "      <td>-21.404320</td>\n",
              "      <td>1210.320260</td>\n",
              "      <td>1246.028476</td>\n",
              "      <td>1523.531488</td>\n",
              "      <td>1706.652761</td>\n",
              "      <td>2014.364032</td>\n",
              "      <td>2198.544215</td>\n",
              "      <td>2277.422666</td>\n",
              "      <td>2547.302707</td>\n",
              "      <td>493.607303</td>\n",
              "      <td>3180.495470</td>\n",
              "      <td>1993.207870</td>\n",
              "      <td>290.758535</td>\n",
              "      <td>0.000193</td>\n",
              "      <td>370.585959</td>\n",
              "      <td>0.899931</td>\n",
              "      <td>0.279854</td>\n",
              "      <td>-12.988959</td>\n",
              "      <td>-19.602587</td>\n",
              "      <td>1290.396444</td>\n",
              "      <td>1030.335318</td>\n",
              "      <td>1091.917269</td>\n",
              "      <td>1399.452537</td>\n",
              "      <td>1618.089344</td>\n",
              "      <td>2313.608754</td>\n",
              "      <td>2176.693786</td>\n",
              "      <td>2625.514197</td>\n",
              "      <td>259.243765</td>\n",
              "      <td>2788.327927</td>\n",
              "      <td>1602.841871</td>\n",
              "      <td>315.668946</td>\n",
              "      <td>0.001630</td>\n",
              "      <td>333.950817</td>\n",
              "      <td>1.119261</td>\n",
              "      <td>0.278538</td>\n",
              "      <td>-9.789744</td>\n",
              "      <td>-17.073523</td>\n",
              "      <td>1251.713146</td>\n",
              "      <td>1028.116328</td>\n",
              "      <td>...</td>\n",
              "      <td>0.000276</td>\n",
              "      <td>392.596019</td>\n",
              "      <td>0.940974</td>\n",
              "      <td>0.422171</td>\n",
              "      <td>-12.628563</td>\n",
              "      <td>-19.290682</td>\n",
              "      <td>1139.424667</td>\n",
              "      <td>1063.674883</td>\n",
              "      <td>1069.126878</td>\n",
              "      <td>1311.602841</td>\n",
              "      <td>2152.553755</td>\n",
              "      <td>2921.106924</td>\n",
              "      <td>2645.276184</td>\n",
              "      <td>3101.293538</td>\n",
              "      <td>723.809135</td>\n",
              "      <td>2996.171738</td>\n",
              "      <td>1901.663436</td>\n",
              "      <td>293.381766</td>\n",
              "      <td>-0.000124</td>\n",
              "      <td>314.202135</td>\n",
              "      <td>1.148721</td>\n",
              "      <td>0.447757</td>\n",
              "      <td>-11.980708</td>\n",
              "      <td>-20.019002</td>\n",
              "      <td>1425.459868</td>\n",
              "      <td>1529.781735</td>\n",
              "      <td>1454.750721</td>\n",
              "      <td>1473.809798</td>\n",
              "      <td>2082.446821</td>\n",
              "      <td>2214.546398</td>\n",
              "      <td>2103.697056</td>\n",
              "      <td>2369.819453</td>\n",
              "      <td>893.709359</td>\n",
              "      <td>3217.008133</td>\n",
              "      <td>2158.612101</td>\n",
              "      <td>298.045025</td>\n",
              "      <td>0.000104</td>\n",
              "      <td>324.857357</td>\n",
              "      <td>0.758805</td>\n",
              "      <td>0.230539</td>\n",
              "    </tr>\n",
              "    <tr>\n",
              "      <th>3</th>\n",
              "      <td>-13.895412</td>\n",
              "      <td>-21.169488</td>\n",
              "      <td>1550.755198</td>\n",
              "      <td>1541.339240</td>\n",
              "      <td>1732.355678</td>\n",
              "      <td>1828.669115</td>\n",
              "      <td>1876.796177</td>\n",
              "      <td>2001.004560</td>\n",
              "      <td>1996.979443</td>\n",
              "      <td>2212.820792</td>\n",
              "      <td>536.626943</td>\n",
              "      <td>2766.871496</td>\n",
              "      <td>1886.968014</td>\n",
              "      <td>290.612265</td>\n",
              "      <td>0.000492</td>\n",
              "      <td>225.296013</td>\n",
              "      <td>1.291606</td>\n",
              "      <td>0.142753</td>\n",
              "      <td>-13.732596</td>\n",
              "      <td>-25.613399</td>\n",
              "      <td>1645.086108</td>\n",
              "      <td>1296.359517</td>\n",
              "      <td>1424.261537</td>\n",
              "      <td>1728.442664</td>\n",
              "      <td>1697.091146</td>\n",
              "      <td>2316.907386</td>\n",
              "      <td>2092.373246</td>\n",
              "      <td>2531.465651</td>\n",
              "      <td>490.410022</td>\n",
              "      <td>3146.702530</td>\n",
              "      <td>2261.055792</td>\n",
              "      <td>315.563205</td>\n",
              "      <td>0.002035</td>\n",
              "      <td>189.251791</td>\n",
              "      <td>1.478720</td>\n",
              "      <td>0.181046</td>\n",
              "      <td>-12.574171</td>\n",
              "      <td>-17.184522</td>\n",
              "      <td>1307.339406</td>\n",
              "      <td>1091.286366</td>\n",
              "      <td>...</td>\n",
              "      <td>0.001557</td>\n",
              "      <td>234.170306</td>\n",
              "      <td>1.304840</td>\n",
              "      <td>0.459526</td>\n",
              "      <td>-10.437747</td>\n",
              "      <td>-15.237973</td>\n",
              "      <td>1142.334897</td>\n",
              "      <td>1011.718249</td>\n",
              "      <td>1115.451793</td>\n",
              "      <td>1261.256019</td>\n",
              "      <td>1700.821971</td>\n",
              "      <td>2246.481880</td>\n",
              "      <td>2060.561200</td>\n",
              "      <td>2489.307983</td>\n",
              "      <td>590.083149</td>\n",
              "      <td>2802.854768</td>\n",
              "      <td>1765.291699</td>\n",
              "      <td>293.937982</td>\n",
              "      <td>0.000016</td>\n",
              "      <td>172.072858</td>\n",
              "      <td>1.525624</td>\n",
              "      <td>0.348237</td>\n",
              "      <td>-13.620376</td>\n",
              "      <td>-22.277632</td>\n",
              "      <td>1430.585144</td>\n",
              "      <td>1538.242625</td>\n",
              "      <td>1513.136372</td>\n",
              "      <td>1501.259279</td>\n",
              "      <td>2016.619661</td>\n",
              "      <td>2156.845828</td>\n",
              "      <td>2101.697185</td>\n",
              "      <td>2372.614882</td>\n",
              "      <td>841.326953</td>\n",
              "      <td>3259.568699</td>\n",
              "      <td>1979.892417</td>\n",
              "      <td>298.534272</td>\n",
              "      <td>0.000130</td>\n",
              "      <td>184.338553</td>\n",
              "      <td>1.132985</td>\n",
              "      <td>0.214938</td>\n",
              "    </tr>\n",
              "    <tr>\n",
              "      <th>4</th>\n",
              "      <td>-11.562658</td>\n",
              "      <td>-13.594914</td>\n",
              "      <td>1171.571568</td>\n",
              "      <td>1143.268311</td>\n",
              "      <td>1296.423152</td>\n",
              "      <td>1376.878830</td>\n",
              "      <td>1488.835033</td>\n",
              "      <td>1530.996415</td>\n",
              "      <td>1667.407479</td>\n",
              "      <td>1737.091382</td>\n",
              "      <td>507.635446</td>\n",
              "      <td>2191.567167</td>\n",
              "      <td>1551.903853</td>\n",
              "      <td>290.589762</td>\n",
              "      <td>0.000187</td>\n",
              "      <td>305.157374</td>\n",
              "      <td>0.901068</td>\n",
              "      <td>0.155692</td>\n",
              "      <td>-10.019630</td>\n",
              "      <td>-16.884091</td>\n",
              "      <td>1176.895752</td>\n",
              "      <td>948.410911</td>\n",
              "      <td>847.174615</td>\n",
              "      <td>1280.206924</td>\n",
              "      <td>1689.742141</td>\n",
              "      <td>2444.454492</td>\n",
              "      <td>2315.514186</td>\n",
              "      <td>2716.427792</td>\n",
              "      <td>240.230090</td>\n",
              "      <td>2203.016971</td>\n",
              "      <td>1248.732986</td>\n",
              "      <td>315.587607</td>\n",
              "      <td>0.001948</td>\n",
              "      <td>268.788342</td>\n",
              "      <td>1.120304</td>\n",
              "      <td>0.334847</td>\n",
              "      <td>-9.154138</td>\n",
              "      <td>-14.943727</td>\n",
              "      <td>1112.102142</td>\n",
              "      <td>891.705665</td>\n",
              "      <td>...</td>\n",
              "      <td>0.000281</td>\n",
              "      <td>321.251989</td>\n",
              "      <td>0.942030</td>\n",
              "      <td>0.378118</td>\n",
              "      <td>-9.362503</td>\n",
              "      <td>-14.318700</td>\n",
              "      <td>989.062762</td>\n",
              "      <td>839.491631</td>\n",
              "      <td>723.168470</td>\n",
              "      <td>914.637514</td>\n",
              "      <td>1593.569757</td>\n",
              "      <td>2133.501197</td>\n",
              "      <td>1983.625017</td>\n",
              "      <td>2356.481536</td>\n",
              "      <td>561.815867</td>\n",
              "      <td>1825.648110</td>\n",
              "      <td>962.334917</td>\n",
              "      <td>293.597014</td>\n",
              "      <td>-0.000127</td>\n",
              "      <td>250.196898</td>\n",
              "      <td>1.149815</td>\n",
              "      <td>0.409504</td>\n",
              "      <td>-10.946743</td>\n",
              "      <td>-17.536084</td>\n",
              "      <td>1274.776764</td>\n",
              "      <td>1355.275878</td>\n",
              "      <td>1253.420892</td>\n",
              "      <td>1285.323368</td>\n",
              "      <td>1787.286331</td>\n",
              "      <td>1916.263789</td>\n",
              "      <td>1926.708518</td>\n",
              "      <td>2116.367142</td>\n",
              "      <td>849.233731</td>\n",
              "      <td>2550.935276</td>\n",
              "      <td>1457.042276</td>\n",
              "      <td>298.389238</td>\n",
              "      <td>0.000113</td>\n",
              "      <td>261.577366</td>\n",
              "      <td>0.759891</td>\n",
              "      <td>0.220560</td>\n",
              "    </tr>\n",
              "  </tbody>\n",
              "</table>\n",
              "<p>5 rows × 216 columns</p>\n",
              "</div>"
            ],
            "text/plain": [
              "   S2_B2_jan  S2_B3_jan  ...  topo_slope_dec  NDVI_dec\n",
              "0 -17.649477 -24.327178  ...        0.765980  0.000600\n",
              "1 -14.559686 -19.936119  ...        2.598537  0.217297\n",
              "2 -14.208844 -21.404320  ...        0.758805  0.230539\n",
              "3 -13.895412 -21.169488  ...        1.132985  0.214938\n",
              "4 -11.562658 -13.594914  ...        0.759891  0.220560\n",
              "\n",
              "[5 rows x 216 columns]"
            ]
          },
          "metadata": {},
          "execution_count": 34
        }
      ]
    },
    {
      "cell_type": "code",
      "source": [
        "scaler = StandardScaler()\n",
        "X = scaler.fit_transform(X)\n",
        "df_test_scaled = scaler.transform(df_test)"
      ],
      "metadata": {
        "id": "-kvT-gJ2HOtn"
      },
      "execution_count": 36,
      "outputs": []
    },
    {
      "cell_type": "code",
      "source": [
        "model_name = 'sub3_KNN'\n",
        "\n",
        "# create an experiment in comet \n",
        "experiment = Experiment(\n",
        "    api_key=API_KEY,\n",
        "    project_name=\"crop-harvest\",\n",
        "    workspace=\"selimgilon\")\n",
        "\n",
        "# set the name of the experiment \n",
        "experiment.set_name(model_name)  \n",
        "\n",
        "# create and fit a model\n",
        "model = KNeighborsClassifier()\n",
        "model.fit(X, y)\n",
        "\n",
        "pred = pd.DataFrame()\n",
        "pred[\"LABELS\"] = model.predict(df_test_scaled)\n",
        "pred.index.name = 'S.No'\n",
        "pred.reset_index(inplace=True)\n",
        "pred.LABELS = pred.LABELS.astype(int)\n",
        "pred.head()\n",
        "pred.to_csv(\"submission3.csv\", sep=',' ,index=False)\n",
        "\n",
        "\n",
        "# dump the model \n",
        "with open('model.pkl', 'wb') as f:\n",
        "  pickle.dump(model, f)\n",
        "# log the model \n",
        "experiment.log_model(model_name, \"model.pkl\")\n",
        "experiment.add_tags([model_name])\n",
        "experiment.log_parameters({\"model\": \"\"})\n",
        "experiment.end()"
      ],
      "metadata": {
        "id": "AM-P32l-tkal",
        "outputId": "61a2dc5a-eb0d-4d29-d0fd-3dac49ec5ccd",
        "colab": {
          "base_uri": "https://localhost:8080/"
        }
      },
      "execution_count": 43,
      "outputs": [
        {
          "output_type": "stream",
          "name": "stderr",
          "text": [
            "COMET INFO: ---------------------------\n",
            "COMET INFO: Comet.ml Experiment Summary\n",
            "COMET INFO: ---------------------------\n",
            "COMET INFO:   Data:\n",
            "COMET INFO:     display_summary_level : 1\n",
            "COMET INFO:     url                   : https://www.comet.ml/selimgilon/crop-harvest/a8d7fff12acd41e4b56821fef806d848\n",
            "COMET INFO:   Others:\n",
            "COMET INFO:     Name         : sub3_SVM\n",
            "COMET INFO:     notebook_url : https://colab.research.google.com/notebook#fileId=https%3A%2F%2Fgithub.com%2FSeeeeeyo%2FCropHarvest%2Fblob%2Fmain%2FClassifiers.ipynb\n",
            "COMET INFO:   Parameters:\n",
            "COMET INFO:     C                       : 1.0\n",
            "COMET INFO:     break_ties              : False\n",
            "COMET INFO:     cache_size              : 200\n",
            "COMET INFO:     class_weight            : 1\n",
            "COMET INFO:     coef0                   : 0.0\n",
            "COMET INFO:     decision_function_shape : ovr\n",
            "COMET INFO:     degree                  : 3\n",
            "COMET INFO:     gamma                   : scale\n",
            "COMET INFO:     kernel                  : rbf\n",
            "COMET INFO:     max_iter                : -1\n",
            "COMET INFO:     probability             : False\n",
            "COMET INFO:     random_state            : 1\n",
            "COMET INFO:     shrinking               : True\n",
            "COMET INFO:     tol                     : 0.001\n",
            "COMET INFO:     verbose                 : False\n",
            "COMET INFO:   Uploads:\n",
            "COMET INFO:     environment details : 1\n",
            "COMET INFO:     filename            : 1\n",
            "COMET INFO:     installed packages  : 1\n",
            "COMET INFO:     notebook            : 1\n",
            "COMET INFO:     os packages         : 1\n",
            "COMET INFO:     source_code         : 1\n",
            "COMET INFO: ---------------------------\n",
            "COMET WARNING: As you are running in a Jupyter environment, you will need to call `experiment.end()` when finished to ensure all metrics and code are logged before exiting.\n",
            "COMET INFO: Couldn't find a Git repository in '/content' nor in any parent directory. You can override where Comet is looking for a Git Patch by setting the configuration `COMET_GIT_DIRECTORY`\n",
            "COMET INFO: Experiment is live on comet.ml https://www.comet.ml/selimgilon/crop-harvest/62cf1bd091754c478677ae84c86f895a\n",
            "\n",
            "COMET INFO: ---------------------------\n",
            "COMET INFO: Comet.ml Experiment Summary\n",
            "COMET INFO: ---------------------------\n",
            "COMET INFO:   Data:\n",
            "COMET INFO:     display_summary_level : 1\n",
            "COMET INFO:     url                   : https://www.comet.ml/selimgilon/crop-harvest/62cf1bd091754c478677ae84c86f895a\n",
            "COMET INFO:   Others:\n",
            "COMET INFO:     Name         : sub3_KNN\n",
            "COMET INFO:     notebook_url : https://colab.research.google.com/notebook#fileId=https%3A%2F%2Fgithub.com%2FSeeeeeyo%2FCropHarvest%2Fblob%2Fmain%2FClassifiers.ipynb\n",
            "COMET INFO:   Parameters:\n",
            "COMET INFO:     algorithm     : auto\n",
            "COMET INFO:     leaf_size     : 30\n",
            "COMET INFO:     metric        : minkowski\n",
            "COMET INFO:     metric_params : 1\n",
            "COMET INFO:     model         : \n",
            "COMET INFO:     n_jobs        : 1\n",
            "COMET INFO:     n_neighbors   : 5\n",
            "COMET INFO:     p             : 2\n",
            "COMET INFO:     weights       : uniform\n",
            "COMET INFO:   Uploads:\n",
            "COMET INFO:     environment details : 1\n",
            "COMET INFO:     filename            : 1\n",
            "COMET INFO:     installed packages  : 1\n",
            "COMET INFO:     model-element       : 1 (102.65 MB)\n",
            "COMET INFO:     notebook            : 1\n",
            "COMET INFO:     os packages         : 1\n",
            "COMET INFO:     source_code         : 1\n",
            "COMET INFO: ---------------------------\n",
            "COMET INFO: Uploading 1 metrics, params and output messages\n",
            "COMET INFO: Waiting for completion of the file uploads (may take several seconds)\n",
            "COMET INFO: The Python SDK has 10800 seconds to finish before aborting...\n",
            "COMET INFO: Still uploading 1 file(s), remaining 71.97 MB/102.69 MB\n"
          ]
        }
      ]
    },
    {
      "cell_type": "markdown",
      "metadata": {
        "id": "1LnAnN97ITAz"
      },
      "source": [
        "------------------------------------------------------"
      ]
    },
    {
      "cell_type": "markdown",
      "metadata": {
        "id": "VAhMxICA7Ycd"
      },
      "source": [
        "#### Initialization"
      ]
    },
    {
      "cell_type": "markdown",
      "metadata": {
        "id": "EaJmEpMO6eaY"
      },
      "source": [
        "#### Decision Tree"
      ]
    },
    {
      "cell_type": "code",
      "metadata": {
        "id": "x-itzmPO6ej8"
      },
      "source": [
        "clf_tree = tree.DecisionTreeClassifier(\n",
        "    #max_depth=3,\\\n",
        "    # class_weight=\"balanced\",\\\n",
        "    # min_weight_fraction_leaf=0.01\\\n",
        "    )\n",
        "clf_tree = clf_tree.fit(X_train,y_train)\n",
        "classifier.append(\"DecisionTreeClassifier\")\n",
        "train_scores.append(clf_tree.f1_score(X_train, y_train))\n",
        "test_scores.append(clf_tree.f1_score(X_test, y_test))"
      ],
      "execution_count": null,
      "outputs": []
    },
    {
      "cell_type": "markdown",
      "metadata": {
        "id": "iOeYMyw26JrI"
      },
      "source": [
        "#### Logistic Regression"
      ]
    },
    {
      "cell_type": "code",
      "metadata": {
        "id": "foZ323Wm6JxB",
        "colab": {
          "base_uri": "https://localhost:8080/"
        },
        "outputId": "003ddbca-3b8a-4d12-c434-c73f97b4fe2f"
      },
      "source": [
        "clf_log = LogisticRegression()\n",
        "clf_log = clf_log.fit(X_train,y_train)\n",
        "classifier.append(\"LogisticRegression\")\n",
        "train_scores.append(clf_log.f1_score(X_train, y_train))\n",
        "test_scores.append(clf_log.f1_score(X_test, y_test))\n",
        "\n",
        "# pd.DataFrame(list(zip(X_train.columns, np.transpose(clf_log.coef_))))"
      ],
      "execution_count": null,
      "outputs": [
        {
          "output_type": "stream",
          "name": "stderr",
          "text": [
            "/usr/local/lib/python3.7/dist-packages/sklearn/linear_model/_logistic.py:818: ConvergenceWarning: lbfgs failed to converge (status=1):\n",
            "STOP: TOTAL NO. of ITERATIONS REACHED LIMIT.\n",
            "\n",
            "Increase the number of iterations (max_iter) or scale the data as shown in:\n",
            "    https://scikit-learn.org/stable/modules/preprocessing.html\n",
            "Please also refer to the documentation for alternative solver options:\n",
            "    https://scikit-learn.org/stable/modules/linear_model.html#logistic-regression\n",
            "  extra_warning_msg=_LOGISTIC_SOLVER_CONVERGENCE_MSG,\n"
          ]
        }
      ]
    },
    {
      "cell_type": "markdown",
      "metadata": {
        "id": "sRkvUKH26JbP"
      },
      "source": [
        "#### KNN"
      ]
    },
    {
      "cell_type": "code",
      "metadata": {
        "id": "R0Yuylf96Jjl"
      },
      "source": [
        "knn = KNeighborsClassifier(n_neighbors = 3)\n",
        "knn.fit(X_train, y_train)\n",
        "classifier.append(\"KNeighborsClassifier\")\n",
        "train_scores.append(knn.score(X_train, y_train))\n",
        "test_scores.append(knn.score(X_test, y_test))"
      ],
      "execution_count": null,
      "outputs": []
    },
    {
      "cell_type": "markdown",
      "metadata": {
        "id": "Wy0_cFHt6Gg3"
      },
      "source": [
        "#### Support Vector Classifier"
      ]
    },
    {
      "cell_type": "code",
      "metadata": {
        "id": "Kl-VqiSM54tW"
      },
      "source": [
        "cf = SVC()\n",
        "cf.fit(X_train, y_train)\n",
        "classifier.append(\"SVM\")\n",
        "train_scores.append(cf.score(X_train, y_train))\n",
        "test_scores.append(cf.score(X_test, y_test))"
      ],
      "execution_count": null,
      "outputs": []
    },
    {
      "cell_type": "markdown",
      "metadata": {
        "id": "wPVcdigA6J4R"
      },
      "source": [
        "#### Perceptron"
      ]
    },
    {
      "cell_type": "code",
      "metadata": {
        "id": "21z8pf0w6J_D"
      },
      "source": [
        "clf_pctr = Perceptron(\n",
        "    class_weight='balanced'\n",
        "    )\n",
        "clf_pctr = clf_pctr.fit(X_train,y_train)\n",
        "classifier.append(\"Perceptron\")\n",
        "train_scores.append(clf_pctr.score(X_train, y_train))\n",
        "test_scores.append(clf_pctr.score(X_test, y_test))"
      ],
      "execution_count": null,
      "outputs": []
    },
    {
      "cell_type": "markdown",
      "metadata": {
        "id": "GqrJ8N7U6ATl"
      },
      "source": [
        "#### Random Forest"
      ]
    },
    {
      "cell_type": "code",
      "metadata": {
        "id": "MuQnLUQD54h_"
      },
      "source": [
        "random_forest = RandomForestClassifier(n_estimators=100)\n",
        "random_forest.fit(X_train, y_train)\n",
        "classifier.append(\"RandomForestClassifier\")\n",
        "train_scores.append(random_forest.score(X_train, y_train))\n",
        "test_scores.append(random_forest.score(X_test, y_test))"
      ],
      "execution_count": null,
      "outputs": []
    },
    {
      "cell_type": "markdown",
      "metadata": {
        "id": "xGJWib4o6KHX"
      },
      "source": [
        "#### Extra Tree "
      ]
    },
    {
      "cell_type": "code",
      "metadata": {
        "id": "C57Zig4F6KMT",
        "colab": {
          "base_uri": "https://localhost:8080/"
        },
        "outputId": "737f47b1-8de8-4fd4-819a-ffdac6bfc49a"
      },
      "source": [
        "clf_ext = ExtraTreesClassifier(\n",
        "    max_features='auto',\n",
        "    bootstrap=True,\n",
        "    oob_score=True,\n",
        "    n_estimators=1000,\n",
        "    max_depth=None,\n",
        "    min_samples_split=10\n",
        "    #class_weight=\"balanced\",\n",
        "    #min_weight_fraction_leaf=0.02\n",
        "    )\n",
        "clf_ext = clf_ext.fit(X_train,y_train)\n",
        "classifier.append(\"ExtraTreesClassifier\")\n",
        "train_scores.append(clf_ext.score(X_train, y_train))\n",
        "test_scores.append(clf_ext.score(X_test, y_test))"
      ],
      "execution_count": null,
      "outputs": [
        {
          "output_type": "stream",
          "name": "stderr",
          "text": [
            "/usr/local/lib/python3.7/dist-packages/sklearn/base.py:446: UserWarning: X does not have valid feature names, but ExtraTreesClassifier was fitted with feature names\n",
            "  \"X does not have valid feature names, but\"\n"
          ]
        }
      ]
    },
    {
      "cell_type": "markdown",
      "metadata": {
        "id": "A3fQei-4_TMM"
      },
      "source": [
        "#### Ada Boost"
      ]
    },
    {
      "cell_type": "code",
      "metadata": {
        "id": "8xA4FfwL_O-f"
      },
      "source": [
        "clf_ada = AdaBoostClassifier(n_estimators=400, learning_rate=0.1)\n",
        "clf_ada.fit(X_train,y_train)\n",
        "classifier.append(\"AdaBoostClassifier\")\n",
        "train_scores.append(clf_ada.score(X_train, y_train))\n",
        "test_scores.append(clf_ada.score(X_test, y_test))"
      ],
      "execution_count": null,
      "outputs": []
    },
    {
      "cell_type": "markdown",
      "metadata": {
        "id": "HmoMh72K7hr8"
      },
      "source": [
        "#### Results"
      ]
    },
    {
      "cell_type": "code",
      "metadata": {
        "id": "USAjYxSqGpHS",
        "colab": {
          "base_uri": "https://localhost:8080/",
          "height": 300
        },
        "outputId": "291e2aa2-eaca-4df1-97e1-b81a2fcf328e"
      },
      "source": [
        "for i,text in enumerate(classifier):\n",
        "    result.loc[i+1] = [text,np.around(train_scores[i]*100, decimals = 1),np.around(test_scores[i]*100, decimals=1)]\n",
        "result"
      ],
      "execution_count": null,
      "outputs": [
        {
          "output_type": "execute_result",
          "data": {
            "text/html": [
              "<div>\n",
              "<style scoped>\n",
              "    .dataframe tbody tr th:only-of-type {\n",
              "        vertical-align: middle;\n",
              "    }\n",
              "\n",
              "    .dataframe tbody tr th {\n",
              "        vertical-align: top;\n",
              "    }\n",
              "\n",
              "    .dataframe thead th {\n",
              "        text-align: right;\n",
              "    }\n",
              "</style>\n",
              "<table border=\"1\" class=\"dataframe\">\n",
              "  <thead>\n",
              "    <tr style=\"text-align: right;\">\n",
              "      <th></th>\n",
              "      <th>Classifiers</th>\n",
              "      <th>Training</th>\n",
              "      <th>Testing</th>\n",
              "    </tr>\n",
              "  </thead>\n",
              "  <tbody>\n",
              "    <tr>\n",
              "      <th>1</th>\n",
              "      <td>DecisionTreeClassifier</td>\n",
              "      <td>75.1</td>\n",
              "      <td>74.4</td>\n",
              "    </tr>\n",
              "    <tr>\n",
              "      <th>2</th>\n",
              "      <td>LogisticRegression</td>\n",
              "      <td>73.1</td>\n",
              "      <td>73.0</td>\n",
              "    </tr>\n",
              "    <tr>\n",
              "      <th>3</th>\n",
              "      <td>KNeighborsClassifier</td>\n",
              "      <td>88.0</td>\n",
              "      <td>77.6</td>\n",
              "    </tr>\n",
              "    <tr>\n",
              "      <th>4</th>\n",
              "      <td>SVM</td>\n",
              "      <td>79.2</td>\n",
              "      <td>77.8</td>\n",
              "    </tr>\n",
              "    <tr>\n",
              "      <th>5</th>\n",
              "      <td>Perceptron</td>\n",
              "      <td>46.9</td>\n",
              "      <td>46.4</td>\n",
              "    </tr>\n",
              "    <tr>\n",
              "      <th>6</th>\n",
              "      <td>RandomForestClassifier</td>\n",
              "      <td>100.0</td>\n",
              "      <td>85.0</td>\n",
              "    </tr>\n",
              "    <tr>\n",
              "      <th>7</th>\n",
              "      <td>ExtraTreesClassifier</td>\n",
              "      <td>97.7</td>\n",
              "      <td>84.1</td>\n",
              "    </tr>\n",
              "    <tr>\n",
              "      <th>8</th>\n",
              "      <td>AdaBoostClassifier</td>\n",
              "      <td>78.7</td>\n",
              "      <td>78.8</td>\n",
              "    </tr>\n",
              "  </tbody>\n",
              "</table>\n",
              "</div>"
            ],
            "text/plain": [
              "              Classifiers  Training  Testing\n",
              "1  DecisionTreeClassifier      75.1     74.4\n",
              "2      LogisticRegression      73.1     73.0\n",
              "3    KNeighborsClassifier      88.0     77.6\n",
              "4                     SVM      79.2     77.8\n",
              "5              Perceptron      46.9     46.4\n",
              "6  RandomForestClassifier     100.0     85.0\n",
              "7    ExtraTreesClassifier      97.7     84.1\n",
              "8      AdaBoostClassifier      78.7     78.8"
            ]
          },
          "metadata": {},
          "execution_count": 87
        }
      ]
    },
    {
      "cell_type": "markdown",
      "metadata": {
        "id": "Wc3QygZsTXME"
      },
      "source": [
        "# Ensemble Methods"
      ]
    },
    {
      "cell_type": "code",
      "metadata": {
        "id": "9a6a37OzHbmZ",
        "colab": {
          "base_uri": "https://localhost:8080/"
        },
        "outputId": "3166ef21-61fb-4ced-807f-7f0235534235"
      },
      "source": [
        "# Trying to improve with the ensemble of all predictors\n",
        "\n",
        "clf_vote = VotingClassifier(\n",
        "    estimators=[\n",
        "        ('knn', knn), # KNN\n",
        "        ('svm', cf), # SVM\n",
        "        ('dt', clf_tree), # Decision Tree\n",
        "        ('extra', clf_ext), #  Extra Tree\n",
        "        ('logistic', clf_log), # Logistic Regression\n",
        "        ('adaboost', clf_ada) # Adaboost\n",
        "        ],\n",
        "    weights=[1, 1, 1, 1, 1, 1],\n",
        "    voting='hard')\n",
        "clf_vote.fit(X_train, y_train)\n",
        "clf_vote.score(X_test, y_test)"
      ],
      "execution_count": null,
      "outputs": [
        {
          "output_type": "stream",
          "name": "stderr",
          "text": [
            "/usr/local/lib/python3.7/dist-packages/sklearn/base.py:446: UserWarning: X does not have valid feature names, but ExtraTreesClassifier was fitted with feature names\n",
            "  \"X does not have valid feature names, but\"\n",
            "/usr/local/lib/python3.7/dist-packages/sklearn/linear_model/_logistic.py:818: ConvergenceWarning: lbfgs failed to converge (status=1):\n",
            "STOP: TOTAL NO. of ITERATIONS REACHED LIMIT.\n",
            "\n",
            "Increase the number of iterations (max_iter) or scale the data as shown in:\n",
            "    https://scikit-learn.org/stable/modules/preprocessing.html\n",
            "Please also refer to the documentation for alternative solver options:\n",
            "    https://scikit-learn.org/stable/modules/linear_model.html#logistic-regression\n",
            "  extra_warning_msg=_LOGISTIC_SOLVER_CONVERGENCE_MSG,\n"
          ]
        },
        {
          "output_type": "execute_result",
          "data": {
            "text/plain": [
              "0.8172517889087657"
            ]
          },
          "metadata": {},
          "execution_count": 88
        }
      ]
    },
    {
      "cell_type": "markdown",
      "metadata": {
        "id": "MjCXHqvJIyKh"
      },
      "source": [
        "# Cross Validation"
      ]
    },
    {
      "cell_type": "code",
      "metadata": {
        "id": "1RyyD1koQl_l",
        "colab": {
          "base_uri": "https://localhost:8080/",
          "height": 523
        },
        "outputId": "54a81036-29e3-472f-82e1-10cfcbd447c7"
      },
      "source": [
        "scores = cross_val_score(clf_vote, df_train[header_x], df_train['LABELS'], cv=5, scoring='f1')\n",
        "print(\"Voting: f1: %0.2f (+/- %0.2f)\" % (scores.mean(), scores.std()))"
      ],
      "execution_count": null,
      "outputs": [
        {
          "output_type": "stream",
          "name": "stderr",
          "text": [
            "/usr/local/lib/python3.7/dist-packages/sklearn/base.py:446: UserWarning: X does not have valid feature names, but ExtraTreesClassifier was fitted with feature names\n",
            "  \"X does not have valid feature names, but\"\n",
            "/usr/local/lib/python3.7/dist-packages/sklearn/linear_model/_logistic.py:818: ConvergenceWarning: lbfgs failed to converge (status=1):\n",
            "STOP: TOTAL NO. of ITERATIONS REACHED LIMIT.\n",
            "\n",
            "Increase the number of iterations (max_iter) or scale the data as shown in:\n",
            "    https://scikit-learn.org/stable/modules/preprocessing.html\n",
            "Please also refer to the documentation for alternative solver options:\n",
            "    https://scikit-learn.org/stable/modules/linear_model.html#logistic-regression\n",
            "  extra_warning_msg=_LOGISTIC_SOLVER_CONVERGENCE_MSG,\n"
          ]
        },
        {
          "output_type": "error",
          "ename": "KeyboardInterrupt",
          "evalue": "ignored",
          "traceback": [
            "\u001b[0;31m---------------------------------------------------------------------------\u001b[0m",
            "\u001b[0;31mKeyboardInterrupt\u001b[0m                         Traceback (most recent call last)",
            "\u001b[0;32m<ipython-input-91-176305e06df2>\u001b[0m in \u001b[0;36m<module>\u001b[0;34m()\u001b[0m\n\u001b[0;32m----> 1\u001b[0;31m \u001b[0mscores\u001b[0m \u001b[0;34m=\u001b[0m \u001b[0mcross_val_score\u001b[0m\u001b[0;34m(\u001b[0m\u001b[0mclf_vote\u001b[0m\u001b[0;34m,\u001b[0m \u001b[0mdf_train\u001b[0m\u001b[0;34m[\u001b[0m\u001b[0mheader_x\u001b[0m\u001b[0;34m]\u001b[0m\u001b[0;34m,\u001b[0m \u001b[0mdf_train\u001b[0m\u001b[0;34m[\u001b[0m\u001b[0;34m'LABELS'\u001b[0m\u001b[0;34m]\u001b[0m\u001b[0;34m,\u001b[0m \u001b[0mcv\u001b[0m\u001b[0;34m=\u001b[0m\u001b[0;36m5\u001b[0m\u001b[0;34m,\u001b[0m \u001b[0mscoring\u001b[0m\u001b[0;34m=\u001b[0m\u001b[0;34m'accuracy'\u001b[0m\u001b[0;34m)\u001b[0m\u001b[0;34m\u001b[0m\u001b[0;34m\u001b[0m\u001b[0m\n\u001b[0m\u001b[1;32m      2\u001b[0m \u001b[0mprint\u001b[0m\u001b[0;34m(\u001b[0m\u001b[0;34m\"Voting: Accuracy: %0.2f (+/- %0.2f)\"\u001b[0m \u001b[0;34m%\u001b[0m \u001b[0;34m(\u001b[0m\u001b[0mscores\u001b[0m\u001b[0;34m.\u001b[0m\u001b[0mmean\u001b[0m\u001b[0;34m(\u001b[0m\u001b[0;34m)\u001b[0m\u001b[0;34m,\u001b[0m \u001b[0mscores\u001b[0m\u001b[0;34m.\u001b[0m\u001b[0mstd\u001b[0m\u001b[0;34m(\u001b[0m\u001b[0;34m)\u001b[0m\u001b[0;34m)\u001b[0m\u001b[0;34m)\u001b[0m\u001b[0;34m\u001b[0m\u001b[0;34m\u001b[0m\u001b[0m\n",
            "\u001b[0;32m/usr/local/lib/python3.7/dist-packages/sklearn/model_selection/_validation.py\u001b[0m in \u001b[0;36mcross_val_score\u001b[0;34m(estimator, X, y, groups, scoring, cv, n_jobs, verbose, fit_params, pre_dispatch, error_score)\u001b[0m\n\u001b[1;32m    519\u001b[0m         \u001b[0mfit_params\u001b[0m\u001b[0;34m=\u001b[0m\u001b[0mfit_params\u001b[0m\u001b[0;34m,\u001b[0m\u001b[0;34m\u001b[0m\u001b[0;34m\u001b[0m\u001b[0m\n\u001b[1;32m    520\u001b[0m         \u001b[0mpre_dispatch\u001b[0m\u001b[0;34m=\u001b[0m\u001b[0mpre_dispatch\u001b[0m\u001b[0;34m,\u001b[0m\u001b[0;34m\u001b[0m\u001b[0;34m\u001b[0m\u001b[0m\n\u001b[0;32m--> 521\u001b[0;31m         \u001b[0merror_score\u001b[0m\u001b[0;34m=\u001b[0m\u001b[0merror_score\u001b[0m\u001b[0;34m,\u001b[0m\u001b[0;34m\u001b[0m\u001b[0;34m\u001b[0m\u001b[0m\n\u001b[0m\u001b[1;32m    522\u001b[0m     )\n\u001b[1;32m    523\u001b[0m     \u001b[0;32mreturn\u001b[0m \u001b[0mcv_results\u001b[0m\u001b[0;34m[\u001b[0m\u001b[0;34m\"test_score\"\u001b[0m\u001b[0;34m]\u001b[0m\u001b[0;34m\u001b[0m\u001b[0;34m\u001b[0m\u001b[0m\n",
            "\u001b[0;32m/usr/local/lib/python3.7/dist-packages/sklearn/model_selection/_validation.py\u001b[0m in \u001b[0;36mcross_validate\u001b[0;34m(estimator, X, y, groups, scoring, cv, n_jobs, verbose, fit_params, pre_dispatch, return_train_score, return_estimator, error_score)\u001b[0m\n\u001b[1;32m    281\u001b[0m             \u001b[0merror_score\u001b[0m\u001b[0;34m=\u001b[0m\u001b[0merror_score\u001b[0m\u001b[0;34m,\u001b[0m\u001b[0;34m\u001b[0m\u001b[0;34m\u001b[0m\u001b[0m\n\u001b[1;32m    282\u001b[0m         )\n\u001b[0;32m--> 283\u001b[0;31m         \u001b[0;32mfor\u001b[0m \u001b[0mtrain\u001b[0m\u001b[0;34m,\u001b[0m \u001b[0mtest\u001b[0m \u001b[0;32min\u001b[0m \u001b[0mcv\u001b[0m\u001b[0;34m.\u001b[0m\u001b[0msplit\u001b[0m\u001b[0;34m(\u001b[0m\u001b[0mX\u001b[0m\u001b[0;34m,\u001b[0m \u001b[0my\u001b[0m\u001b[0;34m,\u001b[0m \u001b[0mgroups\u001b[0m\u001b[0;34m)\u001b[0m\u001b[0;34m\u001b[0m\u001b[0;34m\u001b[0m\u001b[0m\n\u001b[0m\u001b[1;32m    284\u001b[0m     )\n\u001b[1;32m    285\u001b[0m \u001b[0;34m\u001b[0m\u001b[0m\n",
            "\u001b[0;32m/usr/local/lib/python3.7/dist-packages/joblib/parallel.py\u001b[0m in \u001b[0;36m__call__\u001b[0;34m(self, iterable)\u001b[0m\n\u001b[1;32m   1041\u001b[0m             \u001b[0;31m# remaining jobs.\u001b[0m\u001b[0;34m\u001b[0m\u001b[0;34m\u001b[0m\u001b[0;34m\u001b[0m\u001b[0m\n\u001b[1;32m   1042\u001b[0m             \u001b[0mself\u001b[0m\u001b[0;34m.\u001b[0m\u001b[0m_iterating\u001b[0m \u001b[0;34m=\u001b[0m \u001b[0;32mFalse\u001b[0m\u001b[0;34m\u001b[0m\u001b[0;34m\u001b[0m\u001b[0m\n\u001b[0;32m-> 1043\u001b[0;31m             \u001b[0;32mif\u001b[0m \u001b[0mself\u001b[0m\u001b[0;34m.\u001b[0m\u001b[0mdispatch_one_batch\u001b[0m\u001b[0;34m(\u001b[0m\u001b[0miterator\u001b[0m\u001b[0;34m)\u001b[0m\u001b[0;34m:\u001b[0m\u001b[0;34m\u001b[0m\u001b[0;34m\u001b[0m\u001b[0m\n\u001b[0m\u001b[1;32m   1044\u001b[0m                 \u001b[0mself\u001b[0m\u001b[0;34m.\u001b[0m\u001b[0m_iterating\u001b[0m \u001b[0;34m=\u001b[0m \u001b[0mself\u001b[0m\u001b[0;34m.\u001b[0m\u001b[0m_original_iterator\u001b[0m \u001b[0;32mis\u001b[0m \u001b[0;32mnot\u001b[0m \u001b[0;32mNone\u001b[0m\u001b[0;34m\u001b[0m\u001b[0;34m\u001b[0m\u001b[0m\n\u001b[1;32m   1045\u001b[0m \u001b[0;34m\u001b[0m\u001b[0m\n",
            "\u001b[0;32m/usr/local/lib/python3.7/dist-packages/joblib/parallel.py\u001b[0m in \u001b[0;36mdispatch_one_batch\u001b[0;34m(self, iterator)\u001b[0m\n\u001b[1;32m    859\u001b[0m                 \u001b[0;32mreturn\u001b[0m \u001b[0;32mFalse\u001b[0m\u001b[0;34m\u001b[0m\u001b[0;34m\u001b[0m\u001b[0m\n\u001b[1;32m    860\u001b[0m             \u001b[0;32melse\u001b[0m\u001b[0;34m:\u001b[0m\u001b[0;34m\u001b[0m\u001b[0;34m\u001b[0m\u001b[0m\n\u001b[0;32m--> 861\u001b[0;31m                 \u001b[0mself\u001b[0m\u001b[0;34m.\u001b[0m\u001b[0m_dispatch\u001b[0m\u001b[0;34m(\u001b[0m\u001b[0mtasks\u001b[0m\u001b[0;34m)\u001b[0m\u001b[0;34m\u001b[0m\u001b[0;34m\u001b[0m\u001b[0m\n\u001b[0m\u001b[1;32m    862\u001b[0m                 \u001b[0;32mreturn\u001b[0m \u001b[0;32mTrue\u001b[0m\u001b[0;34m\u001b[0m\u001b[0;34m\u001b[0m\u001b[0m\n\u001b[1;32m    863\u001b[0m \u001b[0;34m\u001b[0m\u001b[0m\n",
            "\u001b[0;32m/usr/local/lib/python3.7/dist-packages/joblib/parallel.py\u001b[0m in \u001b[0;36m_dispatch\u001b[0;34m(self, batch)\u001b[0m\n\u001b[1;32m    777\u001b[0m         \u001b[0;32mwith\u001b[0m \u001b[0mself\u001b[0m\u001b[0;34m.\u001b[0m\u001b[0m_lock\u001b[0m\u001b[0;34m:\u001b[0m\u001b[0;34m\u001b[0m\u001b[0;34m\u001b[0m\u001b[0m\n\u001b[1;32m    778\u001b[0m             \u001b[0mjob_idx\u001b[0m \u001b[0;34m=\u001b[0m \u001b[0mlen\u001b[0m\u001b[0;34m(\u001b[0m\u001b[0mself\u001b[0m\u001b[0;34m.\u001b[0m\u001b[0m_jobs\u001b[0m\u001b[0;34m)\u001b[0m\u001b[0;34m\u001b[0m\u001b[0;34m\u001b[0m\u001b[0m\n\u001b[0;32m--> 779\u001b[0;31m             \u001b[0mjob\u001b[0m \u001b[0;34m=\u001b[0m \u001b[0mself\u001b[0m\u001b[0;34m.\u001b[0m\u001b[0m_backend\u001b[0m\u001b[0;34m.\u001b[0m\u001b[0mapply_async\u001b[0m\u001b[0;34m(\u001b[0m\u001b[0mbatch\u001b[0m\u001b[0;34m,\u001b[0m \u001b[0mcallback\u001b[0m\u001b[0;34m=\u001b[0m\u001b[0mcb\u001b[0m\u001b[0;34m)\u001b[0m\u001b[0;34m\u001b[0m\u001b[0;34m\u001b[0m\u001b[0m\n\u001b[0m\u001b[1;32m    780\u001b[0m             \u001b[0;31m# A job can complete so quickly than its callback is\u001b[0m\u001b[0;34m\u001b[0m\u001b[0;34m\u001b[0m\u001b[0;34m\u001b[0m\u001b[0m\n\u001b[1;32m    781\u001b[0m             \u001b[0;31m# called before we get here, causing self._jobs to\u001b[0m\u001b[0;34m\u001b[0m\u001b[0;34m\u001b[0m\u001b[0;34m\u001b[0m\u001b[0m\n",
            "\u001b[0;32m/usr/local/lib/python3.7/dist-packages/joblib/_parallel_backends.py\u001b[0m in \u001b[0;36mapply_async\u001b[0;34m(self, func, callback)\u001b[0m\n\u001b[1;32m    206\u001b[0m     \u001b[0;32mdef\u001b[0m \u001b[0mapply_async\u001b[0m\u001b[0;34m(\u001b[0m\u001b[0mself\u001b[0m\u001b[0;34m,\u001b[0m \u001b[0mfunc\u001b[0m\u001b[0;34m,\u001b[0m \u001b[0mcallback\u001b[0m\u001b[0;34m=\u001b[0m\u001b[0;32mNone\u001b[0m\u001b[0;34m)\u001b[0m\u001b[0;34m:\u001b[0m\u001b[0;34m\u001b[0m\u001b[0;34m\u001b[0m\u001b[0m\n\u001b[1;32m    207\u001b[0m         \u001b[0;34m\"\"\"Schedule a func to be run\"\"\"\u001b[0m\u001b[0;34m\u001b[0m\u001b[0;34m\u001b[0m\u001b[0m\n\u001b[0;32m--> 208\u001b[0;31m         \u001b[0mresult\u001b[0m \u001b[0;34m=\u001b[0m \u001b[0mImmediateResult\u001b[0m\u001b[0;34m(\u001b[0m\u001b[0mfunc\u001b[0m\u001b[0;34m)\u001b[0m\u001b[0;34m\u001b[0m\u001b[0;34m\u001b[0m\u001b[0m\n\u001b[0m\u001b[1;32m    209\u001b[0m         \u001b[0;32mif\u001b[0m \u001b[0mcallback\u001b[0m\u001b[0;34m:\u001b[0m\u001b[0;34m\u001b[0m\u001b[0;34m\u001b[0m\u001b[0m\n\u001b[1;32m    210\u001b[0m             \u001b[0mcallback\u001b[0m\u001b[0;34m(\u001b[0m\u001b[0mresult\u001b[0m\u001b[0;34m)\u001b[0m\u001b[0;34m\u001b[0m\u001b[0;34m\u001b[0m\u001b[0m\n",
            "\u001b[0;32m/usr/local/lib/python3.7/dist-packages/joblib/_parallel_backends.py\u001b[0m in \u001b[0;36m__init__\u001b[0;34m(self, batch)\u001b[0m\n\u001b[1;32m    570\u001b[0m         \u001b[0;31m# Don't delay the application, to avoid keeping the input\u001b[0m\u001b[0;34m\u001b[0m\u001b[0;34m\u001b[0m\u001b[0;34m\u001b[0m\u001b[0m\n\u001b[1;32m    571\u001b[0m         \u001b[0;31m# arguments in memory\u001b[0m\u001b[0;34m\u001b[0m\u001b[0;34m\u001b[0m\u001b[0;34m\u001b[0m\u001b[0m\n\u001b[0;32m--> 572\u001b[0;31m         \u001b[0mself\u001b[0m\u001b[0;34m.\u001b[0m\u001b[0mresults\u001b[0m \u001b[0;34m=\u001b[0m \u001b[0mbatch\u001b[0m\u001b[0;34m(\u001b[0m\u001b[0;34m)\u001b[0m\u001b[0;34m\u001b[0m\u001b[0;34m\u001b[0m\u001b[0m\n\u001b[0m\u001b[1;32m    573\u001b[0m \u001b[0;34m\u001b[0m\u001b[0m\n\u001b[1;32m    574\u001b[0m     \u001b[0;32mdef\u001b[0m \u001b[0mget\u001b[0m\u001b[0;34m(\u001b[0m\u001b[0mself\u001b[0m\u001b[0;34m)\u001b[0m\u001b[0;34m:\u001b[0m\u001b[0;34m\u001b[0m\u001b[0;34m\u001b[0m\u001b[0m\n",
            "\u001b[0;32m/usr/local/lib/python3.7/dist-packages/joblib/parallel.py\u001b[0m in \u001b[0;36m__call__\u001b[0;34m(self)\u001b[0m\n\u001b[1;32m    261\u001b[0m         \u001b[0;32mwith\u001b[0m \u001b[0mparallel_backend\u001b[0m\u001b[0;34m(\u001b[0m\u001b[0mself\u001b[0m\u001b[0;34m.\u001b[0m\u001b[0m_backend\u001b[0m\u001b[0;34m,\u001b[0m \u001b[0mn_jobs\u001b[0m\u001b[0;34m=\u001b[0m\u001b[0mself\u001b[0m\u001b[0;34m.\u001b[0m\u001b[0m_n_jobs\u001b[0m\u001b[0;34m)\u001b[0m\u001b[0;34m:\u001b[0m\u001b[0;34m\u001b[0m\u001b[0;34m\u001b[0m\u001b[0m\n\u001b[1;32m    262\u001b[0m             return [func(*args, **kwargs)\n\u001b[0;32m--> 263\u001b[0;31m                     for func, args, kwargs in self.items]\n\u001b[0m\u001b[1;32m    264\u001b[0m \u001b[0;34m\u001b[0m\u001b[0m\n\u001b[1;32m    265\u001b[0m     \u001b[0;32mdef\u001b[0m \u001b[0m__reduce__\u001b[0m\u001b[0;34m(\u001b[0m\u001b[0mself\u001b[0m\u001b[0;34m)\u001b[0m\u001b[0;34m:\u001b[0m\u001b[0;34m\u001b[0m\u001b[0;34m\u001b[0m\u001b[0m\n",
            "\u001b[0;32m/usr/local/lib/python3.7/dist-packages/joblib/parallel.py\u001b[0m in \u001b[0;36m<listcomp>\u001b[0;34m(.0)\u001b[0m\n\u001b[1;32m    261\u001b[0m         \u001b[0;32mwith\u001b[0m \u001b[0mparallel_backend\u001b[0m\u001b[0;34m(\u001b[0m\u001b[0mself\u001b[0m\u001b[0;34m.\u001b[0m\u001b[0m_backend\u001b[0m\u001b[0;34m,\u001b[0m \u001b[0mn_jobs\u001b[0m\u001b[0;34m=\u001b[0m\u001b[0mself\u001b[0m\u001b[0;34m.\u001b[0m\u001b[0m_n_jobs\u001b[0m\u001b[0;34m)\u001b[0m\u001b[0;34m:\u001b[0m\u001b[0;34m\u001b[0m\u001b[0;34m\u001b[0m\u001b[0m\n\u001b[1;32m    262\u001b[0m             return [func(*args, **kwargs)\n\u001b[0;32m--> 263\u001b[0;31m                     for func, args, kwargs in self.items]\n\u001b[0m\u001b[1;32m    264\u001b[0m \u001b[0;34m\u001b[0m\u001b[0m\n\u001b[1;32m    265\u001b[0m     \u001b[0;32mdef\u001b[0m \u001b[0m__reduce__\u001b[0m\u001b[0;34m(\u001b[0m\u001b[0mself\u001b[0m\u001b[0;34m)\u001b[0m\u001b[0;34m:\u001b[0m\u001b[0;34m\u001b[0m\u001b[0;34m\u001b[0m\u001b[0m\n",
            "\u001b[0;32m/usr/local/lib/python3.7/dist-packages/sklearn/utils/fixes.py\u001b[0m in \u001b[0;36m__call__\u001b[0;34m(self, *args, **kwargs)\u001b[0m\n\u001b[1;32m    209\u001b[0m     \u001b[0;32mdef\u001b[0m \u001b[0m__call__\u001b[0m\u001b[0;34m(\u001b[0m\u001b[0mself\u001b[0m\u001b[0;34m,\u001b[0m \u001b[0;34m*\u001b[0m\u001b[0margs\u001b[0m\u001b[0;34m,\u001b[0m \u001b[0;34m**\u001b[0m\u001b[0mkwargs\u001b[0m\u001b[0;34m)\u001b[0m\u001b[0;34m:\u001b[0m\u001b[0;34m\u001b[0m\u001b[0;34m\u001b[0m\u001b[0m\n\u001b[1;32m    210\u001b[0m         \u001b[0;32mwith\u001b[0m \u001b[0mconfig_context\u001b[0m\u001b[0;34m(\u001b[0m\u001b[0;34m**\u001b[0m\u001b[0mself\u001b[0m\u001b[0;34m.\u001b[0m\u001b[0mconfig\u001b[0m\u001b[0;34m)\u001b[0m\u001b[0;34m:\u001b[0m\u001b[0;34m\u001b[0m\u001b[0;34m\u001b[0m\u001b[0m\n\u001b[0;32m--> 211\u001b[0;31m             \u001b[0;32mreturn\u001b[0m \u001b[0mself\u001b[0m\u001b[0;34m.\u001b[0m\u001b[0mfunction\u001b[0m\u001b[0;34m(\u001b[0m\u001b[0;34m*\u001b[0m\u001b[0margs\u001b[0m\u001b[0;34m,\u001b[0m \u001b[0;34m**\u001b[0m\u001b[0mkwargs\u001b[0m\u001b[0;34m)\u001b[0m\u001b[0;34m\u001b[0m\u001b[0;34m\u001b[0m\u001b[0m\n\u001b[0m\u001b[1;32m    212\u001b[0m \u001b[0;34m\u001b[0m\u001b[0m\n\u001b[1;32m    213\u001b[0m \u001b[0;34m\u001b[0m\u001b[0m\n",
            "\u001b[0;32m/usr/local/lib/python3.7/dist-packages/sklearn/model_selection/_validation.py\u001b[0m in \u001b[0;36m_fit_and_score\u001b[0;34m(estimator, X, y, scorer, train, test, verbose, parameters, fit_params, return_train_score, return_parameters, return_n_test_samples, return_times, return_estimator, split_progress, candidate_progress, error_score)\u001b[0m\n\u001b[1;32m    679\u001b[0m             \u001b[0mestimator\u001b[0m\u001b[0;34m.\u001b[0m\u001b[0mfit\u001b[0m\u001b[0;34m(\u001b[0m\u001b[0mX_train\u001b[0m\u001b[0;34m,\u001b[0m \u001b[0;34m**\u001b[0m\u001b[0mfit_params\u001b[0m\u001b[0;34m)\u001b[0m\u001b[0;34m\u001b[0m\u001b[0;34m\u001b[0m\u001b[0m\n\u001b[1;32m    680\u001b[0m         \u001b[0;32melse\u001b[0m\u001b[0;34m:\u001b[0m\u001b[0;34m\u001b[0m\u001b[0;34m\u001b[0m\u001b[0m\n\u001b[0;32m--> 681\u001b[0;31m             \u001b[0mestimator\u001b[0m\u001b[0;34m.\u001b[0m\u001b[0mfit\u001b[0m\u001b[0;34m(\u001b[0m\u001b[0mX_train\u001b[0m\u001b[0;34m,\u001b[0m \u001b[0my_train\u001b[0m\u001b[0;34m,\u001b[0m \u001b[0;34m**\u001b[0m\u001b[0mfit_params\u001b[0m\u001b[0;34m)\u001b[0m\u001b[0;34m\u001b[0m\u001b[0;34m\u001b[0m\u001b[0m\n\u001b[0m\u001b[1;32m    682\u001b[0m \u001b[0;34m\u001b[0m\u001b[0m\n\u001b[1;32m    683\u001b[0m     \u001b[0;32mexcept\u001b[0m \u001b[0mException\u001b[0m\u001b[0;34m:\u001b[0m\u001b[0;34m\u001b[0m\u001b[0;34m\u001b[0m\u001b[0m\n",
            "\u001b[0;32m/usr/local/lib/python3.7/dist-packages/sklearn/ensemble/_voting.py\u001b[0m in \u001b[0;36mfit\u001b[0;34m(self, X, y, sample_weight)\u001b[0m\n\u001b[1;32m    322\u001b[0m         \u001b[0mtransformed_y\u001b[0m \u001b[0;34m=\u001b[0m \u001b[0mself\u001b[0m\u001b[0;34m.\u001b[0m\u001b[0mle_\u001b[0m\u001b[0;34m.\u001b[0m\u001b[0mtransform\u001b[0m\u001b[0;34m(\u001b[0m\u001b[0my\u001b[0m\u001b[0;34m)\u001b[0m\u001b[0;34m\u001b[0m\u001b[0;34m\u001b[0m\u001b[0m\n\u001b[1;32m    323\u001b[0m \u001b[0;34m\u001b[0m\u001b[0m\n\u001b[0;32m--> 324\u001b[0;31m         \u001b[0;32mreturn\u001b[0m \u001b[0msuper\u001b[0m\u001b[0;34m(\u001b[0m\u001b[0;34m)\u001b[0m\u001b[0;34m.\u001b[0m\u001b[0mfit\u001b[0m\u001b[0;34m(\u001b[0m\u001b[0mX\u001b[0m\u001b[0;34m,\u001b[0m \u001b[0mtransformed_y\u001b[0m\u001b[0;34m,\u001b[0m \u001b[0msample_weight\u001b[0m\u001b[0;34m)\u001b[0m\u001b[0;34m\u001b[0m\u001b[0;34m\u001b[0m\u001b[0m\n\u001b[0m\u001b[1;32m    325\u001b[0m \u001b[0;34m\u001b[0m\u001b[0m\n\u001b[1;32m    326\u001b[0m     \u001b[0;32mdef\u001b[0m \u001b[0mpredict\u001b[0m\u001b[0;34m(\u001b[0m\u001b[0mself\u001b[0m\u001b[0;34m,\u001b[0m \u001b[0mX\u001b[0m\u001b[0;34m)\u001b[0m\u001b[0;34m:\u001b[0m\u001b[0;34m\u001b[0m\u001b[0;34m\u001b[0m\u001b[0m\n",
            "\u001b[0;32m/usr/local/lib/python3.7/dist-packages/sklearn/ensemble/_voting.py\u001b[0m in \u001b[0;36mfit\u001b[0;34m(self, X, y, sample_weight)\u001b[0m\n\u001b[1;32m     81\u001b[0m                 \u001b[0mmessage\u001b[0m\u001b[0;34m=\u001b[0m\u001b[0mself\u001b[0m\u001b[0;34m.\u001b[0m\u001b[0m_log_message\u001b[0m\u001b[0;34m(\u001b[0m\u001b[0mnames\u001b[0m\u001b[0;34m[\u001b[0m\u001b[0midx\u001b[0m\u001b[0;34m]\u001b[0m\u001b[0;34m,\u001b[0m \u001b[0midx\u001b[0m \u001b[0;34m+\u001b[0m \u001b[0;36m1\u001b[0m\u001b[0;34m,\u001b[0m \u001b[0mlen\u001b[0m\u001b[0;34m(\u001b[0m\u001b[0mclfs\u001b[0m\u001b[0;34m)\u001b[0m\u001b[0;34m)\u001b[0m\u001b[0;34m,\u001b[0m\u001b[0;34m\u001b[0m\u001b[0;34m\u001b[0m\u001b[0m\n\u001b[1;32m     82\u001b[0m             )\n\u001b[0;32m---> 83\u001b[0;31m             \u001b[0;32mfor\u001b[0m \u001b[0midx\u001b[0m\u001b[0;34m,\u001b[0m \u001b[0mclf\u001b[0m \u001b[0;32min\u001b[0m \u001b[0menumerate\u001b[0m\u001b[0;34m(\u001b[0m\u001b[0mclfs\u001b[0m\u001b[0;34m)\u001b[0m\u001b[0;34m\u001b[0m\u001b[0;34m\u001b[0m\u001b[0m\n\u001b[0m\u001b[1;32m     84\u001b[0m             \u001b[0;32mif\u001b[0m \u001b[0mclf\u001b[0m \u001b[0;34m!=\u001b[0m \u001b[0;34m\"drop\"\u001b[0m\u001b[0;34m\u001b[0m\u001b[0;34m\u001b[0m\u001b[0m\n\u001b[1;32m     85\u001b[0m         )\n",
            "\u001b[0;32m/usr/local/lib/python3.7/dist-packages/joblib/parallel.py\u001b[0m in \u001b[0;36m__call__\u001b[0;34m(self, iterable)\u001b[0m\n\u001b[1;32m   1044\u001b[0m                 \u001b[0mself\u001b[0m\u001b[0;34m.\u001b[0m\u001b[0m_iterating\u001b[0m \u001b[0;34m=\u001b[0m \u001b[0mself\u001b[0m\u001b[0;34m.\u001b[0m\u001b[0m_original_iterator\u001b[0m \u001b[0;32mis\u001b[0m \u001b[0;32mnot\u001b[0m \u001b[0;32mNone\u001b[0m\u001b[0;34m\u001b[0m\u001b[0;34m\u001b[0m\u001b[0m\n\u001b[1;32m   1045\u001b[0m \u001b[0;34m\u001b[0m\u001b[0m\n\u001b[0;32m-> 1046\u001b[0;31m             \u001b[0;32mwhile\u001b[0m \u001b[0mself\u001b[0m\u001b[0;34m.\u001b[0m\u001b[0mdispatch_one_batch\u001b[0m\u001b[0;34m(\u001b[0m\u001b[0miterator\u001b[0m\u001b[0;34m)\u001b[0m\u001b[0;34m:\u001b[0m\u001b[0;34m\u001b[0m\u001b[0;34m\u001b[0m\u001b[0m\n\u001b[0m\u001b[1;32m   1047\u001b[0m                 \u001b[0;32mpass\u001b[0m\u001b[0;34m\u001b[0m\u001b[0;34m\u001b[0m\u001b[0m\n\u001b[1;32m   1048\u001b[0m \u001b[0;34m\u001b[0m\u001b[0m\n",
            "\u001b[0;32m/usr/local/lib/python3.7/dist-packages/joblib/parallel.py\u001b[0m in \u001b[0;36mdispatch_one_batch\u001b[0;34m(self, iterator)\u001b[0m\n\u001b[1;32m    859\u001b[0m                 \u001b[0;32mreturn\u001b[0m \u001b[0;32mFalse\u001b[0m\u001b[0;34m\u001b[0m\u001b[0;34m\u001b[0m\u001b[0m\n\u001b[1;32m    860\u001b[0m             \u001b[0;32melse\u001b[0m\u001b[0;34m:\u001b[0m\u001b[0;34m\u001b[0m\u001b[0;34m\u001b[0m\u001b[0m\n\u001b[0;32m--> 861\u001b[0;31m                 \u001b[0mself\u001b[0m\u001b[0;34m.\u001b[0m\u001b[0m_dispatch\u001b[0m\u001b[0;34m(\u001b[0m\u001b[0mtasks\u001b[0m\u001b[0;34m)\u001b[0m\u001b[0;34m\u001b[0m\u001b[0;34m\u001b[0m\u001b[0m\n\u001b[0m\u001b[1;32m    862\u001b[0m                 \u001b[0;32mreturn\u001b[0m \u001b[0;32mTrue\u001b[0m\u001b[0;34m\u001b[0m\u001b[0;34m\u001b[0m\u001b[0m\n\u001b[1;32m    863\u001b[0m \u001b[0;34m\u001b[0m\u001b[0m\n",
            "\u001b[0;32m/usr/local/lib/python3.7/dist-packages/joblib/parallel.py\u001b[0m in \u001b[0;36m_dispatch\u001b[0;34m(self, batch)\u001b[0m\n\u001b[1;32m    777\u001b[0m         \u001b[0;32mwith\u001b[0m \u001b[0mself\u001b[0m\u001b[0;34m.\u001b[0m\u001b[0m_lock\u001b[0m\u001b[0;34m:\u001b[0m\u001b[0;34m\u001b[0m\u001b[0;34m\u001b[0m\u001b[0m\n\u001b[1;32m    778\u001b[0m             \u001b[0mjob_idx\u001b[0m \u001b[0;34m=\u001b[0m \u001b[0mlen\u001b[0m\u001b[0;34m(\u001b[0m\u001b[0mself\u001b[0m\u001b[0;34m.\u001b[0m\u001b[0m_jobs\u001b[0m\u001b[0;34m)\u001b[0m\u001b[0;34m\u001b[0m\u001b[0;34m\u001b[0m\u001b[0m\n\u001b[0;32m--> 779\u001b[0;31m             \u001b[0mjob\u001b[0m \u001b[0;34m=\u001b[0m \u001b[0mself\u001b[0m\u001b[0;34m.\u001b[0m\u001b[0m_backend\u001b[0m\u001b[0;34m.\u001b[0m\u001b[0mapply_async\u001b[0m\u001b[0;34m(\u001b[0m\u001b[0mbatch\u001b[0m\u001b[0;34m,\u001b[0m \u001b[0mcallback\u001b[0m\u001b[0;34m=\u001b[0m\u001b[0mcb\u001b[0m\u001b[0;34m)\u001b[0m\u001b[0;34m\u001b[0m\u001b[0;34m\u001b[0m\u001b[0m\n\u001b[0m\u001b[1;32m    780\u001b[0m             \u001b[0;31m# A job can complete so quickly than its callback is\u001b[0m\u001b[0;34m\u001b[0m\u001b[0;34m\u001b[0m\u001b[0;34m\u001b[0m\u001b[0m\n\u001b[1;32m    781\u001b[0m             \u001b[0;31m# called before we get here, causing self._jobs to\u001b[0m\u001b[0;34m\u001b[0m\u001b[0;34m\u001b[0m\u001b[0;34m\u001b[0m\u001b[0m\n",
            "\u001b[0;32m/usr/local/lib/python3.7/dist-packages/joblib/_parallel_backends.py\u001b[0m in \u001b[0;36mapply_async\u001b[0;34m(self, func, callback)\u001b[0m\n\u001b[1;32m    206\u001b[0m     \u001b[0;32mdef\u001b[0m \u001b[0mapply_async\u001b[0m\u001b[0;34m(\u001b[0m\u001b[0mself\u001b[0m\u001b[0;34m,\u001b[0m \u001b[0mfunc\u001b[0m\u001b[0;34m,\u001b[0m \u001b[0mcallback\u001b[0m\u001b[0;34m=\u001b[0m\u001b[0;32mNone\u001b[0m\u001b[0;34m)\u001b[0m\u001b[0;34m:\u001b[0m\u001b[0;34m\u001b[0m\u001b[0;34m\u001b[0m\u001b[0m\n\u001b[1;32m    207\u001b[0m         \u001b[0;34m\"\"\"Schedule a func to be run\"\"\"\u001b[0m\u001b[0;34m\u001b[0m\u001b[0;34m\u001b[0m\u001b[0m\n\u001b[0;32m--> 208\u001b[0;31m         \u001b[0mresult\u001b[0m \u001b[0;34m=\u001b[0m \u001b[0mImmediateResult\u001b[0m\u001b[0;34m(\u001b[0m\u001b[0mfunc\u001b[0m\u001b[0;34m)\u001b[0m\u001b[0;34m\u001b[0m\u001b[0;34m\u001b[0m\u001b[0m\n\u001b[0m\u001b[1;32m    209\u001b[0m         \u001b[0;32mif\u001b[0m \u001b[0mcallback\u001b[0m\u001b[0;34m:\u001b[0m\u001b[0;34m\u001b[0m\u001b[0;34m\u001b[0m\u001b[0m\n\u001b[1;32m    210\u001b[0m             \u001b[0mcallback\u001b[0m\u001b[0;34m(\u001b[0m\u001b[0mresult\u001b[0m\u001b[0;34m)\u001b[0m\u001b[0;34m\u001b[0m\u001b[0;34m\u001b[0m\u001b[0m\n",
            "\u001b[0;32m/usr/local/lib/python3.7/dist-packages/joblib/_parallel_backends.py\u001b[0m in \u001b[0;36m__init__\u001b[0;34m(self, batch)\u001b[0m\n\u001b[1;32m    570\u001b[0m         \u001b[0;31m# Don't delay the application, to avoid keeping the input\u001b[0m\u001b[0;34m\u001b[0m\u001b[0;34m\u001b[0m\u001b[0;34m\u001b[0m\u001b[0m\n\u001b[1;32m    571\u001b[0m         \u001b[0;31m# arguments in memory\u001b[0m\u001b[0;34m\u001b[0m\u001b[0;34m\u001b[0m\u001b[0;34m\u001b[0m\u001b[0m\n\u001b[0;32m--> 572\u001b[0;31m         \u001b[0mself\u001b[0m\u001b[0;34m.\u001b[0m\u001b[0mresults\u001b[0m \u001b[0;34m=\u001b[0m \u001b[0mbatch\u001b[0m\u001b[0;34m(\u001b[0m\u001b[0;34m)\u001b[0m\u001b[0;34m\u001b[0m\u001b[0;34m\u001b[0m\u001b[0m\n\u001b[0m\u001b[1;32m    573\u001b[0m \u001b[0;34m\u001b[0m\u001b[0m\n\u001b[1;32m    574\u001b[0m     \u001b[0;32mdef\u001b[0m \u001b[0mget\u001b[0m\u001b[0;34m(\u001b[0m\u001b[0mself\u001b[0m\u001b[0;34m)\u001b[0m\u001b[0;34m:\u001b[0m\u001b[0;34m\u001b[0m\u001b[0;34m\u001b[0m\u001b[0m\n",
            "\u001b[0;32m/usr/local/lib/python3.7/dist-packages/joblib/parallel.py\u001b[0m in \u001b[0;36m__call__\u001b[0;34m(self)\u001b[0m\n\u001b[1;32m    261\u001b[0m         \u001b[0;32mwith\u001b[0m \u001b[0mparallel_backend\u001b[0m\u001b[0;34m(\u001b[0m\u001b[0mself\u001b[0m\u001b[0;34m.\u001b[0m\u001b[0m_backend\u001b[0m\u001b[0;34m,\u001b[0m \u001b[0mn_jobs\u001b[0m\u001b[0;34m=\u001b[0m\u001b[0mself\u001b[0m\u001b[0;34m.\u001b[0m\u001b[0m_n_jobs\u001b[0m\u001b[0;34m)\u001b[0m\u001b[0;34m:\u001b[0m\u001b[0;34m\u001b[0m\u001b[0;34m\u001b[0m\u001b[0m\n\u001b[1;32m    262\u001b[0m             return [func(*args, **kwargs)\n\u001b[0;32m--> 263\u001b[0;31m                     for func, args, kwargs in self.items]\n\u001b[0m\u001b[1;32m    264\u001b[0m \u001b[0;34m\u001b[0m\u001b[0m\n\u001b[1;32m    265\u001b[0m     \u001b[0;32mdef\u001b[0m \u001b[0m__reduce__\u001b[0m\u001b[0;34m(\u001b[0m\u001b[0mself\u001b[0m\u001b[0;34m)\u001b[0m\u001b[0;34m:\u001b[0m\u001b[0;34m\u001b[0m\u001b[0;34m\u001b[0m\u001b[0m\n",
            "\u001b[0;32m/usr/local/lib/python3.7/dist-packages/joblib/parallel.py\u001b[0m in \u001b[0;36m<listcomp>\u001b[0;34m(.0)\u001b[0m\n\u001b[1;32m    261\u001b[0m         \u001b[0;32mwith\u001b[0m \u001b[0mparallel_backend\u001b[0m\u001b[0;34m(\u001b[0m\u001b[0mself\u001b[0m\u001b[0;34m.\u001b[0m\u001b[0m_backend\u001b[0m\u001b[0;34m,\u001b[0m \u001b[0mn_jobs\u001b[0m\u001b[0;34m=\u001b[0m\u001b[0mself\u001b[0m\u001b[0;34m.\u001b[0m\u001b[0m_n_jobs\u001b[0m\u001b[0;34m)\u001b[0m\u001b[0;34m:\u001b[0m\u001b[0;34m\u001b[0m\u001b[0;34m\u001b[0m\u001b[0m\n\u001b[1;32m    262\u001b[0m             return [func(*args, **kwargs)\n\u001b[0;32m--> 263\u001b[0;31m                     for func, args, kwargs in self.items]\n\u001b[0m\u001b[1;32m    264\u001b[0m \u001b[0;34m\u001b[0m\u001b[0m\n\u001b[1;32m    265\u001b[0m     \u001b[0;32mdef\u001b[0m \u001b[0m__reduce__\u001b[0m\u001b[0;34m(\u001b[0m\u001b[0mself\u001b[0m\u001b[0;34m)\u001b[0m\u001b[0;34m:\u001b[0m\u001b[0;34m\u001b[0m\u001b[0;34m\u001b[0m\u001b[0m\n",
            "\u001b[0;32m/usr/local/lib/python3.7/dist-packages/sklearn/utils/fixes.py\u001b[0m in \u001b[0;36m__call__\u001b[0;34m(self, *args, **kwargs)\u001b[0m\n\u001b[1;32m    209\u001b[0m     \u001b[0;32mdef\u001b[0m \u001b[0m__call__\u001b[0m\u001b[0;34m(\u001b[0m\u001b[0mself\u001b[0m\u001b[0;34m,\u001b[0m \u001b[0;34m*\u001b[0m\u001b[0margs\u001b[0m\u001b[0;34m,\u001b[0m \u001b[0;34m**\u001b[0m\u001b[0mkwargs\u001b[0m\u001b[0;34m)\u001b[0m\u001b[0;34m:\u001b[0m\u001b[0;34m\u001b[0m\u001b[0;34m\u001b[0m\u001b[0m\n\u001b[1;32m    210\u001b[0m         \u001b[0;32mwith\u001b[0m \u001b[0mconfig_context\u001b[0m\u001b[0;34m(\u001b[0m\u001b[0;34m**\u001b[0m\u001b[0mself\u001b[0m\u001b[0;34m.\u001b[0m\u001b[0mconfig\u001b[0m\u001b[0;34m)\u001b[0m\u001b[0;34m:\u001b[0m\u001b[0;34m\u001b[0m\u001b[0;34m\u001b[0m\u001b[0m\n\u001b[0;32m--> 211\u001b[0;31m             \u001b[0;32mreturn\u001b[0m \u001b[0mself\u001b[0m\u001b[0;34m.\u001b[0m\u001b[0mfunction\u001b[0m\u001b[0;34m(\u001b[0m\u001b[0;34m*\u001b[0m\u001b[0margs\u001b[0m\u001b[0;34m,\u001b[0m \u001b[0;34m**\u001b[0m\u001b[0mkwargs\u001b[0m\u001b[0;34m)\u001b[0m\u001b[0;34m\u001b[0m\u001b[0;34m\u001b[0m\u001b[0m\n\u001b[0m\u001b[1;32m    212\u001b[0m \u001b[0;34m\u001b[0m\u001b[0m\n\u001b[1;32m    213\u001b[0m \u001b[0;34m\u001b[0m\u001b[0m\n",
            "\u001b[0;32m/usr/local/lib/python3.7/dist-packages/sklearn/ensemble/_base.py\u001b[0m in \u001b[0;36m_fit_single_estimator\u001b[0;34m(estimator, X, y, sample_weight, message_clsname, message)\u001b[0m\n\u001b[1;32m     40\u001b[0m     \u001b[0;32melse\u001b[0m\u001b[0;34m:\u001b[0m\u001b[0;34m\u001b[0m\u001b[0;34m\u001b[0m\u001b[0m\n\u001b[1;32m     41\u001b[0m         \u001b[0;32mwith\u001b[0m \u001b[0m_print_elapsed_time\u001b[0m\u001b[0;34m(\u001b[0m\u001b[0mmessage_clsname\u001b[0m\u001b[0;34m,\u001b[0m \u001b[0mmessage\u001b[0m\u001b[0;34m)\u001b[0m\u001b[0;34m:\u001b[0m\u001b[0;34m\u001b[0m\u001b[0;34m\u001b[0m\u001b[0m\n\u001b[0;32m---> 42\u001b[0;31m             \u001b[0mestimator\u001b[0m\u001b[0;34m.\u001b[0m\u001b[0mfit\u001b[0m\u001b[0;34m(\u001b[0m\u001b[0mX\u001b[0m\u001b[0;34m,\u001b[0m \u001b[0my\u001b[0m\u001b[0;34m)\u001b[0m\u001b[0;34m\u001b[0m\u001b[0;34m\u001b[0m\u001b[0m\n\u001b[0m\u001b[1;32m     43\u001b[0m     \u001b[0;32mreturn\u001b[0m \u001b[0mestimator\u001b[0m\u001b[0;34m\u001b[0m\u001b[0;34m\u001b[0m\u001b[0m\n\u001b[1;32m     44\u001b[0m \u001b[0;34m\u001b[0m\u001b[0m\n",
            "\u001b[0;32m/usr/local/lib/python3.7/dist-packages/sklearn/ensemble/_weight_boosting.py\u001b[0m in \u001b[0;36mfit\u001b[0;34m(self, X, y, sample_weight)\u001b[0m\n\u001b[1;32m    484\u001b[0m \u001b[0;34m\u001b[0m\u001b[0m\n\u001b[1;32m    485\u001b[0m         \u001b[0;31m# Fit\u001b[0m\u001b[0;34m\u001b[0m\u001b[0;34m\u001b[0m\u001b[0;34m\u001b[0m\u001b[0m\n\u001b[0;32m--> 486\u001b[0;31m         \u001b[0;32mreturn\u001b[0m \u001b[0msuper\u001b[0m\u001b[0;34m(\u001b[0m\u001b[0;34m)\u001b[0m\u001b[0;34m.\u001b[0m\u001b[0mfit\u001b[0m\u001b[0;34m(\u001b[0m\u001b[0mX\u001b[0m\u001b[0;34m,\u001b[0m \u001b[0my\u001b[0m\u001b[0;34m,\u001b[0m \u001b[0msample_weight\u001b[0m\u001b[0;34m)\u001b[0m\u001b[0;34m\u001b[0m\u001b[0;34m\u001b[0m\u001b[0m\n\u001b[0m\u001b[1;32m    487\u001b[0m \u001b[0;34m\u001b[0m\u001b[0m\n\u001b[1;32m    488\u001b[0m     \u001b[0;32mdef\u001b[0m \u001b[0m_validate_estimator\u001b[0m\u001b[0;34m(\u001b[0m\u001b[0mself\u001b[0m\u001b[0;34m)\u001b[0m\u001b[0;34m:\u001b[0m\u001b[0;34m\u001b[0m\u001b[0;34m\u001b[0m\u001b[0m\n",
            "\u001b[0;32m/usr/local/lib/python3.7/dist-packages/sklearn/ensemble/_weight_boosting.py\u001b[0m in \u001b[0;36mfit\u001b[0;34m(self, X, y, sample_weight)\u001b[0m\n\u001b[1;32m    144\u001b[0m             \u001b[0;31m# Boosting step\u001b[0m\u001b[0;34m\u001b[0m\u001b[0;34m\u001b[0m\u001b[0;34m\u001b[0m\u001b[0m\n\u001b[1;32m    145\u001b[0m             sample_weight, estimator_weight, estimator_error = self._boost(\n\u001b[0;32m--> 146\u001b[0;31m                 \u001b[0miboost\u001b[0m\u001b[0;34m,\u001b[0m \u001b[0mX\u001b[0m\u001b[0;34m,\u001b[0m \u001b[0my\u001b[0m\u001b[0;34m,\u001b[0m \u001b[0msample_weight\u001b[0m\u001b[0;34m,\u001b[0m \u001b[0mrandom_state\u001b[0m\u001b[0;34m\u001b[0m\u001b[0;34m\u001b[0m\u001b[0m\n\u001b[0m\u001b[1;32m    147\u001b[0m             )\n\u001b[1;32m    148\u001b[0m \u001b[0;34m\u001b[0m\u001b[0m\n",
            "\u001b[0;32m/usr/local/lib/python3.7/dist-packages/sklearn/ensemble/_weight_boosting.py\u001b[0m in \u001b[0;36m_boost\u001b[0;34m(self, iboost, X, y, sample_weight, random_state)\u001b[0m\n\u001b[1;32m    546\u001b[0m         \"\"\"\n\u001b[1;32m    547\u001b[0m         \u001b[0;32mif\u001b[0m \u001b[0mself\u001b[0m\u001b[0;34m.\u001b[0m\u001b[0malgorithm\u001b[0m \u001b[0;34m==\u001b[0m \u001b[0;34m\"SAMME.R\"\u001b[0m\u001b[0;34m:\u001b[0m\u001b[0;34m\u001b[0m\u001b[0;34m\u001b[0m\u001b[0m\n\u001b[0;32m--> 548\u001b[0;31m             \u001b[0;32mreturn\u001b[0m \u001b[0mself\u001b[0m\u001b[0;34m.\u001b[0m\u001b[0m_boost_real\u001b[0m\u001b[0;34m(\u001b[0m\u001b[0miboost\u001b[0m\u001b[0;34m,\u001b[0m \u001b[0mX\u001b[0m\u001b[0;34m,\u001b[0m \u001b[0my\u001b[0m\u001b[0;34m,\u001b[0m \u001b[0msample_weight\u001b[0m\u001b[0;34m,\u001b[0m \u001b[0mrandom_state\u001b[0m\u001b[0;34m)\u001b[0m\u001b[0;34m\u001b[0m\u001b[0;34m\u001b[0m\u001b[0m\n\u001b[0m\u001b[1;32m    549\u001b[0m \u001b[0;34m\u001b[0m\u001b[0m\n\u001b[1;32m    550\u001b[0m         \u001b[0;32melse\u001b[0m\u001b[0;34m:\u001b[0m  \u001b[0;31m# elif self.algorithm == \"SAMME\":\u001b[0m\u001b[0;34m\u001b[0m\u001b[0;34m\u001b[0m\u001b[0m\n",
            "\u001b[0;32m/usr/local/lib/python3.7/dist-packages/sklearn/ensemble/_weight_boosting.py\u001b[0m in \u001b[0;36m_boost_real\u001b[0;34m(self, iboost, X, y, sample_weight, random_state)\u001b[0m\n\u001b[1;32m    555\u001b[0m         \u001b[0mestimator\u001b[0m \u001b[0;34m=\u001b[0m \u001b[0mself\u001b[0m\u001b[0;34m.\u001b[0m\u001b[0m_make_estimator\u001b[0m\u001b[0;34m(\u001b[0m\u001b[0mrandom_state\u001b[0m\u001b[0;34m=\u001b[0m\u001b[0mrandom_state\u001b[0m\u001b[0;34m)\u001b[0m\u001b[0;34m\u001b[0m\u001b[0;34m\u001b[0m\u001b[0m\n\u001b[1;32m    556\u001b[0m \u001b[0;34m\u001b[0m\u001b[0m\n\u001b[0;32m--> 557\u001b[0;31m         \u001b[0mestimator\u001b[0m\u001b[0;34m.\u001b[0m\u001b[0mfit\u001b[0m\u001b[0;34m(\u001b[0m\u001b[0mX\u001b[0m\u001b[0;34m,\u001b[0m \u001b[0my\u001b[0m\u001b[0;34m,\u001b[0m \u001b[0msample_weight\u001b[0m\u001b[0;34m=\u001b[0m\u001b[0msample_weight\u001b[0m\u001b[0;34m)\u001b[0m\u001b[0;34m\u001b[0m\u001b[0;34m\u001b[0m\u001b[0m\n\u001b[0m\u001b[1;32m    558\u001b[0m \u001b[0;34m\u001b[0m\u001b[0m\n\u001b[1;32m    559\u001b[0m         \u001b[0my_predict_proba\u001b[0m \u001b[0;34m=\u001b[0m \u001b[0mestimator\u001b[0m\u001b[0;34m.\u001b[0m\u001b[0mpredict_proba\u001b[0m\u001b[0;34m(\u001b[0m\u001b[0mX\u001b[0m\u001b[0;34m)\u001b[0m\u001b[0;34m\u001b[0m\u001b[0;34m\u001b[0m\u001b[0m\n",
            "\u001b[0;32m/usr/local/lib/python3.7/dist-packages/sklearn/tree/_classes.py\u001b[0m in \u001b[0;36mfit\u001b[0;34m(self, X, y, sample_weight, check_input, X_idx_sorted)\u001b[0m\n\u001b[1;32m    940\u001b[0m             \u001b[0msample_weight\u001b[0m\u001b[0;34m=\u001b[0m\u001b[0msample_weight\u001b[0m\u001b[0;34m,\u001b[0m\u001b[0;34m\u001b[0m\u001b[0;34m\u001b[0m\u001b[0m\n\u001b[1;32m    941\u001b[0m             \u001b[0mcheck_input\u001b[0m\u001b[0;34m=\u001b[0m\u001b[0mcheck_input\u001b[0m\u001b[0;34m,\u001b[0m\u001b[0;34m\u001b[0m\u001b[0;34m\u001b[0m\u001b[0m\n\u001b[0;32m--> 942\u001b[0;31m             \u001b[0mX_idx_sorted\u001b[0m\u001b[0;34m=\u001b[0m\u001b[0mX_idx_sorted\u001b[0m\u001b[0;34m,\u001b[0m\u001b[0;34m\u001b[0m\u001b[0;34m\u001b[0m\u001b[0m\n\u001b[0m\u001b[1;32m    943\u001b[0m         )\n\u001b[1;32m    944\u001b[0m         \u001b[0;32mreturn\u001b[0m \u001b[0mself\u001b[0m\u001b[0;34m\u001b[0m\u001b[0;34m\u001b[0m\u001b[0m\n",
            "\u001b[0;32m/usr/local/lib/python3.7/dist-packages/sklearn/tree/_classes.py\u001b[0m in \u001b[0;36mfit\u001b[0;34m(self, X, y, sample_weight, check_input, X_idx_sorted)\u001b[0m\n\u001b[1;32m    418\u001b[0m             )\n\u001b[1;32m    419\u001b[0m \u001b[0;34m\u001b[0m\u001b[0m\n\u001b[0;32m--> 420\u001b[0;31m         \u001b[0mbuilder\u001b[0m\u001b[0;34m.\u001b[0m\u001b[0mbuild\u001b[0m\u001b[0;34m(\u001b[0m\u001b[0mself\u001b[0m\u001b[0;34m.\u001b[0m\u001b[0mtree_\u001b[0m\u001b[0;34m,\u001b[0m \u001b[0mX\u001b[0m\u001b[0;34m,\u001b[0m \u001b[0my\u001b[0m\u001b[0;34m,\u001b[0m \u001b[0msample_weight\u001b[0m\u001b[0;34m)\u001b[0m\u001b[0;34m\u001b[0m\u001b[0;34m\u001b[0m\u001b[0m\n\u001b[0m\u001b[1;32m    421\u001b[0m \u001b[0;34m\u001b[0m\u001b[0m\n\u001b[1;32m    422\u001b[0m         \u001b[0;32mif\u001b[0m \u001b[0mself\u001b[0m\u001b[0;34m.\u001b[0m\u001b[0mn_outputs_\u001b[0m \u001b[0;34m==\u001b[0m \u001b[0;36m1\u001b[0m \u001b[0;32mand\u001b[0m \u001b[0mis_classifier\u001b[0m\u001b[0;34m(\u001b[0m\u001b[0mself\u001b[0m\u001b[0;34m)\u001b[0m\u001b[0;34m:\u001b[0m\u001b[0;34m\u001b[0m\u001b[0;34m\u001b[0m\u001b[0m\n",
            "\u001b[0;31mKeyboardInterrupt\u001b[0m: "
          ]
        }
      ]
    },
    {
      "cell_type": "markdown",
      "metadata": {
        "id": "PLL7rPtzOzc4"
      },
      "source": [
        "-------------------------------------------------"
      ]
    },
    {
      "cell_type": "markdown",
      "metadata": {
        "id": "J5-ZH73SK3ke"
      },
      "source": [
        "# Submission File"
      ]
    },
    {
      "cell_type": "code",
      "metadata": {
        "id": "EW-cqKzwI7SS",
        "colab": {
          "base_uri": "https://localhost:8080/"
        },
        "outputId": "7d6dc265-917d-4c0f-f6ae-e599775d5a26"
      },
      "source": [
        "clf_vote.fit(df_train[header_x], df_train['LABELS'])\n",
        "y_pred = clf_vote.predict(df_test[header_x])"
      ],
      "execution_count": null,
      "outputs": [
        {
          "output_type": "stream",
          "name": "stderr",
          "text": [
            "/usr/local/lib/python3.7/dist-packages/sklearn/base.py:446: UserWarning: X does not have valid feature names, but ExtraTreesClassifier was fitted with feature names\n",
            "  \"X does not have valid feature names, but\"\n",
            "/usr/local/lib/python3.7/dist-packages/sklearn/linear_model/_logistic.py:818: ConvergenceWarning: lbfgs failed to converge (status=1):\n",
            "STOP: TOTAL NO. of ITERATIONS REACHED LIMIT.\n",
            "\n",
            "Increase the number of iterations (max_iter) or scale the data as shown in:\n",
            "    https://scikit-learn.org/stable/modules/preprocessing.html\n",
            "Please also refer to the documentation for alternative solver options:\n",
            "    https://scikit-learn.org/stable/modules/linear_model.html#logistic-regression\n",
            "  extra_warning_msg=_LOGISTIC_SOLVER_CONVERGENCE_MSG,\n"
          ]
        }
      ]
    },
    {
      "cell_type": "code",
      "metadata": {
        "colab": {
          "base_uri": "https://localhost:8080/",
          "height": 256
        },
        "id": "k74z42e_nh7i",
        "outputId": "cd791696-5ebb-426d-82c6-de275e417b4f"
      },
      "source": [
        "df_test.head()"
      ],
      "execution_count": null,
      "outputs": [
        {
          "output_type": "execute_result",
          "data": {
            "text/html": [
              "<div>\n",
              "<style scoped>\n",
              "    .dataframe tbody tr th:only-of-type {\n",
              "        vertical-align: middle;\n",
              "    }\n",
              "\n",
              "    .dataframe tbody tr th {\n",
              "        vertical-align: top;\n",
              "    }\n",
              "\n",
              "    .dataframe thead th {\n",
              "        text-align: right;\n",
              "    }\n",
              "</style>\n",
              "<table border=\"1\" class=\"dataframe\">\n",
              "  <thead>\n",
              "    <tr style=\"text-align: right;\">\n",
              "      <th></th>\n",
              "      <th>S2_B2_jan</th>\n",
              "      <th>S2_B3_jan</th>\n",
              "      <th>S2_B4_jan</th>\n",
              "      <th>S2_B5_jan</th>\n",
              "      <th>S2_B6_jan</th>\n",
              "      <th>S2_B7_jan</th>\n",
              "      <th>S2_B8_jan</th>\n",
              "      <th>S2_B8A_jan</th>\n",
              "      <th>S2_B9_jan</th>\n",
              "      <th>S2_B11_jan</th>\n",
              "      <th>S2_B12_jan</th>\n",
              "      <th>S1_VV_jan</th>\n",
              "      <th>S1_VH_jan</th>\n",
              "      <th>ERA5_temperature_2m_jan</th>\n",
              "      <th>ERA5_total_precipitation_jan</th>\n",
              "      <th>topo_elevation_jan</th>\n",
              "      <th>topo_slope_jan</th>\n",
              "      <th>NDVI_jan</th>\n",
              "      <th>S2_B2_feb</th>\n",
              "      <th>S2_B3_feb</th>\n",
              "      <th>S2_B4_feb</th>\n",
              "      <th>S2_B5_feb</th>\n",
              "      <th>S2_B6_feb</th>\n",
              "      <th>S2_B7_feb</th>\n",
              "      <th>S2_B8_feb</th>\n",
              "      <th>S2_B8A_feb</th>\n",
              "      <th>S2_B9_feb</th>\n",
              "      <th>S2_B11_feb</th>\n",
              "      <th>S2_B12_feb</th>\n",
              "      <th>S1_VV_feb</th>\n",
              "      <th>S1_VH_feb</th>\n",
              "      <th>ERA5_temperature_2m_feb</th>\n",
              "      <th>ERA5_total_precipitation_feb</th>\n",
              "      <th>topo_elevation_feb</th>\n",
              "      <th>topo_slope_feb</th>\n",
              "      <th>NDVI_feb</th>\n",
              "      <th>S2_B2_mar</th>\n",
              "      <th>S2_B3_mar</th>\n",
              "      <th>S2_B4_mar</th>\n",
              "      <th>S2_B5_mar</th>\n",
              "      <th>...</th>\n",
              "      <th>ERA5_total_precipitation_oct</th>\n",
              "      <th>topo_elevation_oct</th>\n",
              "      <th>topo_slope_oct</th>\n",
              "      <th>NDVI_oct</th>\n",
              "      <th>S2_B2_nov</th>\n",
              "      <th>S2_B3_nov</th>\n",
              "      <th>S2_B4_nov</th>\n",
              "      <th>S2_B5_nov</th>\n",
              "      <th>S2_B6_nov</th>\n",
              "      <th>S2_B7_nov</th>\n",
              "      <th>S2_B8_nov</th>\n",
              "      <th>S2_B8A_nov</th>\n",
              "      <th>S2_B9_nov</th>\n",
              "      <th>S2_B11_nov</th>\n",
              "      <th>S2_B12_nov</th>\n",
              "      <th>S1_VV_nov</th>\n",
              "      <th>S1_VH_nov</th>\n",
              "      <th>ERA5_temperature_2m_nov</th>\n",
              "      <th>ERA5_total_precipitation_nov</th>\n",
              "      <th>topo_elevation_nov</th>\n",
              "      <th>topo_slope_nov</th>\n",
              "      <th>NDVI_nov</th>\n",
              "      <th>S2_B2_dec</th>\n",
              "      <th>S2_B3_dec</th>\n",
              "      <th>S2_B4_dec</th>\n",
              "      <th>S2_B5_dec</th>\n",
              "      <th>S2_B6_dec</th>\n",
              "      <th>S2_B7_dec</th>\n",
              "      <th>S2_B8_dec</th>\n",
              "      <th>S2_B8A_dec</th>\n",
              "      <th>S2_B9_dec</th>\n",
              "      <th>S2_B11_dec</th>\n",
              "      <th>S2_B12_dec</th>\n",
              "      <th>S1_VV_dec</th>\n",
              "      <th>S1_VH_dec</th>\n",
              "      <th>ERA5_temperature_2m_dec</th>\n",
              "      <th>ERA5_total_precipitation_dec</th>\n",
              "      <th>topo_elevation_dec</th>\n",
              "      <th>topo_slope_dec</th>\n",
              "      <th>NDVI_dec</th>\n",
              "    </tr>\n",
              "  </thead>\n",
              "  <tbody>\n",
              "    <tr>\n",
              "      <th>0</th>\n",
              "      <td>-17.649477</td>\n",
              "      <td>-24.327178</td>\n",
              "      <td>1111.603354</td>\n",
              "      <td>1190.158872</td>\n",
              "      <td>1361.861147</td>\n",
              "      <td>1436.238138</td>\n",
              "      <td>1350.277481</td>\n",
              "      <td>1382.111848</td>\n",
              "      <td>1419.716749</td>\n",
              "      <td>1410.456550</td>\n",
              "      <td>791.939153</td>\n",
              "      <td>1544.845749</td>\n",
              "      <td>954.418168</td>\n",
              "      <td>290.150951</td>\n",
              "      <td>-0.000014</td>\n",
              "      <td>320.552335</td>\n",
              "      <td>0.907441</td>\n",
              "      <td>0.090289</td>\n",
              "      <td>-17.090842</td>\n",
              "      <td>-31.772597</td>\n",
              "      <td>1494.089651</td>\n",
              "      <td>1310.167001</td>\n",
              "      <td>1471.223227</td>\n",
              "      <td>1727.377971</td>\n",
              "      <td>1557.460054</td>\n",
              "      <td>2079.405879</td>\n",
              "      <td>1872.317204</td>\n",
              "      <td>2209.610624</td>\n",
              "      <td>446.378354</td>\n",
              "      <td>2387.852010</td>\n",
              "      <td>1496.711254</td>\n",
              "      <td>318.351112</td>\n",
              "      <td>0.000239</td>\n",
              "      <td>284.120689</td>\n",
              "      <td>1.126154</td>\n",
              "      <td>0.127578</td>\n",
              "      <td>-17.328101</td>\n",
              "      <td>-26.790417</td>\n",
              "      <td>2341.333406</td>\n",
              "      <td>1943.624133</td>\n",
              "      <td>...</td>\n",
              "      <td>0.000057</td>\n",
              "      <td>338.038820</td>\n",
              "      <td>0.947951</td>\n",
              "      <td>0.079908</td>\n",
              "      <td>-16.683532</td>\n",
              "      <td>-26.353509</td>\n",
              "      <td>820.269397</td>\n",
              "      <td>621.081339</td>\n",
              "      <td>574.337359</td>\n",
              "      <td>532.195309</td>\n",
              "      <td>491.053353</td>\n",
              "      <td>556.117036</td>\n",
              "      <td>449.004636</td>\n",
              "      <td>585.462245</td>\n",
              "      <td>909.720871</td>\n",
              "      <td>651.937939</td>\n",
              "      <td>482.306406</td>\n",
              "      <td>292.225523</td>\n",
              "      <td>-0.000129</td>\n",
              "      <td>265.256953</td>\n",
              "      <td>1.155948</td>\n",
              "      <td>-0.118161</td>\n",
              "      <td>-18.158991</td>\n",
              "      <td>-32.178988</td>\n",
              "      <td>955.984617</td>\n",
              "      <td>1071.836061</td>\n",
              "      <td>864.854320</td>\n",
              "      <td>802.212518</td>\n",
              "      <td>929.409800</td>\n",
              "      <td>983.274904</td>\n",
              "      <td>777.782928</td>\n",
              "      <td>966.513644</td>\n",
              "      <td>467.731680</td>\n",
              "      <td>1045.355257</td>\n",
              "      <td>633.790963</td>\n",
              "      <td>296.952437</td>\n",
              "      <td>0.000092</td>\n",
              "      <td>276.466775</td>\n",
              "      <td>0.765980</td>\n",
              "      <td>0.000600</td>\n",
              "    </tr>\n",
              "    <tr>\n",
              "      <th>1</th>\n",
              "      <td>-14.559686</td>\n",
              "      <td>-19.936119</td>\n",
              "      <td>1764.795592</td>\n",
              "      <td>1856.603435</td>\n",
              "      <td>2156.740323</td>\n",
              "      <td>2633.317506</td>\n",
              "      <td>2731.894209</td>\n",
              "      <td>2878.742338</td>\n",
              "      <td>2621.323845</td>\n",
              "      <td>3201.553256</td>\n",
              "      <td>653.528138</td>\n",
              "      <td>3813.330232</td>\n",
              "      <td>2619.750610</td>\n",
              "      <td>290.769787</td>\n",
              "      <td>0.000277</td>\n",
              "      <td>228.182568</td>\n",
              "      <td>2.825683</td>\n",
              "      <td>0.224964</td>\n",
              "      <td>-14.098418</td>\n",
              "      <td>-21.872780</td>\n",
              "      <td>1379.575560</td>\n",
              "      <td>1109.498228</td>\n",
              "      <td>1249.058309</td>\n",
              "      <td>1512.309992</td>\n",
              "      <td>1588.693324</td>\n",
              "      <td>2272.925625</td>\n",
              "      <td>2039.929984</td>\n",
              "      <td>2556.545263</td>\n",
              "      <td>279.258159</td>\n",
              "      <td>3360.289686</td>\n",
              "      <td>2261.055792</td>\n",
              "      <td>315.500167</td>\n",
              "      <td>0.003192</td>\n",
              "      <td>192.126606</td>\n",
              "      <td>2.886615</td>\n",
              "      <td>0.239924</td>\n",
              "      <td>-14.720192</td>\n",
              "      <td>-20.933328</td>\n",
              "      <td>1497.123114</td>\n",
              "      <td>1148.047850</td>\n",
              "      <td>...</td>\n",
              "      <td>0.001278</td>\n",
              "      <td>237.317837</td>\n",
              "      <td>2.729996</td>\n",
              "      <td>0.451665</td>\n",
              "      <td>-9.539860</td>\n",
              "      <td>-14.687268</td>\n",
              "      <td>1130.693975</td>\n",
              "      <td>1005.945290</td>\n",
              "      <td>975.491411</td>\n",
              "      <td>1212.845614</td>\n",
              "      <td>1845.339785</td>\n",
              "      <td>2470.270542</td>\n",
              "      <td>2273.930878</td>\n",
              "      <td>2681.168407</td>\n",
              "      <td>624.873649</td>\n",
              "      <td>2374.795765</td>\n",
              "      <td>1423.816872</td>\n",
              "      <td>293.877027</td>\n",
              "      <td>-0.000032</td>\n",
              "      <td>174.896618</td>\n",
              "      <td>3.001843</td>\n",
              "      <td>0.395926</td>\n",
              "      <td>-12.003004</td>\n",
              "      <td>-15.907136</td>\n",
              "      <td>1449.036137</td>\n",
              "      <td>1499.111009</td>\n",
              "      <td>1406.431562</td>\n",
              "      <td>1419.825821</td>\n",
              "      <td>1976.273983</td>\n",
              "      <td>2110.880967</td>\n",
              "      <td>2026.702042</td>\n",
              "      <td>2292.479225</td>\n",
              "      <td>791.909589</td>\n",
              "      <td>2902.059945</td>\n",
              "      <td>1728.924349</td>\n",
              "      <td>298.468523</td>\n",
              "      <td>0.000139</td>\n",
              "      <td>187.130317</td>\n",
              "      <td>2.598537</td>\n",
              "      <td>0.217297</td>\n",
              "    </tr>\n",
              "    <tr>\n",
              "      <th>2</th>\n",
              "      <td>-14.208844</td>\n",
              "      <td>-21.404320</td>\n",
              "      <td>1210.320260</td>\n",
              "      <td>1246.028476</td>\n",
              "      <td>1523.531488</td>\n",
              "      <td>1706.652761</td>\n",
              "      <td>2014.364032</td>\n",
              "      <td>2198.544215</td>\n",
              "      <td>2277.422666</td>\n",
              "      <td>2547.302707</td>\n",
              "      <td>493.607303</td>\n",
              "      <td>3180.495470</td>\n",
              "      <td>1993.207870</td>\n",
              "      <td>290.758535</td>\n",
              "      <td>0.000193</td>\n",
              "      <td>370.585959</td>\n",
              "      <td>0.899931</td>\n",
              "      <td>0.279854</td>\n",
              "      <td>-12.988959</td>\n",
              "      <td>-19.602587</td>\n",
              "      <td>1290.396444</td>\n",
              "      <td>1030.335318</td>\n",
              "      <td>1091.917269</td>\n",
              "      <td>1399.452537</td>\n",
              "      <td>1618.089344</td>\n",
              "      <td>2313.608754</td>\n",
              "      <td>2176.693786</td>\n",
              "      <td>2625.514197</td>\n",
              "      <td>259.243765</td>\n",
              "      <td>2788.327927</td>\n",
              "      <td>1602.841871</td>\n",
              "      <td>315.668946</td>\n",
              "      <td>0.001630</td>\n",
              "      <td>333.950817</td>\n",
              "      <td>1.119261</td>\n",
              "      <td>0.278538</td>\n",
              "      <td>-9.789744</td>\n",
              "      <td>-17.073523</td>\n",
              "      <td>1251.713146</td>\n",
              "      <td>1028.116328</td>\n",
              "      <td>...</td>\n",
              "      <td>0.000276</td>\n",
              "      <td>392.596019</td>\n",
              "      <td>0.940974</td>\n",
              "      <td>0.422171</td>\n",
              "      <td>-12.628563</td>\n",
              "      <td>-19.290682</td>\n",
              "      <td>1139.424667</td>\n",
              "      <td>1063.674883</td>\n",
              "      <td>1069.126878</td>\n",
              "      <td>1311.602841</td>\n",
              "      <td>2152.553755</td>\n",
              "      <td>2921.106924</td>\n",
              "      <td>2645.276184</td>\n",
              "      <td>3101.293538</td>\n",
              "      <td>723.809135</td>\n",
              "      <td>2996.171738</td>\n",
              "      <td>1901.663436</td>\n",
              "      <td>293.381766</td>\n",
              "      <td>-0.000124</td>\n",
              "      <td>314.202135</td>\n",
              "      <td>1.148721</td>\n",
              "      <td>0.447757</td>\n",
              "      <td>-11.980708</td>\n",
              "      <td>-20.019002</td>\n",
              "      <td>1425.459868</td>\n",
              "      <td>1529.781735</td>\n",
              "      <td>1454.750721</td>\n",
              "      <td>1473.809798</td>\n",
              "      <td>2082.446821</td>\n",
              "      <td>2214.546398</td>\n",
              "      <td>2103.697056</td>\n",
              "      <td>2369.819453</td>\n",
              "      <td>893.709359</td>\n",
              "      <td>3217.008133</td>\n",
              "      <td>2158.612101</td>\n",
              "      <td>298.045025</td>\n",
              "      <td>0.000104</td>\n",
              "      <td>324.857357</td>\n",
              "      <td>0.758805</td>\n",
              "      <td>0.230539</td>\n",
              "    </tr>\n",
              "    <tr>\n",
              "      <th>3</th>\n",
              "      <td>-13.895412</td>\n",
              "      <td>-21.169488</td>\n",
              "      <td>1550.755198</td>\n",
              "      <td>1541.339240</td>\n",
              "      <td>1732.355678</td>\n",
              "      <td>1828.669115</td>\n",
              "      <td>1876.796177</td>\n",
              "      <td>2001.004560</td>\n",
              "      <td>1996.979443</td>\n",
              "      <td>2212.820792</td>\n",
              "      <td>536.626943</td>\n",
              "      <td>2766.871496</td>\n",
              "      <td>1886.968014</td>\n",
              "      <td>290.612265</td>\n",
              "      <td>0.000492</td>\n",
              "      <td>225.296013</td>\n",
              "      <td>1.291606</td>\n",
              "      <td>0.142753</td>\n",
              "      <td>-13.732596</td>\n",
              "      <td>-25.613399</td>\n",
              "      <td>1645.086108</td>\n",
              "      <td>1296.359517</td>\n",
              "      <td>1424.261537</td>\n",
              "      <td>1728.442664</td>\n",
              "      <td>1697.091146</td>\n",
              "      <td>2316.907386</td>\n",
              "      <td>2092.373246</td>\n",
              "      <td>2531.465651</td>\n",
              "      <td>490.410022</td>\n",
              "      <td>3146.702530</td>\n",
              "      <td>2261.055792</td>\n",
              "      <td>315.563205</td>\n",
              "      <td>0.002035</td>\n",
              "      <td>189.251791</td>\n",
              "      <td>1.478720</td>\n",
              "      <td>0.181046</td>\n",
              "      <td>-12.574171</td>\n",
              "      <td>-17.184522</td>\n",
              "      <td>1307.339406</td>\n",
              "      <td>1091.286366</td>\n",
              "      <td>...</td>\n",
              "      <td>0.001557</td>\n",
              "      <td>234.170306</td>\n",
              "      <td>1.304840</td>\n",
              "      <td>0.459526</td>\n",
              "      <td>-10.437747</td>\n",
              "      <td>-15.237973</td>\n",
              "      <td>1142.334897</td>\n",
              "      <td>1011.718249</td>\n",
              "      <td>1115.451793</td>\n",
              "      <td>1261.256019</td>\n",
              "      <td>1700.821971</td>\n",
              "      <td>2246.481880</td>\n",
              "      <td>2060.561200</td>\n",
              "      <td>2489.307983</td>\n",
              "      <td>590.083149</td>\n",
              "      <td>2802.854768</td>\n",
              "      <td>1765.291699</td>\n",
              "      <td>293.937982</td>\n",
              "      <td>0.000016</td>\n",
              "      <td>172.072858</td>\n",
              "      <td>1.525624</td>\n",
              "      <td>0.348237</td>\n",
              "      <td>-13.620376</td>\n",
              "      <td>-22.277632</td>\n",
              "      <td>1430.585144</td>\n",
              "      <td>1538.242625</td>\n",
              "      <td>1513.136372</td>\n",
              "      <td>1501.259279</td>\n",
              "      <td>2016.619661</td>\n",
              "      <td>2156.845828</td>\n",
              "      <td>2101.697185</td>\n",
              "      <td>2372.614882</td>\n",
              "      <td>841.326953</td>\n",
              "      <td>3259.568699</td>\n",
              "      <td>1979.892417</td>\n",
              "      <td>298.534272</td>\n",
              "      <td>0.000130</td>\n",
              "      <td>184.338553</td>\n",
              "      <td>1.132985</td>\n",
              "      <td>0.214938</td>\n",
              "    </tr>\n",
              "    <tr>\n",
              "      <th>4</th>\n",
              "      <td>-11.562658</td>\n",
              "      <td>-13.594914</td>\n",
              "      <td>1171.571568</td>\n",
              "      <td>1143.268311</td>\n",
              "      <td>1296.423152</td>\n",
              "      <td>1376.878830</td>\n",
              "      <td>1488.835033</td>\n",
              "      <td>1530.996415</td>\n",
              "      <td>1667.407479</td>\n",
              "      <td>1737.091382</td>\n",
              "      <td>507.635446</td>\n",
              "      <td>2191.567167</td>\n",
              "      <td>1551.903853</td>\n",
              "      <td>290.589762</td>\n",
              "      <td>0.000187</td>\n",
              "      <td>305.157374</td>\n",
              "      <td>0.901068</td>\n",
              "      <td>0.155692</td>\n",
              "      <td>-10.019630</td>\n",
              "      <td>-16.884091</td>\n",
              "      <td>1176.895752</td>\n",
              "      <td>948.410911</td>\n",
              "      <td>847.174615</td>\n",
              "      <td>1280.206924</td>\n",
              "      <td>1689.742141</td>\n",
              "      <td>2444.454492</td>\n",
              "      <td>2315.514186</td>\n",
              "      <td>2716.427792</td>\n",
              "      <td>240.230090</td>\n",
              "      <td>2203.016971</td>\n",
              "      <td>1248.732986</td>\n",
              "      <td>315.587607</td>\n",
              "      <td>0.001948</td>\n",
              "      <td>268.788342</td>\n",
              "      <td>1.120304</td>\n",
              "      <td>0.334847</td>\n",
              "      <td>-9.154138</td>\n",
              "      <td>-14.943727</td>\n",
              "      <td>1112.102142</td>\n",
              "      <td>891.705665</td>\n",
              "      <td>...</td>\n",
              "      <td>0.000281</td>\n",
              "      <td>321.251989</td>\n",
              "      <td>0.942030</td>\n",
              "      <td>0.378118</td>\n",
              "      <td>-9.362503</td>\n",
              "      <td>-14.318700</td>\n",
              "      <td>989.062762</td>\n",
              "      <td>839.491631</td>\n",
              "      <td>723.168470</td>\n",
              "      <td>914.637514</td>\n",
              "      <td>1593.569757</td>\n",
              "      <td>2133.501197</td>\n",
              "      <td>1983.625017</td>\n",
              "      <td>2356.481536</td>\n",
              "      <td>561.815867</td>\n",
              "      <td>1825.648110</td>\n",
              "      <td>962.334917</td>\n",
              "      <td>293.597014</td>\n",
              "      <td>-0.000127</td>\n",
              "      <td>250.196898</td>\n",
              "      <td>1.149815</td>\n",
              "      <td>0.409504</td>\n",
              "      <td>-10.946743</td>\n",
              "      <td>-17.536084</td>\n",
              "      <td>1274.776764</td>\n",
              "      <td>1355.275878</td>\n",
              "      <td>1253.420892</td>\n",
              "      <td>1285.323368</td>\n",
              "      <td>1787.286331</td>\n",
              "      <td>1916.263789</td>\n",
              "      <td>1926.708518</td>\n",
              "      <td>2116.367142</td>\n",
              "      <td>849.233731</td>\n",
              "      <td>2550.935276</td>\n",
              "      <td>1457.042276</td>\n",
              "      <td>298.389238</td>\n",
              "      <td>0.000113</td>\n",
              "      <td>261.577366</td>\n",
              "      <td>0.759891</td>\n",
              "      <td>0.220560</td>\n",
              "    </tr>\n",
              "  </tbody>\n",
              "</table>\n",
              "<p>5 rows × 216 columns</p>\n",
              "</div>"
            ],
            "text/plain": [
              "   S2_B2_jan  S2_B3_jan  ...  topo_slope_dec  NDVI_dec\n",
              "0 -17.649477 -24.327178  ...        0.765980  0.000600\n",
              "1 -14.559686 -19.936119  ...        2.598537  0.217297\n",
              "2 -14.208844 -21.404320  ...        0.758805  0.230539\n",
              "3 -13.895412 -21.169488  ...        1.132985  0.214938\n",
              "4 -11.562658 -13.594914  ...        0.759891  0.220560\n",
              "\n",
              "[5 rows x 216 columns]"
            ]
          },
          "metadata": {},
          "execution_count": 94
        }
      ]
    },
    {
      "cell_type": "code",
      "source": [
        ""
      ],
      "metadata": {
        "id": "4gNMR3wpGhZG"
      },
      "execution_count": null,
      "outputs": []
    },
    {
      "cell_type": "code",
      "metadata": {
        "id": "9GClNJCEJe7B"
      },
      "source": [
        "dummy = pd.DataFrame()\n",
        "dummy[\"LABELS\"]=clf_vote.predict(df_test[header_x])"
      ],
      "execution_count": null,
      "outputs": []
    },
    {
      "cell_type": "code",
      "metadata": {
        "colab": {
          "base_uri": "https://localhost:8080/",
          "height": 381
        },
        "id": "liIjIFpOqcRO",
        "outputId": "d8b036cb-208c-4449-8869-7d1908cff0fb"
      },
      "source": [
        "dummy.index.name = 'S.No'\n",
        "dummy.reset_index(inplace=True)"
      ],
      "execution_count": null,
      "outputs": [
        {
          "output_type": "error",
          "ename": "ValueError",
          "evalue": "ignored",
          "traceback": [
            "\u001b[0;31m---------------------------------------------------------------------------\u001b[0m",
            "\u001b[0;31mValueError\u001b[0m                                Traceback (most recent call last)",
            "\u001b[0;32m<ipython-input-103-12cc2ee39484>\u001b[0m in \u001b[0;36m<module>\u001b[0;34m()\u001b[0m\n\u001b[1;32m      1\u001b[0m \u001b[0;31m# dummy = dummy.reindex(dummy.index.rename(['S.No']))\u001b[0m\u001b[0;34m\u001b[0m\u001b[0;34m\u001b[0m\u001b[0;34m\u001b[0m\u001b[0m\n\u001b[1;32m      2\u001b[0m \u001b[0mdummy\u001b[0m\u001b[0;34m.\u001b[0m\u001b[0mindex\u001b[0m\u001b[0;34m.\u001b[0m\u001b[0mname\u001b[0m \u001b[0;34m=\u001b[0m \u001b[0;34m'S.No'\u001b[0m\u001b[0;34m\u001b[0m\u001b[0;34m\u001b[0m\u001b[0m\n\u001b[0;32m----> 3\u001b[0;31m \u001b[0mdummy\u001b[0m\u001b[0;34m.\u001b[0m\u001b[0mreset_index\u001b[0m\u001b[0;34m(\u001b[0m\u001b[0minplace\u001b[0m\u001b[0;34m=\u001b[0m\u001b[0;32mTrue\u001b[0m\u001b[0;34m)\u001b[0m\u001b[0;34m\u001b[0m\u001b[0;34m\u001b[0m\u001b[0m\n\u001b[0m\u001b[1;32m      4\u001b[0m \u001b[0mdummy\u001b[0m\u001b[0;34m.\u001b[0m\u001b[0mLABELS\u001b[0m \u001b[0;34m=\u001b[0m \u001b[0mdummy\u001b[0m\u001b[0;34m.\u001b[0m\u001b[0mLABELS\u001b[0m\u001b[0;34m.\u001b[0m\u001b[0mastype\u001b[0m\u001b[0;34m(\u001b[0m\u001b[0mint\u001b[0m\u001b[0;34m)\u001b[0m\u001b[0;34m\u001b[0m\u001b[0;34m\u001b[0m\u001b[0m\n\u001b[1;32m      5\u001b[0m \u001b[0mdummy\u001b[0m\u001b[0;34m.\u001b[0m\u001b[0mhead\u001b[0m\u001b[0;34m(\u001b[0m\u001b[0;34m)\u001b[0m\u001b[0;34m\u001b[0m\u001b[0;34m\u001b[0m\u001b[0m\n",
            "\u001b[0;32m/usr/local/lib/python3.7/dist-packages/pandas/core/frame.py\u001b[0m in \u001b[0;36mreset_index\u001b[0;34m(self, level, drop, inplace, col_level, col_fill)\u001b[0m\n\u001b[1;32m   4857\u001b[0m                 \u001b[0;31m# to ndarray and maybe infer different dtype\u001b[0m\u001b[0;34m\u001b[0m\u001b[0;34m\u001b[0m\u001b[0;34m\u001b[0m\u001b[0m\n\u001b[1;32m   4858\u001b[0m                 \u001b[0mlevel_values\u001b[0m \u001b[0;34m=\u001b[0m \u001b[0m_maybe_casted_values\u001b[0m\u001b[0;34m(\u001b[0m\u001b[0mlev\u001b[0m\u001b[0;34m,\u001b[0m \u001b[0mlab\u001b[0m\u001b[0;34m)\u001b[0m\u001b[0;34m\u001b[0m\u001b[0;34m\u001b[0m\u001b[0m\n\u001b[0;32m-> 4859\u001b[0;31m                 \u001b[0mnew_obj\u001b[0m\u001b[0;34m.\u001b[0m\u001b[0minsert\u001b[0m\u001b[0;34m(\u001b[0m\u001b[0;36m0\u001b[0m\u001b[0;34m,\u001b[0m \u001b[0mname\u001b[0m\u001b[0;34m,\u001b[0m \u001b[0mlevel_values\u001b[0m\u001b[0;34m)\u001b[0m\u001b[0;34m\u001b[0m\u001b[0;34m\u001b[0m\u001b[0m\n\u001b[0m\u001b[1;32m   4860\u001b[0m \u001b[0;34m\u001b[0m\u001b[0m\n\u001b[1;32m   4861\u001b[0m         \u001b[0mnew_obj\u001b[0m\u001b[0;34m.\u001b[0m\u001b[0mindex\u001b[0m \u001b[0;34m=\u001b[0m \u001b[0mnew_index\u001b[0m\u001b[0;34m\u001b[0m\u001b[0;34m\u001b[0m\u001b[0m\n",
            "\u001b[0;32m/usr/local/lib/python3.7/dist-packages/pandas/core/frame.py\u001b[0m in \u001b[0;36minsert\u001b[0;34m(self, loc, column, value, allow_duplicates)\u001b[0m\n\u001b[1;32m   3626\u001b[0m         \u001b[0mself\u001b[0m\u001b[0;34m.\u001b[0m\u001b[0m_ensure_valid_index\u001b[0m\u001b[0;34m(\u001b[0m\u001b[0mvalue\u001b[0m\u001b[0;34m)\u001b[0m\u001b[0;34m\u001b[0m\u001b[0;34m\u001b[0m\u001b[0m\n\u001b[1;32m   3627\u001b[0m         \u001b[0mvalue\u001b[0m \u001b[0;34m=\u001b[0m \u001b[0mself\u001b[0m\u001b[0;34m.\u001b[0m\u001b[0m_sanitize_column\u001b[0m\u001b[0;34m(\u001b[0m\u001b[0mcolumn\u001b[0m\u001b[0;34m,\u001b[0m \u001b[0mvalue\u001b[0m\u001b[0;34m,\u001b[0m \u001b[0mbroadcast\u001b[0m\u001b[0;34m=\u001b[0m\u001b[0;32mFalse\u001b[0m\u001b[0;34m)\u001b[0m\u001b[0;34m\u001b[0m\u001b[0;34m\u001b[0m\u001b[0m\n\u001b[0;32m-> 3628\u001b[0;31m         \u001b[0mself\u001b[0m\u001b[0;34m.\u001b[0m\u001b[0m_mgr\u001b[0m\u001b[0;34m.\u001b[0m\u001b[0minsert\u001b[0m\u001b[0;34m(\u001b[0m\u001b[0mloc\u001b[0m\u001b[0;34m,\u001b[0m \u001b[0mcolumn\u001b[0m\u001b[0;34m,\u001b[0m \u001b[0mvalue\u001b[0m\u001b[0;34m,\u001b[0m \u001b[0mallow_duplicates\u001b[0m\u001b[0;34m=\u001b[0m\u001b[0mallow_duplicates\u001b[0m\u001b[0;34m)\u001b[0m\u001b[0;34m\u001b[0m\u001b[0;34m\u001b[0m\u001b[0m\n\u001b[0m\u001b[1;32m   3629\u001b[0m \u001b[0;34m\u001b[0m\u001b[0m\n\u001b[1;32m   3630\u001b[0m     \u001b[0;32mdef\u001b[0m \u001b[0massign\u001b[0m\u001b[0;34m(\u001b[0m\u001b[0mself\u001b[0m\u001b[0;34m,\u001b[0m \u001b[0;34m**\u001b[0m\u001b[0mkwargs\u001b[0m\u001b[0;34m)\u001b[0m \u001b[0;34m->\u001b[0m \u001b[0;34m\"DataFrame\"\u001b[0m\u001b[0;34m:\u001b[0m\u001b[0;34m\u001b[0m\u001b[0;34m\u001b[0m\u001b[0m\n",
            "\u001b[0;32m/usr/local/lib/python3.7/dist-packages/pandas/core/internals/managers.py\u001b[0m in \u001b[0;36minsert\u001b[0;34m(self, loc, item, value, allow_duplicates)\u001b[0m\n\u001b[1;32m   1184\u001b[0m         \u001b[0;32mif\u001b[0m \u001b[0;32mnot\u001b[0m \u001b[0mallow_duplicates\u001b[0m \u001b[0;32mand\u001b[0m \u001b[0mitem\u001b[0m \u001b[0;32min\u001b[0m \u001b[0mself\u001b[0m\u001b[0;34m.\u001b[0m\u001b[0mitems\u001b[0m\u001b[0;34m:\u001b[0m\u001b[0;34m\u001b[0m\u001b[0;34m\u001b[0m\u001b[0m\n\u001b[1;32m   1185\u001b[0m             \u001b[0;31m# Should this be a different kind of error??\u001b[0m\u001b[0;34m\u001b[0m\u001b[0;34m\u001b[0m\u001b[0;34m\u001b[0m\u001b[0m\n\u001b[0;32m-> 1186\u001b[0;31m             \u001b[0;32mraise\u001b[0m \u001b[0mValueError\u001b[0m\u001b[0;34m(\u001b[0m\u001b[0;34mf\"cannot insert {item}, already exists\"\u001b[0m\u001b[0;34m)\u001b[0m\u001b[0;34m\u001b[0m\u001b[0;34m\u001b[0m\u001b[0m\n\u001b[0m\u001b[1;32m   1187\u001b[0m \u001b[0;34m\u001b[0m\u001b[0m\n\u001b[1;32m   1188\u001b[0m         \u001b[0;32mif\u001b[0m \u001b[0;32mnot\u001b[0m \u001b[0misinstance\u001b[0m\u001b[0;34m(\u001b[0m\u001b[0mloc\u001b[0m\u001b[0;34m,\u001b[0m \u001b[0mint\u001b[0m\u001b[0;34m)\u001b[0m\u001b[0;34m:\u001b[0m\u001b[0;34m\u001b[0m\u001b[0;34m\u001b[0m\u001b[0m\n",
            "\u001b[0;31mValueError\u001b[0m: cannot insert S.No, already exists"
          ]
        }
      ]
    },
    {
      "cell_type": "code",
      "metadata": {
        "colab": {
          "base_uri": "https://localhost:8080/",
          "height": 346
        },
        "id": "5X1jlRYxuCjQ",
        "outputId": "0c4cb91c-65e1-422d-de5f-22ec9a2ee4e5"
      },
      "source": [
        "dummy.LABELS = dummy.LABELS.astype(int)\n",
        "dummy.head()"
      ],
      "execution_count": null,
      "outputs": [
        {
          "output_type": "error",
          "ename": "ValueError",
          "evalue": "ignored",
          "traceback": [
            "\u001b[0;31m---------------------------------------------------------------------------\u001b[0m",
            "\u001b[0;31mValueError\u001b[0m                                Traceback (most recent call last)",
            "\u001b[0;32m<ipython-input-111-1915bd3148c0>\u001b[0m in \u001b[0;36m<module>\u001b[0;34m()\u001b[0m\n\u001b[0;32m----> 1\u001b[0;31m \u001b[0mdummy\u001b[0m\u001b[0;34m.\u001b[0m\u001b[0mreset_index\u001b[0m\u001b[0;34m(\u001b[0m\u001b[0minplace\u001b[0m\u001b[0;34m=\u001b[0m\u001b[0;32mTrue\u001b[0m\u001b[0;34m)\u001b[0m\u001b[0;34m\u001b[0m\u001b[0;34m\u001b[0m\u001b[0m\n\u001b[0m\u001b[1;32m      2\u001b[0m \u001b[0mdummy\u001b[0m\u001b[0;34m.\u001b[0m\u001b[0mLABELS\u001b[0m \u001b[0;34m=\u001b[0m \u001b[0mdummy\u001b[0m\u001b[0;34m.\u001b[0m\u001b[0mLABELS\u001b[0m\u001b[0;34m.\u001b[0m\u001b[0mastype\u001b[0m\u001b[0;34m(\u001b[0m\u001b[0mint\u001b[0m\u001b[0;34m)\u001b[0m\u001b[0;34m\u001b[0m\u001b[0;34m\u001b[0m\u001b[0m\n\u001b[1;32m      3\u001b[0m \u001b[0mdummy\u001b[0m\u001b[0;34m.\u001b[0m\u001b[0mhead\u001b[0m\u001b[0;34m(\u001b[0m\u001b[0;34m)\u001b[0m\u001b[0;34m\u001b[0m\u001b[0;34m\u001b[0m\u001b[0m\n",
            "\u001b[0;32m/usr/local/lib/python3.7/dist-packages/pandas/core/frame.py\u001b[0m in \u001b[0;36mreset_index\u001b[0;34m(self, level, drop, inplace, col_level, col_fill)\u001b[0m\n\u001b[1;32m   4857\u001b[0m                 \u001b[0;31m# to ndarray and maybe infer different dtype\u001b[0m\u001b[0;34m\u001b[0m\u001b[0;34m\u001b[0m\u001b[0;34m\u001b[0m\u001b[0m\n\u001b[1;32m   4858\u001b[0m                 \u001b[0mlevel_values\u001b[0m \u001b[0;34m=\u001b[0m \u001b[0m_maybe_casted_values\u001b[0m\u001b[0;34m(\u001b[0m\u001b[0mlev\u001b[0m\u001b[0;34m,\u001b[0m \u001b[0mlab\u001b[0m\u001b[0;34m)\u001b[0m\u001b[0;34m\u001b[0m\u001b[0;34m\u001b[0m\u001b[0m\n\u001b[0;32m-> 4859\u001b[0;31m                 \u001b[0mnew_obj\u001b[0m\u001b[0;34m.\u001b[0m\u001b[0minsert\u001b[0m\u001b[0;34m(\u001b[0m\u001b[0;36m0\u001b[0m\u001b[0;34m,\u001b[0m \u001b[0mname\u001b[0m\u001b[0;34m,\u001b[0m \u001b[0mlevel_values\u001b[0m\u001b[0;34m)\u001b[0m\u001b[0;34m\u001b[0m\u001b[0;34m\u001b[0m\u001b[0m\n\u001b[0m\u001b[1;32m   4860\u001b[0m \u001b[0;34m\u001b[0m\u001b[0m\n\u001b[1;32m   4861\u001b[0m         \u001b[0mnew_obj\u001b[0m\u001b[0;34m.\u001b[0m\u001b[0mindex\u001b[0m \u001b[0;34m=\u001b[0m \u001b[0mnew_index\u001b[0m\u001b[0;34m\u001b[0m\u001b[0;34m\u001b[0m\u001b[0m\n",
            "\u001b[0;32m/usr/local/lib/python3.7/dist-packages/pandas/core/frame.py\u001b[0m in \u001b[0;36minsert\u001b[0;34m(self, loc, column, value, allow_duplicates)\u001b[0m\n\u001b[1;32m   3626\u001b[0m         \u001b[0mself\u001b[0m\u001b[0;34m.\u001b[0m\u001b[0m_ensure_valid_index\u001b[0m\u001b[0;34m(\u001b[0m\u001b[0mvalue\u001b[0m\u001b[0;34m)\u001b[0m\u001b[0;34m\u001b[0m\u001b[0;34m\u001b[0m\u001b[0m\n\u001b[1;32m   3627\u001b[0m         \u001b[0mvalue\u001b[0m \u001b[0;34m=\u001b[0m \u001b[0mself\u001b[0m\u001b[0;34m.\u001b[0m\u001b[0m_sanitize_column\u001b[0m\u001b[0;34m(\u001b[0m\u001b[0mcolumn\u001b[0m\u001b[0;34m,\u001b[0m \u001b[0mvalue\u001b[0m\u001b[0;34m,\u001b[0m \u001b[0mbroadcast\u001b[0m\u001b[0;34m=\u001b[0m\u001b[0;32mFalse\u001b[0m\u001b[0;34m)\u001b[0m\u001b[0;34m\u001b[0m\u001b[0;34m\u001b[0m\u001b[0m\n\u001b[0;32m-> 3628\u001b[0;31m         \u001b[0mself\u001b[0m\u001b[0;34m.\u001b[0m\u001b[0m_mgr\u001b[0m\u001b[0;34m.\u001b[0m\u001b[0minsert\u001b[0m\u001b[0;34m(\u001b[0m\u001b[0mloc\u001b[0m\u001b[0;34m,\u001b[0m \u001b[0mcolumn\u001b[0m\u001b[0;34m,\u001b[0m \u001b[0mvalue\u001b[0m\u001b[0;34m,\u001b[0m \u001b[0mallow_duplicates\u001b[0m\u001b[0;34m=\u001b[0m\u001b[0mallow_duplicates\u001b[0m\u001b[0;34m)\u001b[0m\u001b[0;34m\u001b[0m\u001b[0;34m\u001b[0m\u001b[0m\n\u001b[0m\u001b[1;32m   3629\u001b[0m \u001b[0;34m\u001b[0m\u001b[0m\n\u001b[1;32m   3630\u001b[0m     \u001b[0;32mdef\u001b[0m \u001b[0massign\u001b[0m\u001b[0;34m(\u001b[0m\u001b[0mself\u001b[0m\u001b[0;34m,\u001b[0m \u001b[0;34m**\u001b[0m\u001b[0mkwargs\u001b[0m\u001b[0;34m)\u001b[0m \u001b[0;34m->\u001b[0m \u001b[0;34m\"DataFrame\"\u001b[0m\u001b[0;34m:\u001b[0m\u001b[0;34m\u001b[0m\u001b[0;34m\u001b[0m\u001b[0m\n",
            "\u001b[0;32m/usr/local/lib/python3.7/dist-packages/pandas/core/internals/managers.py\u001b[0m in \u001b[0;36minsert\u001b[0;34m(self, loc, item, value, allow_duplicates)\u001b[0m\n\u001b[1;32m   1184\u001b[0m         \u001b[0;32mif\u001b[0m \u001b[0;32mnot\u001b[0m \u001b[0mallow_duplicates\u001b[0m \u001b[0;32mand\u001b[0m \u001b[0mitem\u001b[0m \u001b[0;32min\u001b[0m \u001b[0mself\u001b[0m\u001b[0;34m.\u001b[0m\u001b[0mitems\u001b[0m\u001b[0;34m:\u001b[0m\u001b[0;34m\u001b[0m\u001b[0;34m\u001b[0m\u001b[0m\n\u001b[1;32m   1185\u001b[0m             \u001b[0;31m# Should this be a different kind of error??\u001b[0m\u001b[0;34m\u001b[0m\u001b[0;34m\u001b[0m\u001b[0;34m\u001b[0m\u001b[0m\n\u001b[0;32m-> 1186\u001b[0;31m             \u001b[0;32mraise\u001b[0m \u001b[0mValueError\u001b[0m\u001b[0;34m(\u001b[0m\u001b[0;34mf\"cannot insert {item}, already exists\"\u001b[0m\u001b[0;34m)\u001b[0m\u001b[0;34m\u001b[0m\u001b[0;34m\u001b[0m\u001b[0m\n\u001b[0m\u001b[1;32m   1187\u001b[0m \u001b[0;34m\u001b[0m\u001b[0m\n\u001b[1;32m   1188\u001b[0m         \u001b[0;32mif\u001b[0m \u001b[0;32mnot\u001b[0m \u001b[0misinstance\u001b[0m\u001b[0;34m(\u001b[0m\u001b[0mloc\u001b[0m\u001b[0;34m,\u001b[0m \u001b[0mint\u001b[0m\u001b[0;34m)\u001b[0m\u001b[0;34m:\u001b[0m\u001b[0;34m\u001b[0m\u001b[0;34m\u001b[0m\u001b[0m\n",
            "\u001b[0;31mValueError\u001b[0m: cannot insert S.No, already exists"
          ]
        }
      ]
    },
    {
      "cell_type": "code",
      "metadata": {
        "id": "IqZVedzbtZgK"
      },
      "source": [
        "dummy.to_csv(\"submission.csv\", sep=',' ,index=False)"
      ],
      "execution_count": null,
      "outputs": []
    },
    {
      "cell_type": "code",
      "metadata": {
        "colab": {
          "base_uri": "https://localhost:8080/",
          "height": 131
        },
        "id": "T6wHACXlP03L",
        "outputId": "a0ceb382-a9ff-4628-fe93-0bf288c278dd"
      },
      "source": [
        "submit = False\n",
        "if submit:\n",
        "  kaggle competitions submit -c cropharvest-crop-detection -f submission.csv -m \"1st\""
      ],
      "execution_count": null,
      "outputs": [
        {
          "output_type": "error",
          "ename": "SyntaxError",
          "evalue": "ignored",
          "traceback": [
            "\u001b[0;36m  File \u001b[0;32m\"<ipython-input-107-4a6b3f979c69>\"\u001b[0;36m, line \u001b[0;32m3\u001b[0m\n\u001b[0;31m    kaggle competitions submit -c cropharvest-crop-detection -f submission.csv -m \"1st\"\u001b[0m\n\u001b[0m                      ^\u001b[0m\n\u001b[0;31mSyntaxError\u001b[0m\u001b[0;31m:\u001b[0m invalid syntax\n"
          ]
        }
      ]
    },
    {
      "cell_type": "markdown",
      "metadata": {
        "id": "CNCOqWwLKxE0"
      },
      "source": [
        "This submission file gives an accuracy of ... % at https://www.kaggle.com/c/cropharvest-crop-detection/submit"
      ]
    },
    {
      "cell_type": "code",
      "metadata": {
        "id": "Bp8vD8BSQLPn"
      },
      "source": [
        ""
      ],
      "execution_count": null,
      "outputs": []
    },
    {
      "cell_type": "markdown",
      "metadata": {
        "id": "lmpwV9vrSPuW"
      },
      "source": [
        "-------------------------------------------------------------------------"
      ]
    },
    {
      "cell_type": "markdown",
      "metadata": {
        "id": "HRSsknvHSVrT"
      },
      "source": [
        "### Neural Network"
      ]
    },
    {
      "cell_type": "code",
      "metadata": {
        "id": "oHXuap9eSSVr"
      },
      "source": [
        "# !nvidia-smi\n",
        "# !pip install \"wheel==0.34.2\"\n",
        "# !pip install \"scikit-learn==0.21.2\"\n",
        "# # http://pytorch.org/\n",
        "# from os.path import exists\n",
        "# from wheel.pep425tags import get_abbr_impl, get_impl_ver, get_abi_tag\n",
        "# platform = '{}{}-{}'.format(get_abbr_impl(), get_impl_ver(), get_abi_tag())\n",
        "# cuda_output = !ldconfig -p|grep cudart.so|sed -e 's/.*\\.\\([0-9]*\\)\\.\\([0-9]*\\)$/cu\\1\\2/'\n",
        "# accelerator = cuda_output[0] if exists('/dev/nvidia0') else 'cpu'\n",
        "# import torch\n",
        "# %pylab inline\n",
        "# print(torch.__version__)\n",
        "# device = torch.device('cuda:0') # we use 0 to specify the first GPU\n",
        "accelerator"
      ],
      "execution_count": null,
      "outputs": []
    },
    {
      "cell_type": "code",
      "metadata": {
        "id": "6YCt7JIyS_xo"
      },
      "source": [
        "!pip install keras"
      ],
      "execution_count": null,
      "outputs": []
    },
    {
      "cell_type": "code",
      "metadata": {
        "id": "qjc_Z85JTtHl"
      },
      "source": [
        "import keras"
      ],
      "execution_count": null,
      "outputs": []
    },
    {
      "cell_type": "code",
      "metadata": {
        "id": "I56NDMVYS5Nt"
      },
      "source": [
        "keras.backend.backend()"
      ],
      "execution_count": null,
      "outputs": []
    },
    {
      "cell_type": "code",
      "metadata": {
        "id": "8Y27GJNYToaY"
      },
      "source": [
        "# Prepare the dataset\n",
        "num_features = X_train.shape[1]\n",
        "num_features"
      ],
      "execution_count": null,
      "outputs": []
    },
    {
      "cell_type": "code",
      "metadata": {
        "id": "Qy7yRo6TZpQI"
      },
      "source": [
        "# define and fit the model\n",
        "def get_model(trainX, trainy):\n",
        "\t# define model\n",
        "\tmodel = Sequential()\n",
        "\tmodel.add(Dense(100, input_dim = trainX.shape, activation='relu'))\n",
        "\tmodel.add(Dense(1, activation='sigmoid'))\n",
        "\t# compile model\n",
        "\tmodel.compile(loss='binary_crossentropy', optimizer='adam', metrics=['accuracy'])\n",
        "\t# fit model\n",
        "\tmodel.fit(trainX, trainy, epochs=300, verbose=0)\n",
        "\treturn model"
      ],
      "execution_count": null,
      "outputs": []
    },
    {
      "cell_type": "code",
      "metadata": {
        "id": "vLVAwre8VZhb"
      },
      "source": [
        "# model creation\n",
        "# Define model\n",
        "model = Sequential()\n",
        "model.add(Dense(1, activation='linear', input_shape=(num_features,)))\n",
        "\n",
        "# View model\n",
        "model.summary()"
      ],
      "execution_count": null,
      "outputs": []
    }
  ]
}